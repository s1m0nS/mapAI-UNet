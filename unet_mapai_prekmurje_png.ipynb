{
 "cells": [
  {
   "cell_type": "markdown",
   "metadata": {},
   "source": [
    "### U-Net implementation for the MapAI dataset\n",
    "\n",
    "This is my own step-by-step implementation of U-Net"
   ]
  },
  {
   "cell_type": "code",
   "execution_count": 1,
   "metadata": {},
   "outputs": [],
   "source": [
    "# libraries\n",
    "\n",
    "import os\n",
    "os.environ['TF_CPP_MIN_LOG_LEVEL'] = '3' # ignore tensorflow warnings\n",
    "\n",
    "import tensorflow as tf\n",
    "\n",
    "import numpy as np\n",
    "import sys\n",
    "import random\n",
    "\n",
    "from tqdm import tqdm\n",
    "\n",
    "from skimage.io import imread, imshow\n",
    "from skimage.transform import resize\n",
    "\n",
    "import matplotlib.pyplot as plt\n",
    "\n",
    "# Define random seed\n",
    "seed = 42\n",
    "np.random.seed = seed\n"
   ]
  },
  {
   "cell_type": "markdown",
   "metadata": {},
   "source": [
    "### Part 1: Prepare dataset"
   ]
  },
  {
   "cell_type": "code",
   "execution_count": 2,
   "metadata": {},
   "outputs": [
    {
     "name": "stdout",
     "output_type": "stream",
     "text": [
      "Train folders:  ['images', 'masks']\n",
      "Validation folders:  ['images', 'masks']\n"
     ]
    }
   ],
   "source": [
    "# 1) Define image dimensions and specify data location\n",
    "\n",
    "img_width = 500\n",
    "img_height = 500\n",
    "img_channels = 3\n",
    "\n",
    "# path to mapai dataset\n",
    "train_path = '/home/shymon/data/prekmurje/train'\n",
    "val_path = '/home/shymon/data/prekmurje/val'\n",
    "\n",
    "# Get the list of the subfolders for train/val\n",
    "train_ids = next(os.walk(train_path))[1] \n",
    "val_ids = next(os.walk(val_path))[1]\n",
    "\n",
    "train_ids, val_ids\n",
    "\n",
    "print('Train folders: ', train_ids)\n",
    "print('Validation folders: ', val_ids)"
   ]
  },
  {
   "cell_type": "code",
   "execution_count": 3,
   "metadata": {},
   "outputs": [],
   "source": [
    "# Show some images\n",
    "\n",
    "from pathlib import Path\n",
    "from PIL import Image\n",
    "import numpy as np, pandas as  pd\n",
    "from ipywidgets import interact, interactive, IntSlider, Select, RadioButtons, fixed, BoundedIntText\n",
    "\n",
    "#### Plots ####\n",
    "\n",
    "def plot_image_and_masks_from_df(imgidx, df, figsize=6, with_segm=True):\n",
    "    imgfn = str(df.iloc[imgidx]['image'])\n",
    "    if with_segm:\n",
    "        maskfn = df.iloc[imgidx]['mask']\n",
    "    f, ax = plt.subplots(figsize=(figsize,figsize))\n",
    "    img = Image.open(imgfn)\n",
    "    ax.imshow(img)\n",
    "    if with_segm:\n",
    "        mask = Image.open(maskfn)\n",
    "        ax.imshow(mask, alpha=0.3)\n",
    "    imgid = imgfn.split(\"/\")[-1].split(\".\")[0]\n",
    "    imgsz = img.size\n",
    "    ax.set_title(f'{imgid}, {str(imgsz)}')\n",
    "    ax.set_axis_off()\n",
    "    return ax\n",
    "\n",
    "\n",
    "def plot_image_lidar_and_masks_from_df(imgidx, df, figsize=6, with_segm=True):\n",
    "    imgfn = str(df.iloc[imgidx]['image'])\n",
    "    lidarfn = str(df.iloc[imgidx]['lidar'])\n",
    "    if with_segm:\n",
    "        maskfn = df.iloc[imgidx]['mask']\n",
    "    f, ax = plt.subplots(1,2, figsize=(figsize,figsize))\n",
    "    img = Image.open(imgfn)\n",
    "    lidar = np.array(Image.open(lidarfn))\n",
    "    ax[0].imshow(img)\n",
    "    ax[1].imshow(img)\n",
    "    if with_segm:\n",
    "        mask = Image.open(maskfn)\n",
    "        ax[0].imshow(mask, alpha=0.3)\n",
    "        ax[1].imshow(lidar, alpha=0.3)\n",
    "    imgid = imgfn.split(\"/\")[-1].split(\".\")[0]\n",
    "    imgsz = img.size\n",
    "    ax[0].set_title(f'{imgid}, {str(imgsz)}')\n",
    "    ax[0].set_axis_off()\n",
    "    return ax"
   ]
  },
  {
   "cell_type": "code",
   "execution_count": 4,
   "metadata": {},
   "outputs": [
    {
     "data": {
      "text/html": [
       "<div>\n",
       "<style scoped>\n",
       "    .dataframe tbody tr th:only-of-type {\n",
       "        vertical-align: middle;\n",
       "    }\n",
       "\n",
       "    .dataframe tbody tr th {\n",
       "        vertical-align: top;\n",
       "    }\n",
       "\n",
       "    .dataframe thead th {\n",
       "        text-align: right;\n",
       "    }\n",
       "</style>\n",
       "<table border=\"1\" class=\"dataframe\">\n",
       "  <thead>\n",
       "    <tr style=\"text-align: right;\">\n",
       "      <th></th>\n",
       "      <th>image</th>\n",
       "      <th>lidar</th>\n",
       "      <th>mask</th>\n",
       "      <th>is_val</th>\n",
       "      <th>mask_percentage</th>\n",
       "      <th>is_building</th>\n",
       "    </tr>\n",
       "  </thead>\n",
       "  <tbody>\n",
       "    <tr>\n",
       "      <th>0</th>\n",
       "      <td>/home/shymon/data/mapai/train/images/6179_495_...</td>\n",
       "      <td>/home/shymon/data/mapai/train/lidar/6179_495_4...</td>\n",
       "      <td>/home/shymon/data/mapai/train/masks/6179_495_4...</td>\n",
       "      <td>False</td>\n",
       "      <td>0.155224</td>\n",
       "      <td>True</td>\n",
       "    </tr>\n",
       "    <tr>\n",
       "      <th>1</th>\n",
       "      <td>/home/shymon/data/mapai/train/images/6051_690_...</td>\n",
       "      <td>/home/shymon/data/mapai/train/lidar/6051_690_8...</td>\n",
       "      <td>/home/shymon/data/mapai/train/masks/6051_690_8...</td>\n",
       "      <td>False</td>\n",
       "      <td>0.000000</td>\n",
       "      <td>False</td>\n",
       "    </tr>\n",
       "    <tr>\n",
       "      <th>2</th>\n",
       "      <td>/home/shymon/data/mapai/train/images/6121_865_...</td>\n",
       "      <td>/home/shymon/data/mapai/train/lidar/6121_865_5...</td>\n",
       "      <td>/home/shymon/data/mapai/train/masks/6121_865_5...</td>\n",
       "      <td>False</td>\n",
       "      <td>0.017824</td>\n",
       "      <td>True</td>\n",
       "    </tr>\n",
       "    <tr>\n",
       "      <th>3</th>\n",
       "      <td>/home/shymon/data/mapai/train/images/6173_630_...</td>\n",
       "      <td>/home/shymon/data/mapai/train/lidar/6173_630_2...</td>\n",
       "      <td>/home/shymon/data/mapai/train/masks/6173_630_2...</td>\n",
       "      <td>False</td>\n",
       "      <td>0.000000</td>\n",
       "      <td>False</td>\n",
       "    </tr>\n",
       "    <tr>\n",
       "      <th>4</th>\n",
       "      <td>/home/shymon/data/mapai/train/images/6147_481_...</td>\n",
       "      <td>/home/shymon/data/mapai/train/lidar/6147_481_4...</td>\n",
       "      <td>/home/shymon/data/mapai/train/masks/6147_481_4...</td>\n",
       "      <td>False</td>\n",
       "      <td>0.182664</td>\n",
       "      <td>True</td>\n",
       "    </tr>\n",
       "  </tbody>\n",
       "</table>\n",
       "</div>"
      ],
      "text/plain": [
       "                                               image  \\\n",
       "0  /home/shymon/data/mapai/train/images/6179_495_...   \n",
       "1  /home/shymon/data/mapai/train/images/6051_690_...   \n",
       "2  /home/shymon/data/mapai/train/images/6121_865_...   \n",
       "3  /home/shymon/data/mapai/train/images/6173_630_...   \n",
       "4  /home/shymon/data/mapai/train/images/6147_481_...   \n",
       "\n",
       "                                               lidar  \\\n",
       "0  /home/shymon/data/mapai/train/lidar/6179_495_4...   \n",
       "1  /home/shymon/data/mapai/train/lidar/6051_690_8...   \n",
       "2  /home/shymon/data/mapai/train/lidar/6121_865_5...   \n",
       "3  /home/shymon/data/mapai/train/lidar/6173_630_2...   \n",
       "4  /home/shymon/data/mapai/train/lidar/6147_481_4...   \n",
       "\n",
       "                                                mask  is_val  mask_percentage  \\\n",
       "0  /home/shymon/data/mapai/train/masks/6179_495_4...   False         0.155224   \n",
       "1  /home/shymon/data/mapai/train/masks/6051_690_8...   False         0.000000   \n",
       "2  /home/shymon/data/mapai/train/masks/6121_865_5...   False         0.017824   \n",
       "3  /home/shymon/data/mapai/train/masks/6173_630_2...   False         0.000000   \n",
       "4  /home/shymon/data/mapai/train/masks/6147_481_4...   False         0.182664   \n",
       "\n",
       "   is_building  \n",
       "0         True  \n",
       "1        False  \n",
       "2         True  \n",
       "3        False  \n",
       "4         True  "
      ]
     },
     "execution_count": 4,
     "metadata": {},
     "output_type": "execute_result"
    }
   ],
   "source": [
    "# Path to pandas file with labels\n",
    "\n",
    "from pathlib import Path\n",
    "\n",
    "# Update this to wherever you want to store data\n",
    "DATADIR = Path(\"/home/shymon/data/mapai\") \n",
    "\n",
    "csv_path = \"/home/shymon/Documents/phd/03_CODE/LAB-Net/csv/train_val_original-2023-01-20.csv\"\n",
    "df = pd.read_csv(csv_path)\n",
    "\n",
    "def update_paths(path_str):\n",
    "    return path_str.replace(\"../../data\", str(DATADIR))\n",
    "\n",
    "df['image'] = df['image'].apply(update_paths)\n",
    "df['lidar'] = df['lidar'].apply(update_paths)\n",
    "df['mask'] = df['mask'].apply(update_paths)\n",
    "\n",
    "df.head()"
   ]
  },
  {
   "cell_type": "code",
   "execution_count": 10,
   "metadata": {},
   "outputs": [
    {
     "data": {
      "application/vnd.jupyter.widget-view+json": {
       "model_id": "f153186fb74f49e8ac9beccb7b90743b",
       "version_major": 2,
       "version_minor": 0
      },
      "text/plain": [
       "interactive(children=(BoundedIntText(value=0, description='imgidx', max=8499), BoundedIntText(value=4, descrip…"
      ]
     },
     "execution_count": 10,
     "metadata": {},
     "output_type": "execute_result"
    }
   ],
   "source": [
    "# Interactive plot\n",
    "interactive_plot = interactive(plot_image_and_masks_from_df, df=fixed(df),\n",
    "                            imgidx = BoundedIntText(min=0, max=len(df)-1, step=1, value=0),\n",
    "                               figsize = BoundedIntText(min=4, max=12, step=1, value=4),\n",
    "                               with_segm= RadioButtons(options=[True,False], value=True, \n",
    "                                                      description=\"With segmentation\"))\n",
    "\n",
    "output = interactive_plot.children[-1]\n",
    "\n",
    "# if i does not work, restart kernel\n",
    "interactive_plot"
   ]
  },
  {
   "cell_type": "markdown",
   "metadata": {},
   "source": [
    "### Part 2: Resizing training images\n",
    "\n",
    "1. Resizing images is a critical preprocessing step in computer vision. Machine learning models tran faster on smaller images.\n",
    "2. Images require normalization too. We need to divide the image matrix by dividing the pixel values by 256."
   ]
  },
  {
   "cell_type": "code",
   "execution_count": 11,
   "metadata": {},
   "outputs": [],
   "source": [
    "# Read all the images and resize them\n",
    "X_train = np.zeros((len(train_ids), img_height, img_width, img_channels), dtype=np.uint8)\n",
    "Y_train = np.zeros((len(train_ids), img_height, img_width, 1), dtype=np.bool_)"
   ]
  },
  {
   "cell_type": "markdown",
   "metadata": {},
   "source": [
    "### Part 3: Load and split data"
   ]
  },
  {
   "cell_type": "code",
   "execution_count": 13,
   "metadata": {},
   "outputs": [],
   "source": [
    "# 2) Start building UNet model\n",
    "# https://github.com/EhabR98/Image_segmentation_Unet-Tutorial\n",
    "\n",
    "import tensorflow as tf\n",
    "import numpy as np\n",
    "\n",
    "# from test_utils import summary, comparator # import error\n"
   ]
  },
  {
   "cell_type": "markdown",
   "metadata": {},
   "source": [
    "Convert images to tensors and apply normalization"
   ]
  },
  {
   "cell_type": "code",
   "execution_count": 14,
   "metadata": {},
   "outputs": [
    {
     "name": "stdout",
     "output_type": "stream",
     "text": [
      "# of images and masks:  8500 8500\n"
     ]
    }
   ],
   "source": [
    "df['image'] #, df['lidar'], df['mask']\n",
    "\n",
    "img_list_ds = tf.data.Dataset.list_files(df['image'], shuffle = False)\n",
    "mask_list_ds = tf.data.Dataset.list_files(df['mask'], shuffle = False)\n",
    "\n",
    "images_fnames = tf.constant(df['image'])\n",
    "masks_fnames = tf.constant(df['mask'])\n",
    "\n",
    "print('# of images and masks: ', len(images_fnames), len(masks_fnames)) "
   ]
  },
  {
   "cell_type": "code",
   "execution_count": 15,
   "metadata": {},
   "outputs": [
    {
     "name": "stdout",
     "output_type": "stream",
     "text": [
      "tf.Tensor(b'/home/shymon/data/mapai/train/images/6179_495_44.tif', shape=(), dtype=string)\n",
      "tf.Tensor(b'/home/shymon/data/mapai/train/masks/6179_495_44.tif', shape=(), dtype=string)\n"
     ]
    }
   ],
   "source": [
    "dataset = tf.data.Dataset.from_tensor_slices((images_fnames, masks_fnames))\n",
    "\n",
    "for image, mask in dataset.take(1):\n",
    "    print(image)\n",
    "    print(mask)\n"
   ]
  },
  {
   "cell_type": "markdown",
   "metadata": {},
   "source": [
    "#### Part 4: Preprocess the data\n",
    "\n",
    "Does resizing an image lead to loss of image quality?\n",
    "Yes, resizing images can lead to loss of image quality. This can happen because when you resize an image, you are essentially adding or removing pixels. If you are increasing the size of an image, you need to add pixels, which can cause the image to look blurry or pixelated. If you are decreasing the size of an image, you need to remove pixels, which can cause important details to be lost. The extent of the loss of quality depends on various factors such as the resizing algorithm used, the size of the change in the image dimensions, and the complexity of the image content. To minimize loss of image quality when resizing, you can use resizing algorithms that preserve the edges and details in the image, such as bicubic interpolation or Lanczos resampling."
   ]
  },
  {
   "cell_type": "code",
   "execution_count": 17,
   "metadata": {},
   "outputs": [
    {
     "data": {
      "text/plain": [
       "<MapDataset element_spec=(TensorSpec(shape=(256, 256, 3), dtype=tf.float32, name=None), TensorSpec(shape=(256, 256, 1), dtype=tf.float32, name=None))>"
      ]
     },
     "execution_count": 17,
     "metadata": {},
     "output_type": "execute_result"
    }
   ],
   "source": [
    "# Functions to decode images\n",
    "\n",
    "def process_path(image_path, mask_path):\n",
    "\n",
    "    # image\n",
    "    img = tf.io.read_file(image_path)\n",
    "    img = tf.image.decode_png(img, channels=3) # for png -> works\n",
    "    img = tf.image.convert_image_dtype(img, tf.float32)\n",
    "\n",
    "    # mask\n",
    "    mask = tf.io.read_file(mask_path)\n",
    "    mask = tf.image.decode_png(mask, channels=3)\n",
    "    mask = tf.math.reduce_max(mask, axis=-1, keepdims=True)\n",
    "    return img, mask\n",
    "\n",
    "# Question does U-Net need to have 128x128 input image size? No, images can be any size.\n",
    "# Question do we need to resize images? Images need be resized to a shape that can be divided by 32.\n",
    "# In our case this would be 480 or 512 to upsize, since input is 500 x 500.\n",
    "\n",
    "def preprocess(image, mask):\n",
    "    input_image = tf.image.resize(image, (256, 256), method='bicubic')\n",
    "    input_mask = tf.image.resize(mask, (256, 256), method='bicubic')\n",
    "\n",
    "    # normalization\n",
    "    input_image = input_image / 255.\n",
    "\n",
    "    return input_image, input_mask\n",
    "\n",
    "image_ds = dataset.map(process_path)\n",
    "process_image_ds = image_ds.map(preprocess)\n",
    "\n",
    "process_image_ds"
   ]
  },
  {
   "cell_type": "markdown",
   "metadata": {},
   "source": [
    "### Part 5: U-Net\n",
    "\n",
    "U-Net, named for its U-shape, was originally created in 2015 for tumor detection, but in the years since has become a very popular choice for other semantic segmentation tasks.\n",
    "\n",
    "U-Net builds on a previous architecture called the Fully Convolutional Network, or FCN, which replaces the dense layers found in a typical CNN with a transposed convolution layer that upsamples the feature map back to the size of the original input image, while preserving the spatial information. This is necessary because the dense layers destroy spatial information (the \"where\" of the image), which is an essential part of image segmentation tasks. An added bonus of using transpose convolutions is that the input size no longer needs to be fixed, as it does when dense layers are used.\n",
    "\n",
    "Unfortunately, the final feature layer of the FCN suffers from information loss due to downsampling too much. It then becomes difficult to upsample after so much information has been lost, causing an output that looks rough."
   ]
  },
  {
   "cell_type": "code",
   "execution_count": 18,
   "metadata": {},
   "outputs": [],
   "source": [
    "# UNet implementation\n",
    "# https://github.com/bnsreenu/python_for_image_processing_APEER/blob/master/tutorial118_binary_semantic_segmentation_using_unet.ipynb\n",
    "\n",
    "from tensorflow.keras.layers import Input\n",
    "from tensorflow.keras.layers import Conv2D\n",
    "from tensorflow.keras.layers import MaxPooling2D\n",
    "from tensorflow.keras.layers import Dropout \n",
    "from tensorflow.keras.layers import Conv2DTranspose\n",
    "from tensorflow.keras.layers import concatenate\n",
    "\n",
    "from keras.models import Model\n",
    "from keras.layers import Input, Conv2D, MaxPooling2D, UpSampling2D, concatenate, Conv2DTranspose, BatchNormalization, Dropout, Lambda\n",
    "from keras.optimizers import Adam\n",
    "from keras.layers import Activation, MaxPool2D, Concatenate\n",
    "\n",
    "\n",
    "def conv_block(input, num_filters):\n",
    "    x = Conv2D(num_filters, 3, padding=\"same\")(input)\n",
    "    x = BatchNormalization()(x)   #Not in the original network. \n",
    "    x = Activation(\"relu\")(x)\n",
    "\n",
    "    x = Conv2D(num_filters, 3, padding=\"same\")(x)\n",
    "    x = BatchNormalization()(x)  #Not in the original network\n",
    "    x = Activation(\"relu\")(x)\n",
    "\n",
    "    return x\n",
    "\n",
    "#Encoder block: Conv block followed by maxpooling\n",
    "\n",
    "def encoder_block(input, num_filters):\n",
    "    x = conv_block(input, num_filters)\n",
    "    p = MaxPool2D((2, 2))(x)\n",
    "    return x, p   \n",
    "\n",
    "#Decoder block\n",
    "#skip features gets input from encoder for concatenation\n",
    "\n",
    "def decoder_block(input, skip_features, num_filters):\n",
    "    x = Conv2DTranspose(num_filters, (2, 2), strides=2, padding=\"same\")(input)\n",
    "    x = Concatenate()([x, skip_features])\n",
    "    x = conv_block(x, num_filters)\n",
    "    return x\n",
    "\n",
    "#Build Unet using the blocks\n",
    "def build_unet(input_shape, n_classes):\n",
    "    inputs = Input(input_shape)\n",
    "\n",
    "    s1, p1 = encoder_block(inputs, 64)\n",
    "    s2, p2 = encoder_block(p1, 128)\n",
    "    s3, p3 = encoder_block(p2, 256)\n",
    "    s4, p4 = encoder_block(p3, 512)\n",
    "\n",
    "    b1 = conv_block(p4, 1024) #Bridge\n",
    "\n",
    "    d1 = decoder_block(b1, s4, 512)\n",
    "    d2 = decoder_block(d1, s3, 256)\n",
    "    d3 = decoder_block(d2, s2, 128)\n",
    "    d4 = decoder_block(d3, s1, 64)\n",
    "\n",
    "    if n_classes == 1:  #Binary\n",
    "      activation = 'sigmoid'\n",
    "    else:\n",
    "      activation = 'softmax'\n",
    "\n",
    "    outputs = Conv2D(n_classes, 1, padding=\"same\", activation=activation)(d4)  #Change the activation based on n_classes\n",
    "    print(activation)\n",
    "\n",
    "    model = Model(inputs, outputs, name=\"U-Net\")\n",
    "    return model"
   ]
  },
  {
   "cell_type": "code",
   "execution_count": 19,
   "metadata": {},
   "outputs": [
    {
     "data": {
      "text/plain": [
       "(256, 256, 3)"
      ]
     },
     "execution_count": 19,
     "metadata": {},
     "output_type": "execute_result"
    }
   ],
   "source": [
    "# Define input shape\n",
    "\n",
    "img_height, img_width, img_channels = (256, 256, 3)\n",
    "\n",
    "input_shape = (img_height, img_width, img_channels)\n",
    "img_height, img_width, img_channels"
   ]
  },
  {
   "cell_type": "code",
   "execution_count": 20,
   "metadata": {},
   "outputs": [
    {
     "name": "stdout",
     "output_type": "stream",
     "text": [
      "0\n",
      "32\n",
      "64\n",
      "96\n",
      "128\n",
      "160\n",
      "192\n",
      "224\n",
      "256\n",
      "288\n",
      "320\n",
      "352\n",
      "384\n",
      "416\n",
      "448\n",
      "480\n"
     ]
    }
   ],
   "source": [
    "# find out which image size do we need as input\n",
    "# Answer: 480\n",
    "\n",
    "for i in range(0,512):\n",
    "    #print(i)\n",
    "    if i % 32 == 0:\n",
    "        print(i)\n"
   ]
  },
  {
   "cell_type": "code",
   "execution_count": 22,
   "metadata": {},
   "outputs": [
    {
     "name": "stdout",
     "output_type": "stream",
     "text": [
      "sigmoid\n",
      "Model: \"U-Net\"\n",
      "__________________________________________________________________________________________________\n",
      " Layer (type)                   Output Shape         Param #     Connected to                     \n",
      "==================================================================================================\n",
      " input_2 (InputLayer)           [(None, 256, 256, 3  0           []                               \n",
      "                                )]                                                                \n",
      "                                                                                                  \n",
      " conv2d_19 (Conv2D)             (None, 256, 256, 64  1792        ['input_2[0][0]']                \n",
      "                                )                                                                 \n",
      "                                                                                                  \n",
      " batch_normalization_18 (BatchN  (None, 256, 256, 64  256        ['conv2d_19[0][0]']              \n",
      " ormalization)                  )                                                                 \n",
      "                                                                                                  \n",
      " activation_18 (Activation)     (None, 256, 256, 64  0           ['batch_normalization_18[0][0]'] \n",
      "                                )                                                                 \n",
      "                                                                                                  \n",
      " conv2d_20 (Conv2D)             (None, 256, 256, 64  36928       ['activation_18[0][0]']          \n",
      "                                )                                                                 \n",
      "                                                                                                  \n",
      " batch_normalization_19 (BatchN  (None, 256, 256, 64  256        ['conv2d_20[0][0]']              \n",
      " ormalization)                  )                                                                 \n",
      "                                                                                                  \n",
      " activation_19 (Activation)     (None, 256, 256, 64  0           ['batch_normalization_19[0][0]'] \n",
      "                                )                                                                 \n",
      "                                                                                                  \n",
      " max_pooling2d_4 (MaxPooling2D)  (None, 128, 128, 64  0          ['activation_19[0][0]']          \n",
      "                                )                                                                 \n",
      "                                                                                                  \n",
      " conv2d_21 (Conv2D)             (None, 128, 128, 12  73856       ['max_pooling2d_4[0][0]']        \n",
      "                                8)                                                                \n",
      "                                                                                                  \n",
      " batch_normalization_20 (BatchN  (None, 128, 128, 12  512        ['conv2d_21[0][0]']              \n",
      " ormalization)                  8)                                                                \n",
      "                                                                                                  \n",
      " activation_20 (Activation)     (None, 128, 128, 12  0           ['batch_normalization_20[0][0]'] \n",
      "                                8)                                                                \n",
      "                                                                                                  \n",
      " conv2d_22 (Conv2D)             (None, 128, 128, 12  147584      ['activation_20[0][0]']          \n",
      "                                8)                                                                \n",
      "                                                                                                  \n",
      " batch_normalization_21 (BatchN  (None, 128, 128, 12  512        ['conv2d_22[0][0]']              \n",
      " ormalization)                  8)                                                                \n",
      "                                                                                                  \n",
      " activation_21 (Activation)     (None, 128, 128, 12  0           ['batch_normalization_21[0][0]'] \n",
      "                                8)                                                                \n",
      "                                                                                                  \n",
      " max_pooling2d_5 (MaxPooling2D)  (None, 64, 64, 128)  0          ['activation_21[0][0]']          \n",
      "                                                                                                  \n",
      " conv2d_23 (Conv2D)             (None, 64, 64, 256)  295168      ['max_pooling2d_5[0][0]']        \n",
      "                                                                                                  \n",
      " batch_normalization_22 (BatchN  (None, 64, 64, 256)  1024       ['conv2d_23[0][0]']              \n",
      " ormalization)                                                                                    \n",
      "                                                                                                  \n",
      " activation_22 (Activation)     (None, 64, 64, 256)  0           ['batch_normalization_22[0][0]'] \n",
      "                                                                                                  \n",
      " conv2d_24 (Conv2D)             (None, 64, 64, 256)  590080      ['activation_22[0][0]']          \n",
      "                                                                                                  \n",
      " batch_normalization_23 (BatchN  (None, 64, 64, 256)  1024       ['conv2d_24[0][0]']              \n",
      " ormalization)                                                                                    \n",
      "                                                                                                  \n",
      " activation_23 (Activation)     (None, 64, 64, 256)  0           ['batch_normalization_23[0][0]'] \n",
      "                                                                                                  \n",
      " max_pooling2d_6 (MaxPooling2D)  (None, 32, 32, 256)  0          ['activation_23[0][0]']          \n",
      "                                                                                                  \n",
      " conv2d_25 (Conv2D)             (None, 32, 32, 512)  1180160     ['max_pooling2d_6[0][0]']        \n",
      "                                                                                                  \n",
      " batch_normalization_24 (BatchN  (None, 32, 32, 512)  2048       ['conv2d_25[0][0]']              \n",
      " ormalization)                                                                                    \n",
      "                                                                                                  \n",
      " activation_24 (Activation)     (None, 32, 32, 512)  0           ['batch_normalization_24[0][0]'] \n",
      "                                                                                                  \n",
      " conv2d_26 (Conv2D)             (None, 32, 32, 512)  2359808     ['activation_24[0][0]']          \n",
      "                                                                                                  \n",
      " batch_normalization_25 (BatchN  (None, 32, 32, 512)  2048       ['conv2d_26[0][0]']              \n",
      " ormalization)                                                                                    \n",
      "                                                                                                  \n",
      " activation_25 (Activation)     (None, 32, 32, 512)  0           ['batch_normalization_25[0][0]'] \n",
      "                                                                                                  \n",
      " max_pooling2d_7 (MaxPooling2D)  (None, 16, 16, 512)  0          ['activation_25[0][0]']          \n",
      "                                                                                                  \n",
      " conv2d_27 (Conv2D)             (None, 16, 16, 1024  4719616     ['max_pooling2d_7[0][0]']        \n",
      "                                )                                                                 \n",
      "                                                                                                  \n",
      " batch_normalization_26 (BatchN  (None, 16, 16, 1024  4096       ['conv2d_27[0][0]']              \n",
      " ormalization)                  )                                                                 \n",
      "                                                                                                  \n",
      " activation_26 (Activation)     (None, 16, 16, 1024  0           ['batch_normalization_26[0][0]'] \n",
      "                                )                                                                 \n",
      "                                                                                                  \n",
      " conv2d_28 (Conv2D)             (None, 16, 16, 1024  9438208     ['activation_26[0][0]']          \n",
      "                                )                                                                 \n",
      "                                                                                                  \n",
      " batch_normalization_27 (BatchN  (None, 16, 16, 1024  4096       ['conv2d_28[0][0]']              \n",
      " ormalization)                  )                                                                 \n",
      "                                                                                                  \n",
      " activation_27 (Activation)     (None, 16, 16, 1024  0           ['batch_normalization_27[0][0]'] \n",
      "                                )                                                                 \n",
      "                                                                                                  \n",
      " conv2d_transpose_4 (Conv2DTran  (None, 32, 32, 512)  2097664    ['activation_27[0][0]']          \n",
      " spose)                                                                                           \n",
      "                                                                                                  \n",
      " concatenate_4 (Concatenate)    (None, 32, 32, 1024  0           ['conv2d_transpose_4[0][0]',     \n",
      "                                )                                 'activation_25[0][0]']          \n",
      "                                                                                                  \n",
      " conv2d_29 (Conv2D)             (None, 32, 32, 512)  4719104     ['concatenate_4[0][0]']          \n",
      "                                                                                                  \n",
      " batch_normalization_28 (BatchN  (None, 32, 32, 512)  2048       ['conv2d_29[0][0]']              \n",
      " ormalization)                                                                                    \n",
      "                                                                                                  \n",
      " activation_28 (Activation)     (None, 32, 32, 512)  0           ['batch_normalization_28[0][0]'] \n",
      "                                                                                                  \n",
      " conv2d_30 (Conv2D)             (None, 32, 32, 512)  2359808     ['activation_28[0][0]']          \n",
      "                                                                                                  \n",
      " batch_normalization_29 (BatchN  (None, 32, 32, 512)  2048       ['conv2d_30[0][0]']              \n",
      " ormalization)                                                                                    \n",
      "                                                                                                  \n",
      " activation_29 (Activation)     (None, 32, 32, 512)  0           ['batch_normalization_29[0][0]'] \n",
      "                                                                                                  \n",
      " conv2d_transpose_5 (Conv2DTran  (None, 64, 64, 256)  524544     ['activation_29[0][0]']          \n",
      " spose)                                                                                           \n",
      "                                                                                                  \n",
      " concatenate_5 (Concatenate)    (None, 64, 64, 512)  0           ['conv2d_transpose_5[0][0]',     \n",
      "                                                                  'activation_23[0][0]']          \n",
      "                                                                                                  \n",
      " conv2d_31 (Conv2D)             (None, 64, 64, 256)  1179904     ['concatenate_5[0][0]']          \n",
      "                                                                                                  \n",
      " batch_normalization_30 (BatchN  (None, 64, 64, 256)  1024       ['conv2d_31[0][0]']              \n",
      " ormalization)                                                                                    \n",
      "                                                                                                  \n",
      " activation_30 (Activation)     (None, 64, 64, 256)  0           ['batch_normalization_30[0][0]'] \n",
      "                                                                                                  \n",
      " conv2d_32 (Conv2D)             (None, 64, 64, 256)  590080      ['activation_30[0][0]']          \n",
      "                                                                                                  \n",
      " batch_normalization_31 (BatchN  (None, 64, 64, 256)  1024       ['conv2d_32[0][0]']              \n",
      " ormalization)                                                                                    \n",
      "                                                                                                  \n",
      " activation_31 (Activation)     (None, 64, 64, 256)  0           ['batch_normalization_31[0][0]'] \n",
      "                                                                                                  \n",
      " conv2d_transpose_6 (Conv2DTran  (None, 128, 128, 12  131200     ['activation_31[0][0]']          \n",
      " spose)                         8)                                                                \n",
      "                                                                                                  \n",
      " concatenate_6 (Concatenate)    (None, 128, 128, 25  0           ['conv2d_transpose_6[0][0]',     \n",
      "                                6)                                'activation_21[0][0]']          \n",
      "                                                                                                  \n",
      " conv2d_33 (Conv2D)             (None, 128, 128, 12  295040      ['concatenate_6[0][0]']          \n",
      "                                8)                                                                \n",
      "                                                                                                  \n",
      " batch_normalization_32 (BatchN  (None, 128, 128, 12  512        ['conv2d_33[0][0]']              \n",
      " ormalization)                  8)                                                                \n",
      "                                                                                                  \n",
      " activation_32 (Activation)     (None, 128, 128, 12  0           ['batch_normalization_32[0][0]'] \n",
      "                                8)                                                                \n",
      "                                                                                                  \n",
      " conv2d_34 (Conv2D)             (None, 128, 128, 12  147584      ['activation_32[0][0]']          \n",
      "                                8)                                                                \n",
      "                                                                                                  \n",
      " batch_normalization_33 (BatchN  (None, 128, 128, 12  512        ['conv2d_34[0][0]']              \n",
      " ormalization)                  8)                                                                \n",
      "                                                                                                  \n",
      " activation_33 (Activation)     (None, 128, 128, 12  0           ['batch_normalization_33[0][0]'] \n",
      "                                8)                                                                \n",
      "                                                                                                  \n",
      " conv2d_transpose_7 (Conv2DTran  (None, 256, 256, 64  32832      ['activation_33[0][0]']          \n",
      " spose)                         )                                                                 \n",
      "                                                                                                  \n",
      " concatenate_7 (Concatenate)    (None, 256, 256, 12  0           ['conv2d_transpose_7[0][0]',     \n",
      "                                8)                                'activation_19[0][0]']          \n",
      "                                                                                                  \n",
      " conv2d_35 (Conv2D)             (None, 256, 256, 64  73792       ['concatenate_7[0][0]']          \n",
      "                                )                                                                 \n",
      "                                                                                                  \n",
      " batch_normalization_34 (BatchN  (None, 256, 256, 64  256        ['conv2d_35[0][0]']              \n",
      " ormalization)                  )                                                                 \n",
      "                                                                                                  \n",
      " activation_34 (Activation)     (None, 256, 256, 64  0           ['batch_normalization_34[0][0]'] \n",
      "                                )                                                                 \n",
      "                                                                                                  \n",
      " conv2d_36 (Conv2D)             (None, 256, 256, 64  36928       ['activation_34[0][0]']          \n",
      "                                )                                                                 \n",
      "                                                                                                  \n",
      " batch_normalization_35 (BatchN  (None, 256, 256, 64  256        ['conv2d_36[0][0]']              \n",
      " ormalization)                  )                                                                 \n",
      "                                                                                                  \n",
      " activation_35 (Activation)     (None, 256, 256, 64  0           ['batch_normalization_35[0][0]'] \n",
      "                                )                                                                 \n",
      "                                                                                                  \n",
      " conv2d_37 (Conv2D)             (None, 256, 256, 1)  65          ['activation_35[0][0]']          \n",
      "                                                                                                  \n",
      "==================================================================================================\n",
      "Total params: 31,055,297\n",
      "Trainable params: 31,043,521\n",
      "Non-trainable params: 11,776\n",
      "__________________________________________________________________________________________________\n"
     ]
    }
   ],
   "source": [
    "# Compile U-Net\n",
    "model = build_unet(input_shape, n_classes=1)\n",
    "model.compile(optimizer=Adam(learning_rate = 1e-2), loss='binary_crossentropy', metrics=['accuracy'])\n",
    "model.summary()\n",
    "\n",
    "# ValueError: A `Concatenate` layer requires inputs with matching shapes except for the concatenation axis. Received: input_shape=[(None, 124, 124, 256), (None, 125, 125, 256)]\n",
    "# https://github.com/qubvel/segmentation_models/issues/1\n",
    "# Solution: Height and width of input images should be divisible by 32 for all models"
   ]
  },
  {
   "cell_type": "code",
   "execution_count": 24,
   "metadata": {},
   "outputs": [],
   "source": [
    "# Loss function\n",
    "model.compile(optimizer='adam', loss=tf.keras.losses.BinaryCrossentropy(from_logits=False),metrics=['accuracy'])"
   ]
  },
  {
   "cell_type": "code",
   "execution_count": 25,
   "metadata": {},
   "outputs": [
    {
     "name": "stdout",
     "output_type": "stream",
     "text": [
      "You must install pydot (`pip install pydot`) and install graphviz (see instructions at https://graphviz.gitlab.io/download/) for plot_model to work.\n"
     ]
    }
   ],
   "source": [
    "# Plot model\n",
    "\n",
    "# If you want to plot model install following libraries\n",
    "# !pip install pydot\n",
    "# !pip install graphviz\n",
    "# sudo apt install graphviz\n",
    "\n",
    "# Plot model\n",
    "tf.keras.utils.plot_model(model, \"model.png\", show_shapes=False, show_dtype=False, show_layer_names=True, rankdir='TB', expand_nested=False, dpi=96)"
   ]
  },
  {
   "cell_type": "code",
   "execution_count": 26,
   "metadata": {},
   "outputs": [
    {
     "name": "stdout",
     "output_type": "stream",
     "text": [
      "(TensorSpec(shape=(256, 256, 3), dtype=tf.float32, name=None), TensorSpec(shape=(256, 256, 1), dtype=tf.float32, name=None))\n",
      "Epoch 1/5\n"
     ]
    },
    {
     "ename": "InvalidArgumentError",
     "evalue": "Graph execution error:\n\n2 root error(s) found.\n  (0) INVALID_ARGUMENT:  Unknown image file format. One of JPEG, PNG, GIF, BMP required.\n\t [[{{node DecodePng_1}}]]\n\t [[IteratorGetNext]]\n\t [[IteratorGetNext/_2]]\n  (1) INVALID_ARGUMENT:  Unknown image file format. One of JPEG, PNG, GIF, BMP required.\n\t [[{{node DecodePng_1}}]]\n\t [[IteratorGetNext]]\n0 successful operations.\n0 derived errors ignored. [Op:__inference_train_function_10763]",
     "output_type": "error",
     "traceback": [
      "\u001b[0;31m---------------------------------------------------------------------------\u001b[0m",
      "\u001b[0;31mInvalidArgumentError\u001b[0m                      Traceback (most recent call last)",
      "\u001b[1;32m/home/shymon/Documents/phd/03_CODE/mapAI-UNet/unet_mapai_png.ipynb Cell 24\u001b[0m in \u001b[0;36m<cell line: 13>\u001b[0;34m()\u001b[0m\n\u001b[1;32m     <a href='vscode-notebook-cell:/home/shymon/Documents/phd/03_CODE/mapAI-UNet/unet_mapai_png.ipynb#X34sZmlsZQ%3D%3D?line=9'>10</a>\u001b[0m train_dataset \u001b[39m=\u001b[39m process_image_ds\u001b[39m.\u001b[39mcache()\u001b[39m.\u001b[39mshuffle(BUFFER_SIZE)\u001b[39m.\u001b[39mbatch(BATCH_SIZE)\n\u001b[1;32m     <a href='vscode-notebook-cell:/home/shymon/Documents/phd/03_CODE/mapAI-UNet/unet_mapai_png.ipynb#X34sZmlsZQ%3D%3D?line=10'>11</a>\u001b[0m \u001b[39mprint\u001b[39m(process_image_ds\u001b[39m.\u001b[39melement_spec)\n\u001b[0;32m---> <a href='vscode-notebook-cell:/home/shymon/Documents/phd/03_CODE/mapAI-UNet/unet_mapai_png.ipynb#X34sZmlsZQ%3D%3D?line=12'>13</a>\u001b[0m model_history \u001b[39m=\u001b[39m model\u001b[39m.\u001b[39;49mfit(train_dataset, epochs\u001b[39m=\u001b[39;49mEPOCHS)\n",
      "File \u001b[0;32m~/anaconda3/envs/tf/lib/python3.9/site-packages/keras/utils/traceback_utils.py:70\u001b[0m, in \u001b[0;36mfilter_traceback.<locals>.error_handler\u001b[0;34m(*args, **kwargs)\u001b[0m\n\u001b[1;32m     67\u001b[0m     filtered_tb \u001b[39m=\u001b[39m _process_traceback_frames(e\u001b[39m.\u001b[39m__traceback__)\n\u001b[1;32m     68\u001b[0m     \u001b[39m# To get the full stack trace, call:\u001b[39;00m\n\u001b[1;32m     69\u001b[0m     \u001b[39m# `tf.debugging.disable_traceback_filtering()`\u001b[39;00m\n\u001b[0;32m---> 70\u001b[0m     \u001b[39mraise\u001b[39;00m e\u001b[39m.\u001b[39mwith_traceback(filtered_tb) \u001b[39mfrom\u001b[39;00m \u001b[39mNone\u001b[39m\n\u001b[1;32m     71\u001b[0m \u001b[39mfinally\u001b[39;00m:\n\u001b[1;32m     72\u001b[0m     \u001b[39mdel\u001b[39;00m filtered_tb\n",
      "File \u001b[0;32m~/anaconda3/envs/tf/lib/python3.9/site-packages/tensorflow/python/eager/execute.py:52\u001b[0m, in \u001b[0;36mquick_execute\u001b[0;34m(op_name, num_outputs, inputs, attrs, ctx, name)\u001b[0m\n\u001b[1;32m     50\u001b[0m \u001b[39mtry\u001b[39;00m:\n\u001b[1;32m     51\u001b[0m   ctx\u001b[39m.\u001b[39mensure_initialized()\n\u001b[0;32m---> 52\u001b[0m   tensors \u001b[39m=\u001b[39m pywrap_tfe\u001b[39m.\u001b[39mTFE_Py_Execute(ctx\u001b[39m.\u001b[39m_handle, device_name, op_name,\n\u001b[1;32m     53\u001b[0m                                       inputs, attrs, num_outputs)\n\u001b[1;32m     54\u001b[0m \u001b[39mexcept\u001b[39;00m core\u001b[39m.\u001b[39m_NotOkStatusException \u001b[39mas\u001b[39;00m e:\n\u001b[1;32m     55\u001b[0m   \u001b[39mif\u001b[39;00m name \u001b[39mis\u001b[39;00m \u001b[39mnot\u001b[39;00m \u001b[39mNone\u001b[39;00m:\n",
      "\u001b[0;31mInvalidArgumentError\u001b[0m: Graph execution error:\n\n2 root error(s) found.\n  (0) INVALID_ARGUMENT:  Unknown image file format. One of JPEG, PNG, GIF, BMP required.\n\t [[{{node DecodePng_1}}]]\n\t [[IteratorGetNext]]\n\t [[IteratorGetNext/_2]]\n  (1) INVALID_ARGUMENT:  Unknown image file format. One of JPEG, PNG, GIF, BMP required.\n\t [[{{node DecodePng_1}}]]\n\t [[IteratorGetNext]]\n0 successful operations.\n0 derived errors ignored. [Op:__inference_train_function_10763]"
     ]
    },
    {
     "ename": "",
     "evalue": "",
     "output_type": "error",
     "traceback": [
      "\u001b[1;31mThe Kernel crashed while executing code in the the current cell or a previous cell. Please review the code in the cell(s) to identify a possible cause of the failure. Click <a href='https://aka.ms/vscodeJupyterKernelCrash'>here</a> for more info. View Jupyter <a href='command:jupyter.viewOutput'>log</a> for further details."
     ]
    }
   ],
   "source": [
    "# Train model\n",
    "# Requires tif file format\n",
    "\n",
    "EPOCHS = 5\n",
    "VAL_SUBSPLITS = 5\n",
    "BUFFER_SIZE = 850 # https://stackoverflow.com/questions/64372390/what-does-buffer-size-do-in-tensorflow-dataset-shuffling\n",
    "BATCH_SIZE = 2\n",
    "process_image_ds.batch(BATCH_SIZE)\n",
    "\n",
    "train_dataset = process_image_ds.cache().shuffle(BUFFER_SIZE).batch(BATCH_SIZE)\n",
    "print(process_image_ds.element_spec)\n",
    "\n",
    "model_history = model.fit(train_dataset, epochs=EPOCHS)"
   ]
  },
  {
   "cell_type": "code",
   "execution_count": null,
   "metadata": {},
   "outputs": [],
   "source": []
  }
 ],
 "metadata": {
  "kernelspec": {
   "display_name": "tf",
   "language": "python",
   "name": "tf"
  },
  "language_info": {
   "codemirror_mode": {
    "name": "ipython",
    "version": 3
   },
   "file_extension": ".py",
   "mimetype": "text/x-python",
   "name": "python",
   "nbconvert_exporter": "python",
   "pygments_lexer": "ipython3",
   "version": "3.9.16"
  },
  "vscode": {
   "interpreter": {
    "hash": "1fbb5181ef0f8b108572537263a3b8da81dbe66f2ac86d8e5730a4770eab3e79"
   }
  }
 },
 "nbformat": 4,
 "nbformat_minor": 2
}
