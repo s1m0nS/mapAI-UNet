{
 "cells": [
  {
   "cell_type": "markdown",
   "id": "c657c9b1",
   "metadata": {},
   "source": [
    "### Binary semantic segmentation example using U-Net\n",
    "\n",
    "https://github.com/bnsreenu/python_for_image_processing_APEER/blob/master/tutorial118_binary_semantic_segmentation_using_unet.ipynb"
   ]
  },
  {
   "cell_type": "code",
   "execution_count": null,
   "id": "a8e8a9f6",
   "metadata": {},
   "outputs": [],
   "source": [
    "# Libraries\n",
    "\n",
    "import os\n",
    "os.environ['TF_CPP_MIN_LOG_LEVEL'] = '3' # ignore tensorflow warnings\n",
    "os.environ['TF_FORCE_GPU_ALLOW_GROWTH'] = 'true' # allow GPU memory growth\n",
    "\n",
    "import glob\n",
    "\n",
    "import cv2\n",
    "from PIL import Image\n",
    "\n",
    "import numpy as np\n",
    "from matplotlib import pyplot as plt\n",
    "\n",
    "from tensorflow.keras.utils import normalize\n",
    "from sklearn.preprocessing import MinMaxScaler\n",
    "from keras.optimizers import Adam"
   ]
  },
  {
   "cell_type": "code",
   "execution_count": null,
   "id": "0a78c221",
   "metadata": {},
   "outputs": [],
   "source": [
    "# Configure paths\n",
    "\n",
    "img_dir = '/home/shymon/data/prekmurje/train/images'\n",
    "mask_dir = '/home/shymon/data/prekmurje/train/masks'"
   ]
  },
  {
   "cell_type": "code",
   "execution_count": null,
   "id": "f0c0f468",
   "metadata": {},
   "outputs": [],
   "source": [
    "SIZE = 128\n",
    "num_images = 46440"
   ]
  },
  {
   "cell_type": "markdown",
   "id": "5b62c047",
   "metadata": {},
   "source": [
    "#### Load images and masks in order so they match."
   ]
  },
  {
   "cell_type": "markdown",
   "id": "b114a83b",
   "metadata": {},
   "source": [
    "#### IMAGES"
   ]
  },
  {
   "cell_type": "code",
   "execution_count": null,
   "id": "c7ab864e",
   "metadata": {},
   "outputs": [],
   "source": [
    "image_names = glob.glob('/home/shymon/data/prekmurje/train/images/*.png')\n",
    "\n",
    "# Create subset\n",
    "image_names_subset = image_names[0:num_images]\n",
    "# Read each subset with cv2\n",
    "images = [cv2.imread(img, 0) for img in image_names_subset]\n",
    "# Create dataset\n",
    "image_dataset = np.array(images)\n",
    "image_dataset = np.expand_dims(image_dataset, axis = 3)\n",
    "\n",
    "print(len(image_dataset))"
   ]
  },
  {
   "cell_type": "markdown",
   "id": "7f71a4ac",
   "metadata": {},
   "source": [
    "#### MASKS"
   ]
  },
  {
   "cell_type": "code",
   "execution_count": null,
   "id": "fa17c5fc",
   "metadata": {},
   "outputs": [],
   "source": [
    "mask_names = glob.glob('/home/shymon/data/prekmurje/train/masks/*.png')\n",
    "mask_names.sort()\n",
    "mask_names_subset = mask_names[0:num_images]\n",
    "masks = [cv2.imread(mask, 0) for mask in mask_names_subset]\n",
    "mask_dataset = np.array(masks)\n",
    "mask_dataset = np.expand_dims(mask_dataset, axis = 3)\n",
    "\n",
    "print(len(mask_dataset))"
   ]
  },
  {
   "cell_type": "markdown",
   "id": "43c8cdea",
   "metadata": {},
   "source": [
    "#### Print properties of images"
   ]
  },
  {
   "cell_type": "code",
   "execution_count": null,
   "id": "02cc1ff9",
   "metadata": {},
   "outputs": [],
   "source": [
    "print(\"Image data shape is: \", image_dataset.shape)\n",
    "print(\"Mask data shape is: \", mask_dataset.shape)\n",
    "print(\"Max pixel value in image is: \", image_dataset.max())\n",
    "print(\"Labels in the mask are : \", np.unique(mask_dataset))"
   ]
  },
  {
   "cell_type": "markdown",
   "id": "9f672d14",
   "metadata": {},
   "source": [
    "#### Normalize images"
   ]
  },
  {
   "cell_type": "code",
   "execution_count": null,
   "id": "06394c42",
   "metadata": {},
   "outputs": [],
   "source": [
    "# kernel dies\n",
    "\n",
    "image_dataset = image_dataset /255.  #Can also normalize or scale using MinMax scaler\n",
    "\n",
    "#Do not normalize masks, just rescale to 0 to 1.\n",
    "mask_dataset = mask_dataset /255.  #PIxel values will be 0 or 1"
   ]
  },
  {
   "cell_type": "code",
   "execution_count": null,
   "id": "679b4a0d",
   "metadata": {},
   "outputs": [],
   "source": [
    "# \n",
    "print(len(image_dataset), len(mask_dataset))"
   ]
  },
  {
   "cell_type": "markdown",
   "id": "63b78112",
   "metadata": {},
   "source": [
    "#### Perform train/test split"
   ]
  },
  {
   "cell_type": "code",
   "execution_count": null,
   "id": "69916a23",
   "metadata": {},
   "outputs": [],
   "source": [
    "# kernel dies\n",
    "\n",
    "from sklearn.model_selection import train_test_split\n",
    "X_train, X_test, y_train, y_test = train_test_split(image_dataset, mask_dataset, test_size = 0.20, random_state = 42)"
   ]
  },
  {
   "cell_type": "markdown",
   "id": "d2ca990f",
   "metadata": {},
   "source": [
    "#### Randomly view some images"
   ]
  },
  {
   "cell_type": "code",
   "execution_count": null,
   "id": "87d1c7a6",
   "metadata": {},
   "outputs": [],
   "source": [
    "import random\n",
    "\n",
    "image_number = random.randint(0, len(X_train)-1)\n",
    "plt.figure(figsize=(12, 6))\n",
    "plt.subplot(121)\n",
    "plt.imshow(X_train[image_number,:,:,0], cmap='gray')\n",
    "plt.subplot(122)\n",
    "plt.imshow(y_train[image_number,:,:,0], cmap='gray')\n",
    "plt.show()"
   ]
  },
  {
   "cell_type": "markdown",
   "id": "30a46860",
   "metadata": {},
   "source": [
    "### U-Net\n"
   ]
  },
  {
   "cell_type": "code",
   "execution_count": null,
   "id": "e5601e44",
   "metadata": {},
   "outputs": [],
   "source": [
    "# Building Unet by dividing encoder and decoder into blocks\n",
    "\n",
    "from keras.models import Model\n",
    "from keras.layers import Input, Conv2D, MaxPooling2D, UpSampling2D, concatenate, Conv2DTranspose, BatchNormalization, Dropout, Lambda\n",
    "from keras.optimizers import Adam\n",
    "from keras.layers import Activation, MaxPool2D, Concatenate\n",
    "\n",
    "\n",
    "def conv_block(input, num_filters):\n",
    "    x = Conv2D(num_filters, 3, padding=\"same\")(input)\n",
    "    x = BatchNormalization()(x)   #Not in the original network. \n",
    "    x = Activation(\"relu\")(x)\n",
    "\n",
    "    x = Conv2D(num_filters, 3, padding=\"same\")(x)\n",
    "    x = BatchNormalization()(x)  #Not in the original network\n",
    "    x = Activation(\"relu\")(x)\n",
    "\n",
    "    return x\n",
    "\n",
    "#Encoder block: Conv block followed by maxpooling\n",
    "\n",
    "\n",
    "def encoder_block(input, num_filters):\n",
    "    x = conv_block(input, num_filters)\n",
    "    p = MaxPool2D((2, 2))(x)\n",
    "    return x, p   \n",
    "\n",
    "#Decoder block\n",
    "#skip features gets input from encoder for concatenation\n",
    "\n",
    "def decoder_block(input, skip_features, num_filters):\n",
    "    x = Conv2DTranspose(num_filters, (2, 2), strides=2, padding=\"same\")(input)\n",
    "    x = Concatenate()([x, skip_features])\n",
    "    x = conv_block(x, num_filters)\n",
    "    return x\n",
    "\n",
    "#Build Unet using the blocks\n",
    "def build_unet(input_shape, n_classes):\n",
    "    inputs = Input(input_shape)\n",
    "\n",
    "    s1, p1 = encoder_block(inputs, 64)\n",
    "    s2, p2 = encoder_block(p1, 128)\n",
    "    s3, p3 = encoder_block(p2, 256)\n",
    "    s4, p4 = encoder_block(p3, 512)\n",
    "\n",
    "    b1 = conv_block(p4, 1024) #Bridge\n",
    "\n",
    "    d1 = decoder_block(b1, s4, 512)\n",
    "    d2 = decoder_block(d1, s3, 256)\n",
    "    d3 = decoder_block(d2, s2, 128)\n",
    "    d4 = decoder_block(d3, s1, 64)\n",
    "\n",
    "    if n_classes == 1:  #Binary\n",
    "      activation = 'sigmoid'\n",
    "    else:\n",
    "      activation = 'softmax'\n",
    "\n",
    "    outputs = Conv2D(n_classes, 1, padding=\"same\", activation=activation)(d4)  #Change the activation based on n_classes\n",
    "    print(activation)\n",
    "\n",
    "    model = Model(inputs, outputs, name=\"U-Net\")\n",
    "    return model"
   ]
  }
 ],
 "metadata": {
  "kernelspec": {
   "display_name": "tf",
   "language": "python",
   "name": "tf"
  },
  "language_info": {
   "codemirror_mode": {
    "name": "ipython",
    "version": 3
   },
   "file_extension": ".py",
   "mimetype": "text/x-python",
   "name": "python",
   "nbconvert_exporter": "python",
   "pygments_lexer": "ipython3",
   "version": "3.9.16"
  }
 },
 "nbformat": 4,
 "nbformat_minor": 5
}
