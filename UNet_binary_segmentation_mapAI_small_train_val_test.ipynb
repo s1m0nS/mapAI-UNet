{
  "cells": [
    {
      "cell_type": "markdown",
      "metadata": {
        "id": "view-in-github",
        "colab_type": "text"
      },
      "source": [
        "<a href=\"https://colab.research.google.com/github/s1m0nS/mapAI-UNet/blob/main/UNet_binary_segmentation_mapAI_small_train_val_test.ipynb\" target=\"_parent\"><img src=\"https://colab.research.google.com/assets/colab-badge.svg\" alt=\"Open In Colab\"/></a>"
      ]
    },
    {
      "cell_type": "markdown",
      "metadata": {
        "id": "c657c9b1"
      },
      "source": [
        "### Binary semantic segmentation example using U-Net\n",
        "\n",
        "https://github.com/bnsreenu/python_for_image_processing_APEER/blob/master/tutorial118_binary_semantic_segmentation_using_unet.ipynb"
      ],
      "id": "c657c9b1"
    },
    {
      "cell_type": "code",
      "execution_count": 1,
      "metadata": {
        "colab": {
          "base_uri": "https://localhost:8080/"
        },
        "id": "a8e8a9f6",
        "outputId": "5b4f0612-2114-48ad-807a-8f88a66ce510"
      },
      "outputs": [
        {
          "output_type": "stream",
          "name": "stdout",
          "text": [
            "\n",
            "\n",
            "\n",
            "[name: \"/device:CPU:0\"\n",
            "device_type: \"CPU\"\n",
            "memory_limit: 268435456\n",
            "locality {\n",
            "}\n",
            "incarnation: 6206422141771181225\n",
            "xla_global_id: -1\n",
            "]\n"
          ]
        }
      ],
      "source": [
        "# Libraries\n",
        "\n",
        "# Change runtime type in Colab\n",
        "\n",
        "import os\n",
        "os.environ['TF_CPP_MIN_LOG_LEVEL'] = '3' # ignore tensorflow warnings\n",
        "os.environ['TF_FORCE_GPU_ALLOW_GROWTH'] = 'true' # allow GPU memory growth\n",
        "\n",
        "import glob\n",
        "\n",
        "import cv2\n",
        "from PIL import Image\n",
        "\n",
        "import numpy as np\n",
        "from matplotlib import pyplot as pltd\n",
        "\n",
        "from keras.utils import normalize\n",
        "from sklearn.preprocessing import MinMaxScaler\n",
        "from keras.optimizers import Adam\n",
        "\n",
        "import tensorflow as tf\n",
        "print(tf.test.gpu_device_name())\n",
        "print('\\n')\n",
        "\n",
        "from tensorflow.python.client import device_lib\n",
        "print(device_lib.list_local_devices())"
      ],
      "id": "a8e8a9f6"
    },
    {
      "cell_type": "code",
      "execution_count": 2,
      "metadata": {
        "colab": {
          "base_uri": "https://localhost:8080/"
        },
        "id": "i8HIq9kwLuy6",
        "outputId": "5a3a9756-db60-482d-ff3e-74afba854aa2"
      },
      "outputs": [
        {
          "output_type": "stream",
          "name": "stdout",
          "text": [
            "Drive already mounted at /content/drive/; to attempt to forcibly remount, call drive.mount(\"/content/drive/\", force_remount=True).\n"
          ]
        }
      ],
      "source": [
        "# Mount Google Drive\n",
        "from google.colab import drive\n",
        "drive.mount('/content/drive/')"
      ],
      "id": "i8HIq9kwLuy6"
    },
    {
      "cell_type": "code",
      "execution_count": 3,
      "metadata": {
        "id": "3FcP1IjpLpcr"
      },
      "outputs": [],
      "source": [
        "# Unzip dataset --> run only in Colab\n",
        "import zipfile\n",
        "\n",
        "mapai_zip = '/content/drive/MyDrive/datasets/mapai_small.zip'\n",
        "zip_ref = zipfile.ZipFile(mapai_zip, 'r')\n",
        "zip_ref.extractall(\"/tmp\") # extracting dataset to tmp folder\n",
        "zip_ref.close()"
      ],
      "id": "3FcP1IjpLpcr"
    },
    {
      "cell_type": "markdown",
      "metadata": {
        "id": "mGuQ7uygOB4b"
      },
      "source": [
        "# Re-run from here after first run! "
      ],
      "id": "mGuQ7uygOB4b"
    },
    {
      "cell_type": "code",
      "execution_count": 4,
      "metadata": {
        "id": "0a78c221"
      },
      "outputs": [],
      "source": [
        "# Configure paths\n",
        "\n",
        "# training set\n",
        "train_img_dir = '/tmp/mapai_small/train/images'\n",
        "train_mask_dir = '/tmp/mapai_small/train/masks'\n",
        "\n",
        "# validation set\n",
        "val_img_dir = '/tmp/mapai_small/val/images'\n",
        "val_mask_dir = '/tmp/mapai_small/val/masks'\n",
        "\n",
        "# validation set\n",
        "test_img_dir = '/tmp/mapai_small/test/images'\n",
        "test_mask_dir = '/tmp/mapai_small/test/masks'\n",
        "\n",
        "# parameters\n",
        "SIZE = 500\n",
        "train_num_images = 800\n",
        "val_num_images = 200\n",
        "test_num_images = 250"
      ],
      "id": "0a78c221"
    },
    {
      "cell_type": "markdown",
      "metadata": {
        "id": "agpGFNUVAyuk"
      },
      "source": [
        "### Prepare data\n",
        "https://github.com/HVL-ML/LAB-Net/blob/master/nbs/00a_mapai_prepare_data.ipynb"
      ],
      "id": "agpGFNUVAyuk"
    },
    {
      "cell_type": "code",
      "execution_count": 5,
      "metadata": {
        "id": "w3EC82s3AyGK"
      },
      "outputs": [],
      "source": [
        "#!pip install datasets\n",
        "#from datasets import load_dataset\n",
        "\n",
        "from pathlib import Path\n",
        "import shutil\n",
        "import pandas as pd\n",
        "import datetime\n",
        "\n",
        "from PIL import Image\n",
        "import numpy as np, matplotlib.pyplot as plt\n",
        "import skimage\n",
        "\n",
        "### Analyze buildings ###\n",
        "def get_building_percentage(maskfn, plot=False):\n",
        "    mask = Image.open(maskfn)\n",
        "    if plot: \n",
        "        plt.imshow(mask)\n",
        "        plt.axis('off')\n",
        "        plt.show()\n",
        "    total_area = np.prod(mask.size)\n",
        "    mask_percentage = (np.sum(mask)/total_area)\n",
        "    return mask_percentage\n",
        "\n",
        "def count_buildings(maskfn, plot=False):\n",
        "    mask = Image.open(maskfn)\n",
        "    if plot: \n",
        "        plt.imshow(mask)\n",
        "        plt.axis('off')\n",
        "        plt.show()\n",
        "    return len(np.unique(skimage.measure.label(np.array(mask))))-1"
      ],
      "id": "w3EC82s3AyGK"
    },
    {
      "cell_type": "markdown",
      "metadata": {
        "id": "2CuUZoT9E7Dn"
      },
      "source": [
        "### TRAIN IMAGES"
      ],
      "id": "2CuUZoT9E7Dn"
    },
    {
      "cell_type": "code",
      "execution_count": 6,
      "metadata": {
        "colab": {
          "base_uri": "https://localhost:8080/"
        },
        "id": "Q3amWwQCD_uK",
        "outputId": "de80c9c0-c8a5-45e7-b8a6-d2500817ae87"
      },
      "outputs": [
        {
          "output_type": "stream",
          "name": "stdout",
          "text": [
            "800\n"
          ]
        }
      ],
      "source": [
        "train_image_names = glob.glob('/tmp/mapai_small/train/images/*.png')\n",
        "train_image_names.sort()\n",
        "train_image_names_subset = train_image_names[0:train_num_images]\n",
        "train_images = [cv2.imread(img, 0) for img in train_image_names_subset]\n",
        "train_image_dataset = np.array(train_images)\n",
        "train_image_dataset = np.expand_dims(train_image_dataset, axis = 3)\n",
        "\n",
        "print(len(train_image_names))"
      ],
      "id": "Q3amWwQCD_uK"
    },
    {
      "cell_type": "markdown",
      "metadata": {
        "id": "YhgeLmulG2NZ"
      },
      "source": [
        "### TRAIN MASKS"
      ],
      "id": "YhgeLmulG2NZ"
    },
    {
      "cell_type": "code",
      "execution_count": 7,
      "metadata": {
        "colab": {
          "base_uri": "https://localhost:8080/"
        },
        "id": "iYqLzTE6G0RO",
        "outputId": "628e9959-f8ec-4495-8b74-f9605e444cb6"
      },
      "outputs": [
        {
          "output_type": "stream",
          "name": "stdout",
          "text": [
            "800\n"
          ]
        }
      ],
      "source": [
        "train_mask_names = glob.glob('/tmp/mapai_small/train/masks/*.png')\n",
        "train_mask_names.sort()\n",
        "train_mask_names_subset = train_mask_names[0:train_num_images]\n",
        "train_masks = [cv2.imread(mask, 0) for mask in train_mask_names_subset]\n",
        "train_mask_dataset = np.array(train_masks)\n",
        "train_mask_dataset = np.expand_dims(train_mask_dataset, axis = 3)\n",
        "\n",
        "print(len(train_mask_names))"
      ],
      "id": "iYqLzTE6G0RO"
    },
    {
      "cell_type": "markdown",
      "metadata": {
        "id": "ZJqJLZuoGmk2"
      },
      "source": [
        "#### Print properties of train images\n"
      ],
      "id": "ZJqJLZuoGmk2"
    },
    {
      "cell_type": "code",
      "execution_count": 8,
      "metadata": {
        "colab": {
          "base_uri": "https://localhost:8080/"
        },
        "id": "spHmEoYBGlp3",
        "outputId": "42805691-2638-48b5-af90-0ea70284264c"
      },
      "outputs": [
        {
          "output_type": "stream",
          "name": "stdout",
          "text": [
            "Image data shape is:  (800, 500, 500, 1)\n",
            "Mask data shape is:  (800, 500, 500, 1)\n",
            "Max pixel value in image is:  255\n",
            "Labels in the mask are :  [  0 255]\n"
          ]
        }
      ],
      "source": [
        "print(\"Image data shape is: \", train_image_dataset.shape)\n",
        "print(\"Mask data shape is: \", train_mask_dataset.shape)\n",
        "print(\"Max pixel value in image is: \", train_image_dataset.max())\n",
        "print(\"Labels in the mask are : \", np.unique(train_mask_dataset))"
      ],
      "id": "spHmEoYBGlp3"
    },
    {
      "cell_type": "code",
      "execution_count": 9,
      "metadata": {
        "colab": {
          "base_uri": "https://localhost:8080/",
          "height": 206
        },
        "id": "rJrE5biBCSJl",
        "outputId": "fd63cbf6-11f4-4496-a492-feff18f16ef6"
      },
      "outputs": [
        {
          "output_type": "execute_result",
          "data": {
            "text/plain": [
              "                                           image  \\\n",
              "0   /tmp/mapai_small/train/images/6051_689_0.png   \n",
              "1  /tmp/mapai_small/train/images/6051_689_38.png   \n",
              "2   /tmp/mapai_small/train/images/6051_689_4.png   \n",
              "3  /tmp/mapai_small/train/images/6051_689_42.png   \n",
              "4  /tmp/mapai_small/train/images/6051_689_44.png   \n",
              "\n",
              "                                           mask  is_val  \n",
              "0   /tmp/mapai_small/train/masks/6051_689_0.png   False  \n",
              "1  /tmp/mapai_small/train/masks/6051_689_38.png   False  \n",
              "2   /tmp/mapai_small/train/masks/6051_689_4.png   False  \n",
              "3  /tmp/mapai_small/train/masks/6051_689_42.png   False  \n",
              "4  /tmp/mapai_small/train/masks/6051_689_44.png   False  "
            ],
            "text/html": [
              "\n",
              "  <div id=\"df-1d1b0a4c-af9e-4ecc-8113-8a4ec573d2c4\">\n",
              "    <div class=\"colab-df-container\">\n",
              "      <div>\n",
              "<style scoped>\n",
              "    .dataframe tbody tr th:only-of-type {\n",
              "        vertical-align: middle;\n",
              "    }\n",
              "\n",
              "    .dataframe tbody tr th {\n",
              "        vertical-align: top;\n",
              "    }\n",
              "\n",
              "    .dataframe thead th {\n",
              "        text-align: right;\n",
              "    }\n",
              "</style>\n",
              "<table border=\"1\" class=\"dataframe\">\n",
              "  <thead>\n",
              "    <tr style=\"text-align: right;\">\n",
              "      <th></th>\n",
              "      <th>image</th>\n",
              "      <th>mask</th>\n",
              "      <th>is_val</th>\n",
              "    </tr>\n",
              "  </thead>\n",
              "  <tbody>\n",
              "    <tr>\n",
              "      <th>0</th>\n",
              "      <td>/tmp/mapai_small/train/images/6051_689_0.png</td>\n",
              "      <td>/tmp/mapai_small/train/masks/6051_689_0.png</td>\n",
              "      <td>False</td>\n",
              "    </tr>\n",
              "    <tr>\n",
              "      <th>1</th>\n",
              "      <td>/tmp/mapai_small/train/images/6051_689_38.png</td>\n",
              "      <td>/tmp/mapai_small/train/masks/6051_689_38.png</td>\n",
              "      <td>False</td>\n",
              "    </tr>\n",
              "    <tr>\n",
              "      <th>2</th>\n",
              "      <td>/tmp/mapai_small/train/images/6051_689_4.png</td>\n",
              "      <td>/tmp/mapai_small/train/masks/6051_689_4.png</td>\n",
              "      <td>False</td>\n",
              "    </tr>\n",
              "    <tr>\n",
              "      <th>3</th>\n",
              "      <td>/tmp/mapai_small/train/images/6051_689_42.png</td>\n",
              "      <td>/tmp/mapai_small/train/masks/6051_689_42.png</td>\n",
              "      <td>False</td>\n",
              "    </tr>\n",
              "    <tr>\n",
              "      <th>4</th>\n",
              "      <td>/tmp/mapai_small/train/images/6051_689_44.png</td>\n",
              "      <td>/tmp/mapai_small/train/masks/6051_689_44.png</td>\n",
              "      <td>False</td>\n",
              "    </tr>\n",
              "  </tbody>\n",
              "</table>\n",
              "</div>\n",
              "      <button class=\"colab-df-convert\" onclick=\"convertToInteractive('df-1d1b0a4c-af9e-4ecc-8113-8a4ec573d2c4')\"\n",
              "              title=\"Convert this dataframe to an interactive table.\"\n",
              "              style=\"display:none;\">\n",
              "        \n",
              "  <svg xmlns=\"http://www.w3.org/2000/svg\" height=\"24px\"viewBox=\"0 0 24 24\"\n",
              "       width=\"24px\">\n",
              "    <path d=\"M0 0h24v24H0V0z\" fill=\"none\"/>\n",
              "    <path d=\"M18.56 5.44l.94 2.06.94-2.06 2.06-.94-2.06-.94-.94-2.06-.94 2.06-2.06.94zm-11 1L8.5 8.5l.94-2.06 2.06-.94-2.06-.94L8.5 2.5l-.94 2.06-2.06.94zm10 10l.94 2.06.94-2.06 2.06-.94-2.06-.94-.94-2.06-.94 2.06-2.06.94z\"/><path d=\"M17.41 7.96l-1.37-1.37c-.4-.4-.92-.59-1.43-.59-.52 0-1.04.2-1.43.59L10.3 9.45l-7.72 7.72c-.78.78-.78 2.05 0 2.83L4 21.41c.39.39.9.59 1.41.59.51 0 1.02-.2 1.41-.59l7.78-7.78 2.81-2.81c.8-.78.8-2.07 0-2.86zM5.41 20L4 18.59l7.72-7.72 1.47 1.35L5.41 20z\"/>\n",
              "  </svg>\n",
              "      </button>\n",
              "      \n",
              "  <style>\n",
              "    .colab-df-container {\n",
              "      display:flex;\n",
              "      flex-wrap:wrap;\n",
              "      gap: 12px;\n",
              "    }\n",
              "\n",
              "    .colab-df-convert {\n",
              "      background-color: #E8F0FE;\n",
              "      border: none;\n",
              "      border-radius: 50%;\n",
              "      cursor: pointer;\n",
              "      display: none;\n",
              "      fill: #1967D2;\n",
              "      height: 32px;\n",
              "      padding: 0 0 0 0;\n",
              "      width: 32px;\n",
              "    }\n",
              "\n",
              "    .colab-df-convert:hover {\n",
              "      background-color: #E2EBFA;\n",
              "      box-shadow: 0px 1px 2px rgba(60, 64, 67, 0.3), 0px 1px 3px 1px rgba(60, 64, 67, 0.15);\n",
              "      fill: #174EA6;\n",
              "    }\n",
              "\n",
              "    [theme=dark] .colab-df-convert {\n",
              "      background-color: #3B4455;\n",
              "      fill: #D2E3FC;\n",
              "    }\n",
              "\n",
              "    [theme=dark] .colab-df-convert:hover {\n",
              "      background-color: #434B5C;\n",
              "      box-shadow: 0px 1px 3px 1px rgba(0, 0, 0, 0.15);\n",
              "      filter: drop-shadow(0px 1px 2px rgba(0, 0, 0, 0.3));\n",
              "      fill: #FFFFFF;\n",
              "    }\n",
              "  </style>\n",
              "\n",
              "      <script>\n",
              "        const buttonEl =\n",
              "          document.querySelector('#df-1d1b0a4c-af9e-4ecc-8113-8a4ec573d2c4 button.colab-df-convert');\n",
              "        buttonEl.style.display =\n",
              "          google.colab.kernel.accessAllowed ? 'block' : 'none';\n",
              "\n",
              "        async function convertToInteractive(key) {\n",
              "          const element = document.querySelector('#df-1d1b0a4c-af9e-4ecc-8113-8a4ec573d2c4');\n",
              "          const dataTable =\n",
              "            await google.colab.kernel.invokeFunction('convertToInteractive',\n",
              "                                                     [key], {});\n",
              "          if (!dataTable) return;\n",
              "\n",
              "          const docLinkHtml = 'Like what you see? Visit the ' +\n",
              "            '<a target=\"_blank\" href=https://colab.research.google.com/notebooks/data_table.ipynb>data table notebook</a>'\n",
              "            + ' to learn more about interactive tables.';\n",
              "          element.innerHTML = '';\n",
              "          dataTable['output_type'] = 'display_data';\n",
              "          await google.colab.output.renderOutput(dataTable, element);\n",
              "          const docLink = document.createElement('div');\n",
              "          docLink.innerHTML = docLinkHtml;\n",
              "          element.appendChild(docLink);\n",
              "        }\n",
              "      </script>\n",
              "    </div>\n",
              "  </div>\n",
              "  "
            ]
          },
          "metadata": {},
          "execution_count": 9
        }
      ],
      "source": [
        "# Store train images/masks in dictionary amd create dataframe\n",
        "\n",
        "# mapAI\n",
        "#train_data = {'image': train['image'], 'lidar': train['lidar'], 'mask': train['mask'], 'is_val':False}\n",
        "train_data = {'image': train_image_names, 'mask': train_mask_names, 'is_val': False}\n",
        "\n",
        "# Create dataframe from dictionary\n",
        "train_df = pd.DataFrame.from_dict(train_data)\n",
        "train_df.head()"
      ],
      "id": "rJrE5biBCSJl"
    },
    {
      "cell_type": "markdown",
      "metadata": {
        "id": "C0HutCFZHKGh"
      },
      "source": [
        "#### Calculate building mask percentage"
      ],
      "id": "C0HutCFZHKGh"
    },
    {
      "cell_type": "code",
      "execution_count": 10,
      "metadata": {
        "colab": {
          "base_uri": "https://localhost:8080/",
          "height": 206
        },
        "id": "pZWzdHk9HGkI",
        "outputId": "04a1a9f1-997a-467d-f38b-b6704d00eeae"
      },
      "outputs": [
        {
          "output_type": "execute_result",
          "data": {
            "text/plain": [
              "                                           image  \\\n",
              "0   /tmp/mapai_small/train/images/6051_689_0.png   \n",
              "1  /tmp/mapai_small/train/images/6051_689_38.png   \n",
              "2   /tmp/mapai_small/train/images/6051_689_4.png   \n",
              "3  /tmp/mapai_small/train/images/6051_689_42.png   \n",
              "4  /tmp/mapai_small/train/images/6051_689_44.png   \n",
              "\n",
              "                                           mask  is_val  mask_percentage  \n",
              "0   /tmp/mapai_small/train/masks/6051_689_0.png   False         20.70600  \n",
              "1  /tmp/mapai_small/train/masks/6051_689_38.png   False          6.37296  \n",
              "2   /tmp/mapai_small/train/masks/6051_689_4.png   False         44.64234  \n",
              "3  /tmp/mapai_small/train/masks/6051_689_42.png   False          4.77564  \n",
              "4  /tmp/mapai_small/train/masks/6051_689_44.png   False         47.96142  "
            ],
            "text/html": [
              "\n",
              "  <div id=\"df-bccbfb2a-1eb9-4bd1-9a0a-256a782d4788\">\n",
              "    <div class=\"colab-df-container\">\n",
              "      <div>\n",
              "<style scoped>\n",
              "    .dataframe tbody tr th:only-of-type {\n",
              "        vertical-align: middle;\n",
              "    }\n",
              "\n",
              "    .dataframe tbody tr th {\n",
              "        vertical-align: top;\n",
              "    }\n",
              "\n",
              "    .dataframe thead th {\n",
              "        text-align: right;\n",
              "    }\n",
              "</style>\n",
              "<table border=\"1\" class=\"dataframe\">\n",
              "  <thead>\n",
              "    <tr style=\"text-align: right;\">\n",
              "      <th></th>\n",
              "      <th>image</th>\n",
              "      <th>mask</th>\n",
              "      <th>is_val</th>\n",
              "      <th>mask_percentage</th>\n",
              "    </tr>\n",
              "  </thead>\n",
              "  <tbody>\n",
              "    <tr>\n",
              "      <th>0</th>\n",
              "      <td>/tmp/mapai_small/train/images/6051_689_0.png</td>\n",
              "      <td>/tmp/mapai_small/train/masks/6051_689_0.png</td>\n",
              "      <td>False</td>\n",
              "      <td>20.70600</td>\n",
              "    </tr>\n",
              "    <tr>\n",
              "      <th>1</th>\n",
              "      <td>/tmp/mapai_small/train/images/6051_689_38.png</td>\n",
              "      <td>/tmp/mapai_small/train/masks/6051_689_38.png</td>\n",
              "      <td>False</td>\n",
              "      <td>6.37296</td>\n",
              "    </tr>\n",
              "    <tr>\n",
              "      <th>2</th>\n",
              "      <td>/tmp/mapai_small/train/images/6051_689_4.png</td>\n",
              "      <td>/tmp/mapai_small/train/masks/6051_689_4.png</td>\n",
              "      <td>False</td>\n",
              "      <td>44.64234</td>\n",
              "    </tr>\n",
              "    <tr>\n",
              "      <th>3</th>\n",
              "      <td>/tmp/mapai_small/train/images/6051_689_42.png</td>\n",
              "      <td>/tmp/mapai_small/train/masks/6051_689_42.png</td>\n",
              "      <td>False</td>\n",
              "      <td>4.77564</td>\n",
              "    </tr>\n",
              "    <tr>\n",
              "      <th>4</th>\n",
              "      <td>/tmp/mapai_small/train/images/6051_689_44.png</td>\n",
              "      <td>/tmp/mapai_small/train/masks/6051_689_44.png</td>\n",
              "      <td>False</td>\n",
              "      <td>47.96142</td>\n",
              "    </tr>\n",
              "  </tbody>\n",
              "</table>\n",
              "</div>\n",
              "      <button class=\"colab-df-convert\" onclick=\"convertToInteractive('df-bccbfb2a-1eb9-4bd1-9a0a-256a782d4788')\"\n",
              "              title=\"Convert this dataframe to an interactive table.\"\n",
              "              style=\"display:none;\">\n",
              "        \n",
              "  <svg xmlns=\"http://www.w3.org/2000/svg\" height=\"24px\"viewBox=\"0 0 24 24\"\n",
              "       width=\"24px\">\n",
              "    <path d=\"M0 0h24v24H0V0z\" fill=\"none\"/>\n",
              "    <path d=\"M18.56 5.44l.94 2.06.94-2.06 2.06-.94-2.06-.94-.94-2.06-.94 2.06-2.06.94zm-11 1L8.5 8.5l.94-2.06 2.06-.94-2.06-.94L8.5 2.5l-.94 2.06-2.06.94zm10 10l.94 2.06.94-2.06 2.06-.94-2.06-.94-.94-2.06-.94 2.06-2.06.94z\"/><path d=\"M17.41 7.96l-1.37-1.37c-.4-.4-.92-.59-1.43-.59-.52 0-1.04.2-1.43.59L10.3 9.45l-7.72 7.72c-.78.78-.78 2.05 0 2.83L4 21.41c.39.39.9.59 1.41.59.51 0 1.02-.2 1.41-.59l7.78-7.78 2.81-2.81c.8-.78.8-2.07 0-2.86zM5.41 20L4 18.59l7.72-7.72 1.47 1.35L5.41 20z\"/>\n",
              "  </svg>\n",
              "      </button>\n",
              "      \n",
              "  <style>\n",
              "    .colab-df-container {\n",
              "      display:flex;\n",
              "      flex-wrap:wrap;\n",
              "      gap: 12px;\n",
              "    }\n",
              "\n",
              "    .colab-df-convert {\n",
              "      background-color: #E8F0FE;\n",
              "      border: none;\n",
              "      border-radius: 50%;\n",
              "      cursor: pointer;\n",
              "      display: none;\n",
              "      fill: #1967D2;\n",
              "      height: 32px;\n",
              "      padding: 0 0 0 0;\n",
              "      width: 32px;\n",
              "    }\n",
              "\n",
              "    .colab-df-convert:hover {\n",
              "      background-color: #E2EBFA;\n",
              "      box-shadow: 0px 1px 2px rgba(60, 64, 67, 0.3), 0px 1px 3px 1px rgba(60, 64, 67, 0.15);\n",
              "      fill: #174EA6;\n",
              "    }\n",
              "\n",
              "    [theme=dark] .colab-df-convert {\n",
              "      background-color: #3B4455;\n",
              "      fill: #D2E3FC;\n",
              "    }\n",
              "\n",
              "    [theme=dark] .colab-df-convert:hover {\n",
              "      background-color: #434B5C;\n",
              "      box-shadow: 0px 1px 3px 1px rgba(0, 0, 0, 0.15);\n",
              "      filter: drop-shadow(0px 1px 2px rgba(0, 0, 0, 0.3));\n",
              "      fill: #FFFFFF;\n",
              "    }\n",
              "  </style>\n",
              "\n",
              "      <script>\n",
              "        const buttonEl =\n",
              "          document.querySelector('#df-bccbfb2a-1eb9-4bd1-9a0a-256a782d4788 button.colab-df-convert');\n",
              "        buttonEl.style.display =\n",
              "          google.colab.kernel.accessAllowed ? 'block' : 'none';\n",
              "\n",
              "        async function convertToInteractive(key) {\n",
              "          const element = document.querySelector('#df-bccbfb2a-1eb9-4bd1-9a0a-256a782d4788');\n",
              "          const dataTable =\n",
              "            await google.colab.kernel.invokeFunction('convertToInteractive',\n",
              "                                                     [key], {});\n",
              "          if (!dataTable) return;\n",
              "\n",
              "          const docLinkHtml = 'Like what you see? Visit the ' +\n",
              "            '<a target=\"_blank\" href=https://colab.research.google.com/notebooks/data_table.ipynb>data table notebook</a>'\n",
              "            + ' to learn more about interactive tables.';\n",
              "          element.innerHTML = '';\n",
              "          dataTable['output_type'] = 'display_data';\n",
              "          await google.colab.output.renderOutput(dataTable, element);\n",
              "          const docLink = document.createElement('div');\n",
              "          docLink.innerHTML = docLinkHtml;\n",
              "          element.appendChild(docLink);\n",
              "        }\n",
              "      </script>\n",
              "    </div>\n",
              "  </div>\n",
              "  "
            ]
          },
          "metadata": {},
          "execution_count": 10
        }
      ],
      "source": [
        "train_df['mask_percentage'] = train_df['mask'].apply(get_building_percentage)\n",
        "train_df.head()"
      ],
      "id": "pZWzdHk9HGkI"
    },
    {
      "cell_type": "markdown",
      "metadata": {
        "id": "WZZcw_4gH8fH"
      },
      "source": [
        "### Read validation dataset and perform the same steps"
      ],
      "id": "WZZcw_4gH8fH"
    },
    {
      "cell_type": "markdown",
      "metadata": {
        "id": "131ZD-n0LRxK"
      },
      "source": [
        "### VALIDATION IMAGES"
      ],
      "id": "131ZD-n0LRxK"
    },
    {
      "cell_type": "code",
      "execution_count": 11,
      "metadata": {
        "id": "rpPzuzuZLUV6",
        "colab": {
          "base_uri": "https://localhost:8080/"
        },
        "outputId": "6ac056d0-bd02-499c-ad08-0a8cbb5791e8"
      },
      "outputs": [
        {
          "output_type": "stream",
          "name": "stdout",
          "text": [
            "200\n"
          ]
        }
      ],
      "source": [
        "val_image_names = glob.glob('/tmp/mapai_small/val/images/*.png')\n",
        "val_image_names.sort()\n",
        "val_image_names_subset = val_image_names[0:val_num_images]\n",
        "val_images = [cv2.imread(img, 0) for img in val_image_names_subset]\n",
        "val_image_dataset = np.array(val_images)\n",
        "val_image_dataset = np.expand_dims(val_image_dataset, axis = 3)\n",
        "\n",
        "print(len(val_image_names))"
      ],
      "id": "rpPzuzuZLUV6"
    },
    {
      "cell_type": "markdown",
      "metadata": {
        "id": "ZcoLw9ZcLsfJ"
      },
      "source": [
        "### VALIDATION MASKS\n"
      ],
      "id": "ZcoLw9ZcLsfJ"
    },
    {
      "cell_type": "code",
      "execution_count": 12,
      "metadata": {
        "id": "asuxHvmWL0bI",
        "colab": {
          "base_uri": "https://localhost:8080/"
        },
        "outputId": "1642ab37-05f8-4d93-b609-af5154a2f4ed"
      },
      "outputs": [
        {
          "output_type": "stream",
          "name": "stdout",
          "text": [
            "200\n"
          ]
        }
      ],
      "source": [
        "val_mask_names = glob.glob('/tmp/mapai_small/val/masks/*.png')\n",
        "val_mask_names.sort()\n",
        "val_mask_names_subset = val_mask_names[0:val_num_images]\n",
        "val_masks = [cv2.imread(mask, 0) for mask in val_mask_names_subset]\n",
        "val_mask_dataset = np.array(val_masks)\n",
        "val_mask_dataset = np.expand_dims(val_mask_dataset, axis = 3)\n",
        "\n",
        "print(len(val_mask_names))"
      ],
      "id": "asuxHvmWL0bI"
    },
    {
      "cell_type": "markdown",
      "metadata": {
        "id": "ELuou4OIMFR7"
      },
      "source": [
        "#### Print properties of validation images"
      ],
      "id": "ELuou4OIMFR7"
    },
    {
      "cell_type": "code",
      "execution_count": 13,
      "metadata": {
        "id": "aLtIkavEMM0L",
        "colab": {
          "base_uri": "https://localhost:8080/"
        },
        "outputId": "b8183837-3456-4814-8fb8-cd1e35cce0f2"
      },
      "outputs": [
        {
          "output_type": "stream",
          "name": "stdout",
          "text": [
            "Image data shape is:  (200, 500, 500, 1)\n",
            "Mask data shape is:  (200, 500, 500, 1)\n",
            "Max pixel value in image is:  255\n",
            "Labels in the mask are :  [  0 255]\n"
          ]
        }
      ],
      "source": [
        "print(\"Image data shape is: \", val_image_dataset.shape)\n",
        "print(\"Mask data shape is: \", val_mask_dataset.shape)\n",
        "print(\"Max pixel value in image is: \", val_image_dataset.max())\n",
        "print(\"Labels in the mask are : \", np.unique(val_mask_dataset))"
      ],
      "id": "aLtIkavEMM0L"
    },
    {
      "cell_type": "markdown",
      "source": [
        "### Store validation images/masks in dictionary amd create dataframe"
      ],
      "metadata": {
        "id": "oGCQfJ8IY-qQ"
      },
      "id": "oGCQfJ8IY-qQ"
    },
    {
      "cell_type": "code",
      "source": [
        "val_data = {'image': val_image_names, 'mask': val_mask_names, 'is_val': True}\n",
        "\n",
        "# Create dataframe from dictionary\n",
        "val_df = pd.DataFrame.from_dict(val_data)\n",
        "val_df.head()\n",
        "\n",
        "# Calculate building percentage on validation\n",
        "val_df['mask_percentage'] = val_df['mask'].apply(get_building_percentage)\n",
        "val_df.head()"
      ],
      "metadata": {
        "id": "f21TIdSGY1HQ",
        "colab": {
          "base_uri": "https://localhost:8080/",
          "height": 206
        },
        "outputId": "60977352-c21d-46db-9463-7d1cbfe2a1af"
      },
      "id": "f21TIdSGY1HQ",
      "execution_count": 14,
      "outputs": [
        {
          "output_type": "execute_result",
          "data": {
            "text/plain": [
              "                                         image  \\\n",
              "0  /tmp/mapai_small/val/images/6259_564_19.png   \n",
              "1   /tmp/mapai_small/val/images/6259_564_2.png   \n",
              "2  /tmp/mapai_small/val/images/6259_564_24.png   \n",
              "3  /tmp/mapai_small/val/images/6259_564_31.png   \n",
              "4  /tmp/mapai_small/val/images/6259_564_34.png   \n",
              "\n",
              "                                         mask  is_val  mask_percentage  \n",
              "0  /tmp/mapai_small/val/masks/6259_564_19.png    True          0.00000  \n",
              "1   /tmp/mapai_small/val/masks/6259_564_2.png    True         56.09592  \n",
              "2  /tmp/mapai_small/val/masks/6259_564_24.png    True         51.30906  \n",
              "3  /tmp/mapai_small/val/masks/6259_564_31.png    True         44.22822  \n",
              "4  /tmp/mapai_small/val/masks/6259_564_34.png    True         47.46468  "
            ],
            "text/html": [
              "\n",
              "  <div id=\"df-6604a4d5-e99b-4540-92b3-1f4ffed2d709\">\n",
              "    <div class=\"colab-df-container\">\n",
              "      <div>\n",
              "<style scoped>\n",
              "    .dataframe tbody tr th:only-of-type {\n",
              "        vertical-align: middle;\n",
              "    }\n",
              "\n",
              "    .dataframe tbody tr th {\n",
              "        vertical-align: top;\n",
              "    }\n",
              "\n",
              "    .dataframe thead th {\n",
              "        text-align: right;\n",
              "    }\n",
              "</style>\n",
              "<table border=\"1\" class=\"dataframe\">\n",
              "  <thead>\n",
              "    <tr style=\"text-align: right;\">\n",
              "      <th></th>\n",
              "      <th>image</th>\n",
              "      <th>mask</th>\n",
              "      <th>is_val</th>\n",
              "      <th>mask_percentage</th>\n",
              "    </tr>\n",
              "  </thead>\n",
              "  <tbody>\n",
              "    <tr>\n",
              "      <th>0</th>\n",
              "      <td>/tmp/mapai_small/val/images/6259_564_19.png</td>\n",
              "      <td>/tmp/mapai_small/val/masks/6259_564_19.png</td>\n",
              "      <td>True</td>\n",
              "      <td>0.00000</td>\n",
              "    </tr>\n",
              "    <tr>\n",
              "      <th>1</th>\n",
              "      <td>/tmp/mapai_small/val/images/6259_564_2.png</td>\n",
              "      <td>/tmp/mapai_small/val/masks/6259_564_2.png</td>\n",
              "      <td>True</td>\n",
              "      <td>56.09592</td>\n",
              "    </tr>\n",
              "    <tr>\n",
              "      <th>2</th>\n",
              "      <td>/tmp/mapai_small/val/images/6259_564_24.png</td>\n",
              "      <td>/tmp/mapai_small/val/masks/6259_564_24.png</td>\n",
              "      <td>True</td>\n",
              "      <td>51.30906</td>\n",
              "    </tr>\n",
              "    <tr>\n",
              "      <th>3</th>\n",
              "      <td>/tmp/mapai_small/val/images/6259_564_31.png</td>\n",
              "      <td>/tmp/mapai_small/val/masks/6259_564_31.png</td>\n",
              "      <td>True</td>\n",
              "      <td>44.22822</td>\n",
              "    </tr>\n",
              "    <tr>\n",
              "      <th>4</th>\n",
              "      <td>/tmp/mapai_small/val/images/6259_564_34.png</td>\n",
              "      <td>/tmp/mapai_small/val/masks/6259_564_34.png</td>\n",
              "      <td>True</td>\n",
              "      <td>47.46468</td>\n",
              "    </tr>\n",
              "  </tbody>\n",
              "</table>\n",
              "</div>\n",
              "      <button class=\"colab-df-convert\" onclick=\"convertToInteractive('df-6604a4d5-e99b-4540-92b3-1f4ffed2d709')\"\n",
              "              title=\"Convert this dataframe to an interactive table.\"\n",
              "              style=\"display:none;\">\n",
              "        \n",
              "  <svg xmlns=\"http://www.w3.org/2000/svg\" height=\"24px\"viewBox=\"0 0 24 24\"\n",
              "       width=\"24px\">\n",
              "    <path d=\"M0 0h24v24H0V0z\" fill=\"none\"/>\n",
              "    <path d=\"M18.56 5.44l.94 2.06.94-2.06 2.06-.94-2.06-.94-.94-2.06-.94 2.06-2.06.94zm-11 1L8.5 8.5l.94-2.06 2.06-.94-2.06-.94L8.5 2.5l-.94 2.06-2.06.94zm10 10l.94 2.06.94-2.06 2.06-.94-2.06-.94-.94-2.06-.94 2.06-2.06.94z\"/><path d=\"M17.41 7.96l-1.37-1.37c-.4-.4-.92-.59-1.43-.59-.52 0-1.04.2-1.43.59L10.3 9.45l-7.72 7.72c-.78.78-.78 2.05 0 2.83L4 21.41c.39.39.9.59 1.41.59.51 0 1.02-.2 1.41-.59l7.78-7.78 2.81-2.81c.8-.78.8-2.07 0-2.86zM5.41 20L4 18.59l7.72-7.72 1.47 1.35L5.41 20z\"/>\n",
              "  </svg>\n",
              "      </button>\n",
              "      \n",
              "  <style>\n",
              "    .colab-df-container {\n",
              "      display:flex;\n",
              "      flex-wrap:wrap;\n",
              "      gap: 12px;\n",
              "    }\n",
              "\n",
              "    .colab-df-convert {\n",
              "      background-color: #E8F0FE;\n",
              "      border: none;\n",
              "      border-radius: 50%;\n",
              "      cursor: pointer;\n",
              "      display: none;\n",
              "      fill: #1967D2;\n",
              "      height: 32px;\n",
              "      padding: 0 0 0 0;\n",
              "      width: 32px;\n",
              "    }\n",
              "\n",
              "    .colab-df-convert:hover {\n",
              "      background-color: #E2EBFA;\n",
              "      box-shadow: 0px 1px 2px rgba(60, 64, 67, 0.3), 0px 1px 3px 1px rgba(60, 64, 67, 0.15);\n",
              "      fill: #174EA6;\n",
              "    }\n",
              "\n",
              "    [theme=dark] .colab-df-convert {\n",
              "      background-color: #3B4455;\n",
              "      fill: #D2E3FC;\n",
              "    }\n",
              "\n",
              "    [theme=dark] .colab-df-convert:hover {\n",
              "      background-color: #434B5C;\n",
              "      box-shadow: 0px 1px 3px 1px rgba(0, 0, 0, 0.15);\n",
              "      filter: drop-shadow(0px 1px 2px rgba(0, 0, 0, 0.3));\n",
              "      fill: #FFFFFF;\n",
              "    }\n",
              "  </style>\n",
              "\n",
              "      <script>\n",
              "        const buttonEl =\n",
              "          document.querySelector('#df-6604a4d5-e99b-4540-92b3-1f4ffed2d709 button.colab-df-convert');\n",
              "        buttonEl.style.display =\n",
              "          google.colab.kernel.accessAllowed ? 'block' : 'none';\n",
              "\n",
              "        async function convertToInteractive(key) {\n",
              "          const element = document.querySelector('#df-6604a4d5-e99b-4540-92b3-1f4ffed2d709');\n",
              "          const dataTable =\n",
              "            await google.colab.kernel.invokeFunction('convertToInteractive',\n",
              "                                                     [key], {});\n",
              "          if (!dataTable) return;\n",
              "\n",
              "          const docLinkHtml = 'Like what you see? Visit the ' +\n",
              "            '<a target=\"_blank\" href=https://colab.research.google.com/notebooks/data_table.ipynb>data table notebook</a>'\n",
              "            + ' to learn more about interactive tables.';\n",
              "          element.innerHTML = '';\n",
              "          dataTable['output_type'] = 'display_data';\n",
              "          await google.colab.output.renderOutput(dataTable, element);\n",
              "          const docLink = document.createElement('div');\n",
              "          docLink.innerHTML = docLinkHtml;\n",
              "          element.appendChild(docLink);\n",
              "        }\n",
              "      </script>\n",
              "    </div>\n",
              "  </div>\n",
              "  "
            ]
          },
          "metadata": {},
          "execution_count": 14
        }
      ]
    },
    {
      "cell_type": "markdown",
      "metadata": {
        "id": "wC3vP7R1ICpP"
      },
      "source": [
        "### TEST IMAGES"
      ],
      "id": "wC3vP7R1ICpP"
    },
    {
      "cell_type": "code",
      "execution_count": 15,
      "metadata": {
        "id": "HgRGviXsHGhw",
        "colab": {
          "base_uri": "https://localhost:8080/"
        },
        "outputId": "faec5ad5-28e3-4813-c2ea-0b4fe0d10f5b"
      },
      "outputs": [
        {
          "output_type": "stream",
          "name": "stdout",
          "text": [
            "250\n"
          ]
        }
      ],
      "source": [
        "test_image_names = glob.glob('/tmp/mapai_small/test/images/*.png')\n",
        "test_image_names.sort()\n",
        "test_image_names_subset = test_image_names[0:test_num_images]\n",
        "test_images = [cv2.imread(img, 0) for img in test_image_names_subset]\n",
        "test_image_dataset = np.array(test_images)\n",
        "test_image_dataset = np.expand_dims(test_image_dataset, axis = 3)\n",
        "\n",
        "print(len(test_image_names))"
      ],
      "id": "HgRGviXsHGhw"
    },
    {
      "cell_type": "markdown",
      "metadata": {
        "id": "LwcOupuqIj0K"
      },
      "source": [
        "### TEST MASKS"
      ],
      "id": "LwcOupuqIj0K"
    },
    {
      "cell_type": "code",
      "execution_count": 16,
      "metadata": {
        "id": "1zQmXPonHGfU",
        "colab": {
          "base_uri": "https://localhost:8080/"
        },
        "outputId": "02bb4499-2f23-48b3-d27b-10339be935f1"
      },
      "outputs": [
        {
          "output_type": "stream",
          "name": "stdout",
          "text": [
            "250\n"
          ]
        }
      ],
      "source": [
        "test_mask_names = glob.glob('/tmp/mapai_small/test/masks/*.png')\n",
        "test_mask_names.sort()\n",
        "test_mask_names_subset = test_mask_names[0:test_num_images]\n",
        "test_masks = [cv2.imread(mask, 0) for mask in test_mask_names_subset]\n",
        "test_mask_dataset = np.array(test_masks)\n",
        "test_mask_dataset = np.expand_dims(test_mask_dataset, axis = 3)\n",
        "\n",
        "print(len(test_mask_names))"
      ],
      "id": "1zQmXPonHGfU"
    },
    {
      "cell_type": "markdown",
      "metadata": {
        "id": "Fs6eYUf8I4tv"
      },
      "source": [
        "#### Print properties of test images"
      ],
      "id": "Fs6eYUf8I4tv"
    },
    {
      "cell_type": "code",
      "execution_count": 17,
      "metadata": {
        "id": "5M7jRsV6HGS3",
        "colab": {
          "base_uri": "https://localhost:8080/"
        },
        "outputId": "2289db6f-d766-4b70-a49a-ff83fc669899"
      },
      "outputs": [
        {
          "output_type": "stream",
          "name": "stdout",
          "text": [
            "Image data shape is:  (250, 500, 500, 1)\n",
            "Mask data shape is:  (250, 500, 500, 1)\n",
            "Max pixel value in image is:  255\n",
            "Labels in the mask are :  [  0 255]\n"
          ]
        }
      ],
      "source": [
        "print(\"Image data shape is: \", test_image_dataset.shape)\n",
        "print(\"Mask data shape is: \", test_mask_dataset.shape)\n",
        "print(\"Max pixel value in image is: \", test_image_dataset.max())\n",
        "print(\"Labels in the mask are : \", np.unique(test_mask_dataset))"
      ],
      "id": "5M7jRsV6HGS3"
    },
    {
      "cell_type": "markdown",
      "metadata": {
        "id": "5b62c047"
      },
      "source": [
        "#### Store test images/masks in dictionary and create dataframe"
      ],
      "id": "5b62c047"
    },
    {
      "cell_type": "code",
      "execution_count": 18,
      "metadata": {
        "id": "uadFo3clJaJ3",
        "colab": {
          "base_uri": "https://localhost:8080/",
          "height": 206
        },
        "outputId": "71436ae7-0ab7-479e-835f-450fcce32270"
      },
      "outputs": [
        {
          "output_type": "execute_result",
          "data": {
            "text/plain": [
              "                                          image  \\\n",
              "0  /tmp/mapai_small/test/images/6051_690_13.png   \n",
              "1  /tmp/mapai_small/test/images/6078_637_91.png   \n",
              "2  /tmp/mapai_small/test/images/6078_638_24.png   \n",
              "3  /tmp/mapai_small/test/images/6078_638_99.png   \n",
              "4  /tmp/mapai_small/test/images/6084_553_93.png   \n",
              "\n",
              "                                          mask  is_val  \n",
              "0  /tmp/mapai_small/test/masks/6051_690_13.png   False  \n",
              "1  /tmp/mapai_small/test/masks/6078_637_91.png   False  \n",
              "2  /tmp/mapai_small/test/masks/6078_638_24.png   False  \n",
              "3  /tmp/mapai_small/test/masks/6078_638_99.png   False  \n",
              "4  /tmp/mapai_small/test/masks/6084_553_93.png   False  "
            ],
            "text/html": [
              "\n",
              "  <div id=\"df-ffdb6669-cd9d-48d2-b7d1-80ad034aab58\">\n",
              "    <div class=\"colab-df-container\">\n",
              "      <div>\n",
              "<style scoped>\n",
              "    .dataframe tbody tr th:only-of-type {\n",
              "        vertical-align: middle;\n",
              "    }\n",
              "\n",
              "    .dataframe tbody tr th {\n",
              "        vertical-align: top;\n",
              "    }\n",
              "\n",
              "    .dataframe thead th {\n",
              "        text-align: right;\n",
              "    }\n",
              "</style>\n",
              "<table border=\"1\" class=\"dataframe\">\n",
              "  <thead>\n",
              "    <tr style=\"text-align: right;\">\n",
              "      <th></th>\n",
              "      <th>image</th>\n",
              "      <th>mask</th>\n",
              "      <th>is_val</th>\n",
              "    </tr>\n",
              "  </thead>\n",
              "  <tbody>\n",
              "    <tr>\n",
              "      <th>0</th>\n",
              "      <td>/tmp/mapai_small/test/images/6051_690_13.png</td>\n",
              "      <td>/tmp/mapai_small/test/masks/6051_690_13.png</td>\n",
              "      <td>False</td>\n",
              "    </tr>\n",
              "    <tr>\n",
              "      <th>1</th>\n",
              "      <td>/tmp/mapai_small/test/images/6078_637_91.png</td>\n",
              "      <td>/tmp/mapai_small/test/masks/6078_637_91.png</td>\n",
              "      <td>False</td>\n",
              "    </tr>\n",
              "    <tr>\n",
              "      <th>2</th>\n",
              "      <td>/tmp/mapai_small/test/images/6078_638_24.png</td>\n",
              "      <td>/tmp/mapai_small/test/masks/6078_638_24.png</td>\n",
              "      <td>False</td>\n",
              "    </tr>\n",
              "    <tr>\n",
              "      <th>3</th>\n",
              "      <td>/tmp/mapai_small/test/images/6078_638_99.png</td>\n",
              "      <td>/tmp/mapai_small/test/masks/6078_638_99.png</td>\n",
              "      <td>False</td>\n",
              "    </tr>\n",
              "    <tr>\n",
              "      <th>4</th>\n",
              "      <td>/tmp/mapai_small/test/images/6084_553_93.png</td>\n",
              "      <td>/tmp/mapai_small/test/masks/6084_553_93.png</td>\n",
              "      <td>False</td>\n",
              "    </tr>\n",
              "  </tbody>\n",
              "</table>\n",
              "</div>\n",
              "      <button class=\"colab-df-convert\" onclick=\"convertToInteractive('df-ffdb6669-cd9d-48d2-b7d1-80ad034aab58')\"\n",
              "              title=\"Convert this dataframe to an interactive table.\"\n",
              "              style=\"display:none;\">\n",
              "        \n",
              "  <svg xmlns=\"http://www.w3.org/2000/svg\" height=\"24px\"viewBox=\"0 0 24 24\"\n",
              "       width=\"24px\">\n",
              "    <path d=\"M0 0h24v24H0V0z\" fill=\"none\"/>\n",
              "    <path d=\"M18.56 5.44l.94 2.06.94-2.06 2.06-.94-2.06-.94-.94-2.06-.94 2.06-2.06.94zm-11 1L8.5 8.5l.94-2.06 2.06-.94-2.06-.94L8.5 2.5l-.94 2.06-2.06.94zm10 10l.94 2.06.94-2.06 2.06-.94-2.06-.94-.94-2.06-.94 2.06-2.06.94z\"/><path d=\"M17.41 7.96l-1.37-1.37c-.4-.4-.92-.59-1.43-.59-.52 0-1.04.2-1.43.59L10.3 9.45l-7.72 7.72c-.78.78-.78 2.05 0 2.83L4 21.41c.39.39.9.59 1.41.59.51 0 1.02-.2 1.41-.59l7.78-7.78 2.81-2.81c.8-.78.8-2.07 0-2.86zM5.41 20L4 18.59l7.72-7.72 1.47 1.35L5.41 20z\"/>\n",
              "  </svg>\n",
              "      </button>\n",
              "      \n",
              "  <style>\n",
              "    .colab-df-container {\n",
              "      display:flex;\n",
              "      flex-wrap:wrap;\n",
              "      gap: 12px;\n",
              "    }\n",
              "\n",
              "    .colab-df-convert {\n",
              "      background-color: #E8F0FE;\n",
              "      border: none;\n",
              "      border-radius: 50%;\n",
              "      cursor: pointer;\n",
              "      display: none;\n",
              "      fill: #1967D2;\n",
              "      height: 32px;\n",
              "      padding: 0 0 0 0;\n",
              "      width: 32px;\n",
              "    }\n",
              "\n",
              "    .colab-df-convert:hover {\n",
              "      background-color: #E2EBFA;\n",
              "      box-shadow: 0px 1px 2px rgba(60, 64, 67, 0.3), 0px 1px 3px 1px rgba(60, 64, 67, 0.15);\n",
              "      fill: #174EA6;\n",
              "    }\n",
              "\n",
              "    [theme=dark] .colab-df-convert {\n",
              "      background-color: #3B4455;\n",
              "      fill: #D2E3FC;\n",
              "    }\n",
              "\n",
              "    [theme=dark] .colab-df-convert:hover {\n",
              "      background-color: #434B5C;\n",
              "      box-shadow: 0px 1px 3px 1px rgba(0, 0, 0, 0.15);\n",
              "      filter: drop-shadow(0px 1px 2px rgba(0, 0, 0, 0.3));\n",
              "      fill: #FFFFFF;\n",
              "    }\n",
              "  </style>\n",
              "\n",
              "      <script>\n",
              "        const buttonEl =\n",
              "          document.querySelector('#df-ffdb6669-cd9d-48d2-b7d1-80ad034aab58 button.colab-df-convert');\n",
              "        buttonEl.style.display =\n",
              "          google.colab.kernel.accessAllowed ? 'block' : 'none';\n",
              "\n",
              "        async function convertToInteractive(key) {\n",
              "          const element = document.querySelector('#df-ffdb6669-cd9d-48d2-b7d1-80ad034aab58');\n",
              "          const dataTable =\n",
              "            await google.colab.kernel.invokeFunction('convertToInteractive',\n",
              "                                                     [key], {});\n",
              "          if (!dataTable) return;\n",
              "\n",
              "          const docLinkHtml = 'Like what you see? Visit the ' +\n",
              "            '<a target=\"_blank\" href=https://colab.research.google.com/notebooks/data_table.ipynb>data table notebook</a>'\n",
              "            + ' to learn more about interactive tables.';\n",
              "          element.innerHTML = '';\n",
              "          dataTable['output_type'] = 'display_data';\n",
              "          await google.colab.output.renderOutput(dataTable, element);\n",
              "          const docLink = document.createElement('div');\n",
              "          docLink.innerHTML = docLinkHtml;\n",
              "          element.appendChild(docLink);\n",
              "        }\n",
              "      </script>\n",
              "    </div>\n",
              "  </div>\n",
              "  "
            ]
          },
          "metadata": {},
          "execution_count": 18
        }
      ],
      "source": [
        "# mapAI\n",
        "#train_data = {'image': train['image'], 'lidar': train['lidar'], 'mask': train['mask'], 'is_val':False}\n",
        "\n",
        "test_data = {'image': test_image_names, 'mask': test_mask_names, 'is_val': False}\n",
        "\n",
        "# Create dataframe from dictionary\n",
        "test_df = pd.DataFrame.from_dict(test_data)\n",
        "test_df.head()"
      ],
      "id": "uadFo3clJaJ3"
    },
    {
      "cell_type": "markdown",
      "metadata": {
        "id": "rG3Fy8AoKMJk"
      },
      "source": [
        "#### Concatenate train and validation dataframes into one"
      ],
      "id": "rG3Fy8AoKMJk"
    },
    {
      "cell_type": "code",
      "execution_count": 19,
      "metadata": {
        "id": "Nz9iBQPyKQlo"
      },
      "outputs": [],
      "source": [
        "df = pd.concat([train_df, val_df]).reset_index(drop=True)"
      ],
      "id": "Nz9iBQPyKQlo"
    },
    {
      "cell_type": "code",
      "execution_count": 20,
      "metadata": {
        "id": "t5VL7sqkKaTg",
        "colab": {
          "base_uri": "https://localhost:8080/",
          "height": 224
        },
        "outputId": "3a474c82-3df3-4dd3-8e3e-c6f213bfa88b"
      },
      "outputs": [
        {
          "output_type": "stream",
          "name": "stdout",
          "text": [
            "1000\n"
          ]
        },
        {
          "output_type": "execute_result",
          "data": {
            "text/plain": [
              "                                           image  \\\n",
              "0   /tmp/mapai_small/train/images/6051_689_0.png   \n",
              "1  /tmp/mapai_small/train/images/6051_689_38.png   \n",
              "2   /tmp/mapai_small/train/images/6051_689_4.png   \n",
              "3  /tmp/mapai_small/train/images/6051_689_42.png   \n",
              "4  /tmp/mapai_small/train/images/6051_689_44.png   \n",
              "\n",
              "                                           mask  is_val  mask_percentage  \\\n",
              "0   /tmp/mapai_small/train/masks/6051_689_0.png   False         20.70600   \n",
              "1  /tmp/mapai_small/train/masks/6051_689_38.png   False          6.37296   \n",
              "2   /tmp/mapai_small/train/masks/6051_689_4.png   False         44.64234   \n",
              "3  /tmp/mapai_small/train/masks/6051_689_42.png   False          4.77564   \n",
              "4  /tmp/mapai_small/train/masks/6051_689_44.png   False         47.96142   \n",
              "\n",
              "   is_building  \n",
              "0         True  \n",
              "1         True  \n",
              "2         True  \n",
              "3         True  \n",
              "4         True  "
            ],
            "text/html": [
              "\n",
              "  <div id=\"df-e2aab0b5-e7bc-471b-9d30-56ec253397a4\">\n",
              "    <div class=\"colab-df-container\">\n",
              "      <div>\n",
              "<style scoped>\n",
              "    .dataframe tbody tr th:only-of-type {\n",
              "        vertical-align: middle;\n",
              "    }\n",
              "\n",
              "    .dataframe tbody tr th {\n",
              "        vertical-align: top;\n",
              "    }\n",
              "\n",
              "    .dataframe thead th {\n",
              "        text-align: right;\n",
              "    }\n",
              "</style>\n",
              "<table border=\"1\" class=\"dataframe\">\n",
              "  <thead>\n",
              "    <tr style=\"text-align: right;\">\n",
              "      <th></th>\n",
              "      <th>image</th>\n",
              "      <th>mask</th>\n",
              "      <th>is_val</th>\n",
              "      <th>mask_percentage</th>\n",
              "      <th>is_building</th>\n",
              "    </tr>\n",
              "  </thead>\n",
              "  <tbody>\n",
              "    <tr>\n",
              "      <th>0</th>\n",
              "      <td>/tmp/mapai_small/train/images/6051_689_0.png</td>\n",
              "      <td>/tmp/mapai_small/train/masks/6051_689_0.png</td>\n",
              "      <td>False</td>\n",
              "      <td>20.70600</td>\n",
              "      <td>True</td>\n",
              "    </tr>\n",
              "    <tr>\n",
              "      <th>1</th>\n",
              "      <td>/tmp/mapai_small/train/images/6051_689_38.png</td>\n",
              "      <td>/tmp/mapai_small/train/masks/6051_689_38.png</td>\n",
              "      <td>False</td>\n",
              "      <td>6.37296</td>\n",
              "      <td>True</td>\n",
              "    </tr>\n",
              "    <tr>\n",
              "      <th>2</th>\n",
              "      <td>/tmp/mapai_small/train/images/6051_689_4.png</td>\n",
              "      <td>/tmp/mapai_small/train/masks/6051_689_4.png</td>\n",
              "      <td>False</td>\n",
              "      <td>44.64234</td>\n",
              "      <td>True</td>\n",
              "    </tr>\n",
              "    <tr>\n",
              "      <th>3</th>\n",
              "      <td>/tmp/mapai_small/train/images/6051_689_42.png</td>\n",
              "      <td>/tmp/mapai_small/train/masks/6051_689_42.png</td>\n",
              "      <td>False</td>\n",
              "      <td>4.77564</td>\n",
              "      <td>True</td>\n",
              "    </tr>\n",
              "    <tr>\n",
              "      <th>4</th>\n",
              "      <td>/tmp/mapai_small/train/images/6051_689_44.png</td>\n",
              "      <td>/tmp/mapai_small/train/masks/6051_689_44.png</td>\n",
              "      <td>False</td>\n",
              "      <td>47.96142</td>\n",
              "      <td>True</td>\n",
              "    </tr>\n",
              "  </tbody>\n",
              "</table>\n",
              "</div>\n",
              "      <button class=\"colab-df-convert\" onclick=\"convertToInteractive('df-e2aab0b5-e7bc-471b-9d30-56ec253397a4')\"\n",
              "              title=\"Convert this dataframe to an interactive table.\"\n",
              "              style=\"display:none;\">\n",
              "        \n",
              "  <svg xmlns=\"http://www.w3.org/2000/svg\" height=\"24px\"viewBox=\"0 0 24 24\"\n",
              "       width=\"24px\">\n",
              "    <path d=\"M0 0h24v24H0V0z\" fill=\"none\"/>\n",
              "    <path d=\"M18.56 5.44l.94 2.06.94-2.06 2.06-.94-2.06-.94-.94-2.06-.94 2.06-2.06.94zm-11 1L8.5 8.5l.94-2.06 2.06-.94-2.06-.94L8.5 2.5l-.94 2.06-2.06.94zm10 10l.94 2.06.94-2.06 2.06-.94-2.06-.94-.94-2.06-.94 2.06-2.06.94z\"/><path d=\"M17.41 7.96l-1.37-1.37c-.4-.4-.92-.59-1.43-.59-.52 0-1.04.2-1.43.59L10.3 9.45l-7.72 7.72c-.78.78-.78 2.05 0 2.83L4 21.41c.39.39.9.59 1.41.59.51 0 1.02-.2 1.41-.59l7.78-7.78 2.81-2.81c.8-.78.8-2.07 0-2.86zM5.41 20L4 18.59l7.72-7.72 1.47 1.35L5.41 20z\"/>\n",
              "  </svg>\n",
              "      </button>\n",
              "      \n",
              "  <style>\n",
              "    .colab-df-container {\n",
              "      display:flex;\n",
              "      flex-wrap:wrap;\n",
              "      gap: 12px;\n",
              "    }\n",
              "\n",
              "    .colab-df-convert {\n",
              "      background-color: #E8F0FE;\n",
              "      border: none;\n",
              "      border-radius: 50%;\n",
              "      cursor: pointer;\n",
              "      display: none;\n",
              "      fill: #1967D2;\n",
              "      height: 32px;\n",
              "      padding: 0 0 0 0;\n",
              "      width: 32px;\n",
              "    }\n",
              "\n",
              "    .colab-df-convert:hover {\n",
              "      background-color: #E2EBFA;\n",
              "      box-shadow: 0px 1px 2px rgba(60, 64, 67, 0.3), 0px 1px 3px 1px rgba(60, 64, 67, 0.15);\n",
              "      fill: #174EA6;\n",
              "    }\n",
              "\n",
              "    [theme=dark] .colab-df-convert {\n",
              "      background-color: #3B4455;\n",
              "      fill: #D2E3FC;\n",
              "    }\n",
              "\n",
              "    [theme=dark] .colab-df-convert:hover {\n",
              "      background-color: #434B5C;\n",
              "      box-shadow: 0px 1px 3px 1px rgba(0, 0, 0, 0.15);\n",
              "      filter: drop-shadow(0px 1px 2px rgba(0, 0, 0, 0.3));\n",
              "      fill: #FFFFFF;\n",
              "    }\n",
              "  </style>\n",
              "\n",
              "      <script>\n",
              "        const buttonEl =\n",
              "          document.querySelector('#df-e2aab0b5-e7bc-471b-9d30-56ec253397a4 button.colab-df-convert');\n",
              "        buttonEl.style.display =\n",
              "          google.colab.kernel.accessAllowed ? 'block' : 'none';\n",
              "\n",
              "        async function convertToInteractive(key) {\n",
              "          const element = document.querySelector('#df-e2aab0b5-e7bc-471b-9d30-56ec253397a4');\n",
              "          const dataTable =\n",
              "            await google.colab.kernel.invokeFunction('convertToInteractive',\n",
              "                                                     [key], {});\n",
              "          if (!dataTable) return;\n",
              "\n",
              "          const docLinkHtml = 'Like what you see? Visit the ' +\n",
              "            '<a target=\"_blank\" href=https://colab.research.google.com/notebooks/data_table.ipynb>data table notebook</a>'\n",
              "            + ' to learn more about interactive tables.';\n",
              "          element.innerHTML = '';\n",
              "          dataTable['output_type'] = 'display_data';\n",
              "          await google.colab.output.renderOutput(dataTable, element);\n",
              "          const docLink = document.createElement('div');\n",
              "          docLink.innerHTML = docLinkHtml;\n",
              "          element.appendChild(docLink);\n",
              "        }\n",
              "      </script>\n",
              "    </div>\n",
              "  </div>\n",
              "  "
            ]
          },
          "metadata": {},
          "execution_count": 20
        }
      ],
      "source": [
        "# add a new column make it False\n",
        "df['is_building'] = False\n",
        "\n",
        "# if mask_percentage > 0 then building = True\n",
        "df.loc[df['mask_percentage'] > 0, 'is_building'] = True\n",
        "\n",
        "print(len(df))\n",
        "\n",
        "df.head()"
      ],
      "id": "t5VL7sqkKaTg"
    },
    {
      "cell_type": "markdown",
      "metadata": {
        "id": "WWM_TrktKP-w"
      },
      "source": [
        "#### How many buildings do we have all together?"
      ],
      "id": "WWM_TrktKP-w"
    },
    {
      "cell_type": "code",
      "execution_count": 21,
      "metadata": {
        "id": "EKzVXsqBK8hS",
        "colab": {
          "base_uri": "https://localhost:8080/"
        },
        "outputId": "7865c96c-c119-40de-cf4a-8bbe0f9578ca"
      },
      "outputs": [
        {
          "output_type": "stream",
          "name": "stdout",
          "text": [
            "Training set size:  800\n",
            "Validation set size:  200\n",
            "\n",
            "Buildings:  22.8 %\n",
            "Other:  77.2 %\n"
          ]
        },
        {
          "output_type": "execute_result",
          "data": {
            "text/plain": [
              "True     772\n",
              "False    228\n",
              "Name: is_building, dtype: int64"
            ]
          },
          "metadata": {},
          "execution_count": 21
        }
      ],
      "source": [
        "# How many buildings do we all together?\n",
        "print(\"Training set size: \", train_df.shape[0])\n",
        "print(\"Validation set size: \", val_df.shape[0])\n",
        "print()\n",
        "\n",
        "# Calculate percentage of buildings\n",
        "total = train_df.shape[0] + val_df.shape[0]\n",
        "perc_buildings = round((df.is_building.value_counts()[0]/total) * 100, 2)\n",
        "perc_other = round((df.is_building.value_counts()[1]/total) * 100, 2)\n",
        "\n",
        "print(\"Buildings: \", perc_buildings, \"%\")\n",
        "print(\"Other: \", perc_other, \"%\")\n",
        "\n",
        "# from df\n",
        "df.is_building.value_counts()"
      ],
      "id": "EKzVXsqBK8hS"
    },
    {
      "cell_type": "markdown",
      "metadata": {
        "id": "TRvhnEt7MqoJ"
      },
      "source": [
        "#### Save to CSV"
      ],
      "id": "TRvhnEt7MqoJ"
    },
    {
      "cell_type": "code",
      "execution_count": 22,
      "metadata": {
        "id": "I-Sd17ulMo0I"
      },
      "outputs": [],
      "source": [
        "# Save to MyDrive/MapAI\n",
        "df.to_csv(f\"/content/drive/MyDrive/MapAI/train_val_original-{datetime.date.today()}.csv\", index=False)"
      ],
      "id": "I-Sd17ulMo0I"
    },
    {
      "cell_type": "markdown",
      "metadata": {
        "id": "gW4OK9u9NXQb"
      },
      "source": [
        "## Inspect data\n"
      ],
      "id": "gW4OK9u9NXQb"
    },
    {
      "cell_type": "code",
      "execution_count": 23,
      "metadata": {
        "id": "nP08pbLvNlBJ"
      },
      "outputs": [],
      "source": [
        "# Read back saved csv\n",
        "\n",
        "csv_path = \"/content/drive/MyDrive/MapAI/train_val_original-2023-02-10.csv\"\n",
        "\n",
        "df = pd.read_csv(csv_path)"
      ],
      "id": "nP08pbLvNlBJ"
    },
    {
      "cell_type": "code",
      "execution_count": 24,
      "metadata": {
        "id": "OZFGMAIBALNM"
      },
      "outputs": [],
      "source": [
        "from pathlib import Path\n",
        "from PIL import Image\n",
        "import numpy as np, pandas as  pd, matplotlib.pyplot as plt\n",
        "\n",
        "\n",
        "#### Plots ####\n",
        "\n",
        "def plot_image_and_masks_from_df(imgidx, df, figsize=6, with_segm=True):\n",
        "    imgfn = str(df.iloc[imgidx]['image'])\n",
        "    print(imgfn)\n",
        "    if with_segm:\n",
        "        maskfn = df.iloc[imgidx]['mask']\n",
        "        print(maskfn)\n",
        "    f, ax = plt.subplots(figsize=(figsize,figsize))\n",
        "    img = Image.open(imgfn)\n",
        "    ax.imshow(img)\n",
        "    if with_segm:\n",
        "        mask = Image.open(maskfn)\n",
        "        ax.imshow(mask, alpha=0.3)\n",
        "    imgid = imgfn.split(\"/\")[-1].split(\".\")[0]\n",
        "    imgsz = img.size\n",
        "    ax.set_title(f'{imgid}, {str(imgsz)}')\n",
        "    ax.set_axis_off()\n",
        "    return ax\n",
        "\n",
        "\n",
        "def plot_image_lidar_and_masks_from_df(imgidx, df, figsize=6, with_segm=True):\n",
        "    imgfn = str(df.iloc[imgidx]['image'])\n",
        "    lidarfn = str(df.iloc[imgidx]['lidar'])\n",
        "    if with_segm:\n",
        "        maskfn = df.iloc[imgidx]['mask']\n",
        "    f, ax = plt.subplots(1,2, figsize=(figsize,figsize))\n",
        "    img = Image.open(imgfn)\n",
        "    lidar = np.array(Image.open(lidarfn))\n",
        "    ax[0].imshow(img)\n",
        "    ax[1].imshow(img)\n",
        "    if with_segm:\n",
        "        mask = Image.open(maskfn)\n",
        "        ax[0].imshow(mask, alpha=0.3)\n",
        "        ax[1].imshow(lidar, alpha=0.3)\n",
        "    imgid = imgfn.split(\"/\")[-1].split(\".\")[0]\n",
        "    imgsz = img.size\n",
        "    ax[0].set_title(f'{imgid}, {str(imgsz)}')\n",
        "    ax[0].set_axis_off()\n",
        "    return ax\n",
        "\n",
        "from ipywidgets import interact, interactive, IntSlider, Select, RadioButtons, fixed, BoundedIntText\n",
        "\n",
        "\n",
        "### Code for interactive plot\n",
        "interactive_plot = interactive(plot_image_and_masks_from_df, df=fixed(df),\n",
        "                               imgidx = BoundedIntText(min=0, max=len(df)-1, step=1, value=0),\n",
        "                               figsize = BoundedIntText(min=4, max=12, step=1, value=6),\n",
        "                               with_segm= RadioButtons(options=[True,False], value=True, \n",
        "                                                      description=\"With segmentation\"))\n",
        "\n",
        "output = interactive_plot.children[-1]"
      ],
      "id": "OZFGMAIBALNM"
    },
    {
      "cell_type": "code",
      "execution_count": 25,
      "metadata": {
        "colab": {
          "base_uri": "https://localhost:8080/",
          "height": 536,
          "referenced_widgets": [
            "2a5ba9de89594335965338626bf16008",
            "e6da6b84ae5044beba61cb1bf91d4b53",
            "bc561441c33549129e8d932ba260bd1f",
            "e0ddb95705bc4942891e74e59ddf0a9b",
            "bf9c9f5f76f840f097e08b026e86bb05",
            "1e534cab12ae49dcb0e7e565327790d9",
            "dfec90b62544446695bc7074161ba8dd",
            "45afdac167794e0185bc4ff55d8eeccf",
            "b3961b061da14a449a1676bcb7ecbcc2",
            "c788cf3081c6403aa6520af4a72fb1ac",
            "3071bea5275b4bc2a8dbaac3abf782c4",
            "211ec1d69bdb4c03873fff631dee3093",
            "e26dbdca51184164a4e7b64cc1500aca"
          ]
        },
        "id": "ieay1y9pN5vj",
        "outputId": "1f6de250-15d9-450e-e379-36576c908b1d"
      },
      "outputs": [
        {
          "output_type": "display_data",
          "data": {
            "text/plain": [
              "interactive(children=(BoundedIntText(value=0, description='imgidx', max=999), BoundedIntText(value=6, descript…"
            ],
            "application/vnd.jupyter.widget-view+json": {
              "version_major": 2,
              "version_minor": 0,
              "model_id": "2a5ba9de89594335965338626bf16008"
            }
          },
          "metadata": {}
        }
      ],
      "source": [
        "### START INTERACTIVE PLOTTING ###\n",
        "interactive_plot\n",
        "\n",
        "# image indexes are messed up --> SOLVED --> Forgot to add after glob.glob()\n",
        "# IMAGES -> index 0 --> 6084_552_87.png --> incorrect middle picture in folder\n",
        "# MASKS -> index 0 --> 6051_689_0.png --> correct first picture in folder"
      ],
      "id": "ieay1y9pN5vj"
    },
    {
      "cell_type": "markdown",
      "metadata": {
        "id": "9f672d14"
      },
      "source": [
        "#### Normalize images\n",
        "Getting OOM errors, maybe need to find a better way to normalize images."
      ],
      "id": "9f672d14"
    },
    {
      "cell_type": "code",
      "execution_count": 26,
      "metadata": {
        "id": "06394c42"
      },
      "outputs": [],
      "source": [
        "# IMAGES\n",
        "# Solution: https://stackoverflow.com/questions/62977311/how-can-i-stop-my-colab-notebook-from-crashing-while-normalising-my-images\n",
        "# float16 or float32? Find answer\n",
        "\n",
        "# Can also normalize or scale using MinMax scaler\n",
        "\n",
        "# IMAGES\n",
        "train_image_dataset = (train_image_dataset / 255.0).astype(np.float16)\n",
        "val_image_dataset = (val_image_dataset / 255.0).astype(np.float16)\n",
        "test_image_dataset = (test_image_dataset / 255.0).astype(np.float16)\n",
        "\n",
        "# MASKS\n",
        "train_mask_dataset = (train_mask_dataset / 255.0).astype(np.float16)  \n",
        "val_mask_dataset = (val_mask_dataset / 255.0).astype(np.float16)\n",
        "test_mask_dataset = (test_mask_dataset / 255.0).astype(np.float16)\n",
        "\n",
        "# Is this correct? Yes, should be. Pixel values will be 0 or 1"
      ],
      "id": "06394c42"
    },
    {
      "cell_type": "code",
      "source": [
        "# Plot normalized images\n",
        "\n",
        "# way to gey one pixel\n",
        "train_image_dataset[0][0][0], train_mask_dataset[0][0][0]\n",
        "val_image_dataset[0][0][0], val_mask_dataset[0][0][0]\n",
        "test_image_dataset[0][0][0], test_mask_dataset[0][0][0]\n"
      ],
      "metadata": {
        "colab": {
          "base_uri": "https://localhost:8080/"
        },
        "id": "ZEWirEQCA35j",
        "outputId": "9b3f1c39-5165-4b4a-8d05-6c6cba4f6ca7"
      },
      "id": "ZEWirEQCA35j",
      "execution_count": 40,
      "outputs": [
        {
          "output_type": "execute_result",
          "data": {
            "text/plain": [
              "(array([0.1059], dtype=float16), array([0.], dtype=float16))"
            ]
          },
          "metadata": {},
          "execution_count": 40
        }
      ]
    },
    {
      "cell_type": "code",
      "execution_count": 41,
      "metadata": {
        "colab": {
          "base_uri": "https://localhost:8080/"
        },
        "id": "679b4a0d",
        "outputId": "cf4f905a-7838-424a-82c8-ee5c21eb246e"
      },
      "outputs": [
        {
          "output_type": "stream",
          "name": "stdout",
          "text": [
            "# TRAINING:  800 800\n",
            "# VALIDATION:  200 200\n",
            "# TEST:  250 250\n"
          ]
        }
      ],
      "source": [
        "print('# TRAINING: ', len(train_image_dataset), len(train_mask_dataset))\n",
        "print('# VALIDATION: ', len(val_image_dataset), len(val_mask_dataset))\n",
        "print('# TEST: ', len(test_image_dataset), len(test_mask_dataset))"
      ],
      "id": "679b4a0d"
    },
    {
      "cell_type": "markdown",
      "metadata": {
        "id": "63b78112"
      },
      "source": [
        "### Initialize train / val/ test"
      ],
      "id": "63b78112"
    },
    {
      "cell_type": "code",
      "execution_count": 42,
      "metadata": {
        "id": "69916a23"
      },
      "outputs": [],
      "source": [
        "X_train, y_train = (train_image_dataset, train_mask_dataset)\n",
        "X_val, y_val = (val_image_dataset, val_mask_dataset)\n",
        "X_test, y_test = (test_image_dataset, test_mask_dataset)"
      ],
      "id": "69916a23"
    },
    {
      "cell_type": "markdown",
      "metadata": {
        "id": "d2ca990f"
      },
      "source": [
        "### Resize images to approptiate shape for UNet"
      ],
      "id": "d2ca990f"
    },
    {
      "cell_type": "code",
      "execution_count": 43,
      "metadata": {
        "id": "33Am4JF7U64K"
      },
      "outputs": [],
      "source": [
        "def resize(image, mask):\n",
        "    input_image = tf.image.resize(image, (480, 480), method='bicubic')\n",
        "    input_mask = tf.image.resize(mask, (480, 480), method='bicubic')\n",
        "    return input_image, input_mask\n",
        "\n",
        "# Apply\n",
        "X_train, y_train = resize(X_train, y_train)\n",
        "X_val, y_val = resize(X_val, y_val)\n",
        "X_test, y_test = resize(X_test, y_test)\n",
        "\n",
        "# What happens if you resize to 512? Need to test it"
      ],
      "id": "33Am4JF7U64K"
    },
    {
      "cell_type": "markdown",
      "metadata": {
        "id": "uq3SMrVnWXJD"
      },
      "source": [
        "#### Apply Data Augmentation\n",
        "\n",
        "https://www.youtube.com/watch?v=JI8saFjK84o\n",
        "\n",
        "*   Geometric transformations – you can randomly flip, crop, rotate or translate images.\n",
        "*  Color space transformations – change RGB color channels, intensify any color\n",
        "*  Kernel filters – sharpen or blur an image \n",
        "*   Random Erasing – delete a part of the initial image\n",
        "*   Mixing images – basically, mix images with one another.\n",
        "\n",
        "Only on training. Data augmentation is used to increase the size of the training set and to get more different images.\n",
        "\n",
        "CNNs out of the box are not scale and rotation invariant."
      ],
      "id": "uq3SMrVnWXJD"
    },
    {
      "cell_type": "code",
      "execution_count": null,
      "metadata": {
        "id": "eymfkI9HWfIN"
      },
      "outputs": [],
      "source": [
        "'''\n",
        "# FIRST TRY WITHOUT, THEN SEE DIFFERENCE\n",
        "\n",
        "# Alex\n",
        "# batch_tfms=[Contrast(), Dihedral(), Brightness(), Rotate(max_deg=45), Saturation(),\n",
        "#            Zoom(), Normalize.from_stats(*imagenet_stats)] #RandomErasing()\n",
        "\n",
        "\n",
        "def augmentations(image, mask):\n",
        "  # https://www.tensorflow.org/api_docs/python/tf/image\n",
        "  \n",
        "  # Random cropping\n",
        "  image = tf.image.random_crop(image)\n",
        "  mask = tf.image.random_crop(mask)\n",
        "  \n",
        "  # Random brightness\n",
        "  image = tf.image.random_brightness(image, max_delta=0.5)\n",
        "  mask = tf.image.random_brightness(mask, max_delta=0.5)\n",
        "  # Random flipping\n",
        "  image = tf.image.random_flip_left_right(image, seed=42)\n",
        "  mask = tf.image.random_flip_left_right(mask, seed=42)\n",
        "  # Random flipping up and down\n",
        "  image = tf.image.random_flip_up_down(image, seed=42)\n",
        "  mask = tf.image.random_flip_up_down(mask, seed=42)\n",
        "  # Rotate image 90 degrees\n",
        "  image = tf.image.rot90(image, k=1) # k --> number of rotations\n",
        "  mask = tf.image.rot90(mask, k=1) # k --> number of rotations\n",
        "  \n",
        "  return image, mask\n",
        "\n",
        "\n",
        "# Apply augmentations on the training set\n",
        "X_train, y_train = augmentations(X_train, y_train)\n",
        "\n",
        "'''"
      ],
      "id": "eymfkI9HWfIN"
    },
    {
      "cell_type": "code",
      "execution_count": null,
      "metadata": {
        "id": "K809Al4KDSoB"
      },
      "outputs": [],
      "source": [
        "#### "
      ],
      "id": "K809Al4KDSoB"
    },
    {
      "cell_type": "markdown",
      "metadata": {
        "id": "30a46860"
      },
      "source": [
        "### U-Net\n"
      ],
      "id": "30a46860"
    },
    {
      "cell_type": "code",
      "execution_count": 45,
      "metadata": {
        "id": "e5601e44"
      },
      "outputs": [],
      "source": [
        "# Building Unet by dividing encoder and decoder into blocks\n",
        "\n",
        "# Add weight regularizer \n",
        "# Having more layers does not help sometimes\n",
        "# Try to decrease the complexity of the model and see the results\n",
        "# You can start with a more complicated model and add some regularization\n",
        "\n",
        "from keras.models import Model\n",
        "from keras.layers import Input, Conv2D, MaxPooling2D, UpSampling2D, concatenate, Conv2DTranspose, BatchNormalization, Dropout, Lambda\n",
        "from keras.optimizers import Adam\n",
        "from keras.layers import Activation, MaxPool2D, Concatenate\n",
        "\n",
        "\n",
        "def conv_block(input, num_filters):\n",
        "    x = Conv2D(num_filters, 3, padding=\"same\")(input)\n",
        "    x = BatchNormalization()(x)   #Not in the original network. \n",
        "    x = Activation(\"relu\")(x)\n",
        "\n",
        "    x = Conv2D(num_filters, 3, padding=\"same\")(x)\n",
        "    x = BatchNormalization()(x)  #Not in the original network\n",
        "    x = Activation(\"relu\")(x)\n",
        "\n",
        "    return x\n",
        "\n",
        "#Encoder block: Conv block followed by maxpooling\n",
        "\n",
        "def encoder_block(input, num_filters):\n",
        "    x = conv_block(input, num_filters)\n",
        "    p = MaxPool2D((2, 2))(x) #halfes the resoltuion\n",
        "    return x, p   \n",
        "\n",
        "#Decoder block\n",
        "#skip features gets input from encoder for concatenation\n",
        "\n",
        "def decoder_block(input, skip_features, num_filters):\n",
        "    x = Conv2DTranspose(num_filters, (2, 2), strides=2, padding=\"same\")(input)\n",
        "    x = Concatenate()([x, skip_features])\n",
        "    x = conv_block(x, num_filters)\n",
        "    return x\n",
        "\n",
        "#Build Unet using the blocks\n",
        "def build_unet(input_shape, n_classes):\n",
        "    inputs = Input(input_shape)\n",
        "\n",
        "    # Decrease the number of filters\n",
        "\n",
        "    s1, p1 = encoder_block(inputs, 60)\n",
        "    s2, p2 = encoder_block(p1, 120)\n",
        "    s3, p3 = encoder_block(p2, 240)\n",
        "    s4, p4 = encoder_block(p3, 480)\n",
        "\n",
        "    b1 = conv_block(p4, 960) #Bridge\n",
        "\n",
        "    d1 = decoder_block(b1, s4, 480)\n",
        "    d2 = decoder_block(d1, s3, 240)\n",
        "    d3 = decoder_block(d2, s2, 120)\n",
        "    d4 = decoder_block(d3, s1, 60)\n",
        "\n",
        "    if n_classes == 1:  #Binary\n",
        "      activation = 'sigmoid'\n",
        "    else:\n",
        "      activation = 'softmax'\n",
        "\n",
        "    outputs = Conv2D(n_classes, 1, padding=\"same\", activation=activation)(d4)  #Change the activation based on n_classes\n",
        "    print(activation)\n",
        "\n",
        "    model = Model(inputs, outputs, name=\"U-Net\")\n",
        "    return model"
      ],
      "id": "e5601e44"
    },
    {
      "cell_type": "code",
      "execution_count": 46,
      "metadata": {
        "colab": {
          "base_uri": "https://localhost:8080/"
        },
        "id": "0h1EvV_bVATK",
        "outputId": "3b628a9c-75d5-4d15-ff7e-c7fcb8dc118b"
      },
      "outputs": [
        {
          "output_type": "stream",
          "name": "stdout",
          "text": [
            "(480, 480, 1)\n"
          ]
        }
      ],
      "source": [
        "IMG_HEIGHT = X_train.shape[1]\n",
        "IMG_WIDTH  = X_train.shape[2]\n",
        "IMG_CHANNELS = X_train.shape[3]\n",
        "\n",
        "input_shape = (IMG_HEIGHT, IMG_WIDTH, IMG_CHANNELS)\n",
        "print(input_shape)"
      ],
      "id": "0h1EvV_bVATK"
    },
    {
      "cell_type": "code",
      "execution_count": 47,
      "metadata": {
        "colab": {
          "base_uri": "https://localhost:8080/"
        },
        "id": "FIJuTYlIVOuk",
        "outputId": "51e25442-63bf-483a-980a-f8104034a36c"
      },
      "outputs": [
        {
          "output_type": "stream",
          "name": "stdout",
          "text": [
            "sigmoid\n",
            "Model: \"U-Net\"\n",
            "__________________________________________________________________________________________________\n",
            " Layer (type)                   Output Shape         Param #     Connected to                     \n",
            "==================================================================================================\n",
            " input_1 (InputLayer)           [(None, 480, 480, 1  0           []                               \n",
            "                                )]                                                                \n",
            "                                                                                                  \n",
            " conv2d (Conv2D)                (None, 480, 480, 60  600         ['input_1[0][0]']                \n",
            "                                )                                                                 \n",
            "                                                                                                  \n",
            " batch_normalization (BatchNorm  (None, 480, 480, 60  240        ['conv2d[0][0]']                 \n",
            " alization)                     )                                                                 \n",
            "                                                                                                  \n",
            " activation (Activation)        (None, 480, 480, 60  0           ['batch_normalization[0][0]']    \n",
            "                                )                                                                 \n",
            "                                                                                                  \n",
            " conv2d_1 (Conv2D)              (None, 480, 480, 60  32460       ['activation[0][0]']             \n",
            "                                )                                                                 \n",
            "                                                                                                  \n",
            " batch_normalization_1 (BatchNo  (None, 480, 480, 60  240        ['conv2d_1[0][0]']               \n",
            " rmalization)                   )                                                                 \n",
            "                                                                                                  \n",
            " activation_1 (Activation)      (None, 480, 480, 60  0           ['batch_normalization_1[0][0]']  \n",
            "                                )                                                                 \n",
            "                                                                                                  \n",
            " max_pooling2d (MaxPooling2D)   (None, 240, 240, 60  0           ['activation_1[0][0]']           \n",
            "                                )                                                                 \n",
            "                                                                                                  \n",
            " conv2d_2 (Conv2D)              (None, 240, 240, 12  64920       ['max_pooling2d[0][0]']          \n",
            "                                0)                                                                \n",
            "                                                                                                  \n",
            " batch_normalization_2 (BatchNo  (None, 240, 240, 12  480        ['conv2d_2[0][0]']               \n",
            " rmalization)                   0)                                                                \n",
            "                                                                                                  \n",
            " activation_2 (Activation)      (None, 240, 240, 12  0           ['batch_normalization_2[0][0]']  \n",
            "                                0)                                                                \n",
            "                                                                                                  \n",
            " conv2d_3 (Conv2D)              (None, 240, 240, 12  129720      ['activation_2[0][0]']           \n",
            "                                0)                                                                \n",
            "                                                                                                  \n",
            " batch_normalization_3 (BatchNo  (None, 240, 240, 12  480        ['conv2d_3[0][0]']               \n",
            " rmalization)                   0)                                                                \n",
            "                                                                                                  \n",
            " activation_3 (Activation)      (None, 240, 240, 12  0           ['batch_normalization_3[0][0]']  \n",
            "                                0)                                                                \n",
            "                                                                                                  \n",
            " max_pooling2d_1 (MaxPooling2D)  (None, 120, 120, 12  0          ['activation_3[0][0]']           \n",
            "                                0)                                                                \n",
            "                                                                                                  \n",
            " conv2d_4 (Conv2D)              (None, 120, 120, 24  259440      ['max_pooling2d_1[0][0]']        \n",
            "                                0)                                                                \n",
            "                                                                                                  \n",
            " batch_normalization_4 (BatchNo  (None, 120, 120, 24  960        ['conv2d_4[0][0]']               \n",
            " rmalization)                   0)                                                                \n",
            "                                                                                                  \n",
            " activation_4 (Activation)      (None, 120, 120, 24  0           ['batch_normalization_4[0][0]']  \n",
            "                                0)                                                                \n",
            "                                                                                                  \n",
            " conv2d_5 (Conv2D)              (None, 120, 120, 24  518640      ['activation_4[0][0]']           \n",
            "                                0)                                                                \n",
            "                                                                                                  \n",
            " batch_normalization_5 (BatchNo  (None, 120, 120, 24  960        ['conv2d_5[0][0]']               \n",
            " rmalization)                   0)                                                                \n",
            "                                                                                                  \n",
            " activation_5 (Activation)      (None, 120, 120, 24  0           ['batch_normalization_5[0][0]']  \n",
            "                                0)                                                                \n",
            "                                                                                                  \n",
            " max_pooling2d_2 (MaxPooling2D)  (None, 60, 60, 240)  0          ['activation_5[0][0]']           \n",
            "                                                                                                  \n",
            " conv2d_6 (Conv2D)              (None, 60, 60, 480)  1037280     ['max_pooling2d_2[0][0]']        \n",
            "                                                                                                  \n",
            " batch_normalization_6 (BatchNo  (None, 60, 60, 480)  1920       ['conv2d_6[0][0]']               \n",
            " rmalization)                                                                                     \n",
            "                                                                                                  \n",
            " activation_6 (Activation)      (None, 60, 60, 480)  0           ['batch_normalization_6[0][0]']  \n",
            "                                                                                                  \n",
            " conv2d_7 (Conv2D)              (None, 60, 60, 480)  2074080     ['activation_6[0][0]']           \n",
            "                                                                                                  \n",
            " batch_normalization_7 (BatchNo  (None, 60, 60, 480)  1920       ['conv2d_7[0][0]']               \n",
            " rmalization)                                                                                     \n",
            "                                                                                                  \n",
            " activation_7 (Activation)      (None, 60, 60, 480)  0           ['batch_normalization_7[0][0]']  \n",
            "                                                                                                  \n",
            " max_pooling2d_3 (MaxPooling2D)  (None, 30, 30, 480)  0          ['activation_7[0][0]']           \n",
            "                                                                                                  \n",
            " conv2d_8 (Conv2D)              (None, 30, 30, 960)  4148160     ['max_pooling2d_3[0][0]']        \n",
            "                                                                                                  \n",
            " batch_normalization_8 (BatchNo  (None, 30, 30, 960)  3840       ['conv2d_8[0][0]']               \n",
            " rmalization)                                                                                     \n",
            "                                                                                                  \n",
            " activation_8 (Activation)      (None, 30, 30, 960)  0           ['batch_normalization_8[0][0]']  \n",
            "                                                                                                  \n",
            " conv2d_9 (Conv2D)              (None, 30, 30, 960)  8295360     ['activation_8[0][0]']           \n",
            "                                                                                                  \n",
            " batch_normalization_9 (BatchNo  (None, 30, 30, 960)  3840       ['conv2d_9[0][0]']               \n",
            " rmalization)                                                                                     \n",
            "                                                                                                  \n",
            " activation_9 (Activation)      (None, 30, 30, 960)  0           ['batch_normalization_9[0][0]']  \n",
            "                                                                                                  \n",
            " conv2d_transpose (Conv2DTransp  (None, 60, 60, 480)  1843680    ['activation_9[0][0]']           \n",
            " ose)                                                                                             \n",
            "                                                                                                  \n",
            " concatenate (Concatenate)      (None, 60, 60, 960)  0           ['conv2d_transpose[0][0]',       \n",
            "                                                                  'activation_7[0][0]']           \n",
            "                                                                                                  \n",
            " conv2d_10 (Conv2D)             (None, 60, 60, 480)  4147680     ['concatenate[0][0]']            \n",
            "                                                                                                  \n",
            " batch_normalization_10 (BatchN  (None, 60, 60, 480)  1920       ['conv2d_10[0][0]']              \n",
            " ormalization)                                                                                    \n",
            "                                                                                                  \n",
            " activation_10 (Activation)     (None, 60, 60, 480)  0           ['batch_normalization_10[0][0]'] \n",
            "                                                                                                  \n",
            " conv2d_11 (Conv2D)             (None, 60, 60, 480)  2074080     ['activation_10[0][0]']          \n",
            "                                                                                                  \n",
            " batch_normalization_11 (BatchN  (None, 60, 60, 480)  1920       ['conv2d_11[0][0]']              \n",
            " ormalization)                                                                                    \n",
            "                                                                                                  \n",
            " activation_11 (Activation)     (None, 60, 60, 480)  0           ['batch_normalization_11[0][0]'] \n",
            "                                                                                                  \n",
            " conv2d_transpose_1 (Conv2DTran  (None, 120, 120, 24  461040     ['activation_11[0][0]']          \n",
            " spose)                         0)                                                                \n",
            "                                                                                                  \n",
            " concatenate_1 (Concatenate)    (None, 120, 120, 48  0           ['conv2d_transpose_1[0][0]',     \n",
            "                                0)                                'activation_5[0][0]']           \n",
            "                                                                                                  \n",
            " conv2d_12 (Conv2D)             (None, 120, 120, 24  1037040     ['concatenate_1[0][0]']          \n",
            "                                0)                                                                \n",
            "                                                                                                  \n",
            " batch_normalization_12 (BatchN  (None, 120, 120, 24  960        ['conv2d_12[0][0]']              \n",
            " ormalization)                  0)                                                                \n",
            "                                                                                                  \n",
            " activation_12 (Activation)     (None, 120, 120, 24  0           ['batch_normalization_12[0][0]'] \n",
            "                                0)                                                                \n",
            "                                                                                                  \n",
            " conv2d_13 (Conv2D)             (None, 120, 120, 24  518640      ['activation_12[0][0]']          \n",
            "                                0)                                                                \n",
            "                                                                                                  \n",
            " batch_normalization_13 (BatchN  (None, 120, 120, 24  960        ['conv2d_13[0][0]']              \n",
            " ormalization)                  0)                                                                \n",
            "                                                                                                  \n",
            " activation_13 (Activation)     (None, 120, 120, 24  0           ['batch_normalization_13[0][0]'] \n",
            "                                0)                                                                \n",
            "                                                                                                  \n",
            " conv2d_transpose_2 (Conv2DTran  (None, 240, 240, 12  115320     ['activation_13[0][0]']          \n",
            " spose)                         0)                                                                \n",
            "                                                                                                  \n",
            " concatenate_2 (Concatenate)    (None, 240, 240, 24  0           ['conv2d_transpose_2[0][0]',     \n",
            "                                0)                                'activation_3[0][0]']           \n",
            "                                                                                                  \n",
            " conv2d_14 (Conv2D)             (None, 240, 240, 12  259320      ['concatenate_2[0][0]']          \n",
            "                                0)                                                                \n",
            "                                                                                                  \n",
            " batch_normalization_14 (BatchN  (None, 240, 240, 12  480        ['conv2d_14[0][0]']              \n",
            " ormalization)                  0)                                                                \n",
            "                                                                                                  \n",
            " activation_14 (Activation)     (None, 240, 240, 12  0           ['batch_normalization_14[0][0]'] \n",
            "                                0)                                                                \n",
            "                                                                                                  \n",
            " conv2d_15 (Conv2D)             (None, 240, 240, 12  129720      ['activation_14[0][0]']          \n",
            "                                0)                                                                \n",
            "                                                                                                  \n",
            " batch_normalization_15 (BatchN  (None, 240, 240, 12  480        ['conv2d_15[0][0]']              \n",
            " ormalization)                  0)                                                                \n",
            "                                                                                                  \n",
            " activation_15 (Activation)     (None, 240, 240, 12  0           ['batch_normalization_15[0][0]'] \n",
            "                                0)                                                                \n",
            "                                                                                                  \n",
            " conv2d_transpose_3 (Conv2DTran  (None, 480, 480, 60  28860      ['activation_15[0][0]']          \n",
            " spose)                         )                                                                 \n",
            "                                                                                                  \n",
            " concatenate_3 (Concatenate)    (None, 480, 480, 12  0           ['conv2d_transpose_3[0][0]',     \n",
            "                                0)                                'activation_1[0][0]']           \n",
            "                                                                                                  \n",
            " conv2d_16 (Conv2D)             (None, 480, 480, 60  64860       ['concatenate_3[0][0]']          \n",
            "                                )                                                                 \n",
            "                                                                                                  \n",
            " batch_normalization_16 (BatchN  (None, 480, 480, 60  240        ['conv2d_16[0][0]']              \n",
            " ormalization)                  )                                                                 \n",
            "                                                                                                  \n",
            " activation_16 (Activation)     (None, 480, 480, 60  0           ['batch_normalization_16[0][0]'] \n",
            "                                )                                                                 \n",
            "                                                                                                  \n",
            " conv2d_17 (Conv2D)             (None, 480, 480, 60  32460       ['activation_16[0][0]']          \n",
            "                                )                                                                 \n",
            "                                                                                                  \n",
            " batch_normalization_17 (BatchN  (None, 480, 480, 60  240        ['conv2d_17[0][0]']              \n",
            " ormalization)                  )                                                                 \n",
            "                                                                                                  \n",
            " activation_17 (Activation)     (None, 480, 480, 60  0           ['batch_normalization_17[0][0]'] \n",
            "                                )                                                                 \n",
            "                                                                                                  \n",
            " conv2d_18 (Conv2D)             (None, 480, 480, 1)  61          ['activation_17[0][0]']          \n",
            "                                                                                                  \n",
            "==================================================================================================\n",
            "Total params: 27,295,501\n",
            "Trainable params: 27,284,461\n",
            "Non-trainable params: 11,040\n",
            "__________________________________________________________________________________________________\n"
          ]
        }
      ],
      "source": [
        "# Build the model\n",
        "# Check if you are using correct metrics?\n",
        "# https://keras.io/api/metrics/segmentation_metrics/\n",
        "\n",
        "model = build_unet(input_shape, n_classes=1)\n",
        "model.compile(optimizer=Adam(learning_rate = 1e-3), loss='binary_crossentropy', metrics=['accuracy'])\n",
        "model.summary()"
      ],
      "id": "FIJuTYlIVOuk"
    },
    {
      "cell_type": "markdown",
      "metadata": {
        "id": "MY04uKhtYs9V"
      },
      "source": [
        "### Train model\n",
        "https://www.youtube.com/watch?v=7j0yL8A-k4E"
      ],
      "id": "MY04uKhtYs9V"
    },
    {
      "cell_type": "code",
      "execution_count": 48,
      "metadata": {
        "colab": {
          "base_uri": "https://localhost:8080/",
          "height": 415
        },
        "id": "8efvjp2IYnf-",
        "outputId": "04bd8424-1a93-4ef9-e027-f447fd682336"
      },
      "outputs": [
        {
          "output_type": "stream",
          "name": "stdout",
          "text": [
            "Epoch 1/10\n",
            "  1/400 [..............................] - ETA: 6:37:32 - loss: 1.0456 - accuracy: 0.3010"
          ]
        },
        {
          "output_type": "error",
          "ename": "KeyboardInterrupt",
          "evalue": "ignored",
          "traceback": [
            "\u001b[0;31m---------------------------------------------------------------------------\u001b[0m",
            "\u001b[0;31mKeyboardInterrupt\u001b[0m                         Traceback (most recent call last)",
            "\u001b[0;32m<ipython-input-48-9364a4a52fc8>\u001b[0m in \u001b[0;36m<module>\u001b[0;34m\u001b[0m\n\u001b[0;32m----> 1\u001b[0;31m history = model.fit(X_train, y_train, \n\u001b[0m\u001b[1;32m      2\u001b[0m                     \u001b[0mbatch_size\u001b[0m \u001b[0;34m=\u001b[0m \u001b[0;36m2\u001b[0m\u001b[0;34m,\u001b[0m\u001b[0;34m\u001b[0m\u001b[0;34m\u001b[0m\u001b[0m\n\u001b[1;32m      3\u001b[0m                     \u001b[0mverbose\u001b[0m\u001b[0;34m=\u001b[0m\u001b[0;36m1\u001b[0m\u001b[0;34m,\u001b[0m\u001b[0;34m\u001b[0m\u001b[0;34m\u001b[0m\u001b[0m\n\u001b[1;32m      4\u001b[0m                     \u001b[0mepochs\u001b[0m\u001b[0;34m=\u001b[0m \u001b[0;36m10\u001b[0m\u001b[0;34m,\u001b[0m\u001b[0;34m\u001b[0m\u001b[0;34m\u001b[0m\u001b[0m\n\u001b[1;32m      5\u001b[0m                     \u001b[0mvalidation_data\u001b[0m\u001b[0;34m=\u001b[0m\u001b[0;34m(\u001b[0m\u001b[0mX_val\u001b[0m\u001b[0;34m,\u001b[0m \u001b[0my_val\u001b[0m\u001b[0;34m)\u001b[0m\u001b[0;34m,\u001b[0m\u001b[0;34m\u001b[0m\u001b[0;34m\u001b[0m\u001b[0m\n",
            "\u001b[0;32m/usr/local/lib/python3.8/dist-packages/keras/utils/traceback_utils.py\u001b[0m in \u001b[0;36merror_handler\u001b[0;34m(*args, **kwargs)\u001b[0m\n\u001b[1;32m     62\u001b[0m     \u001b[0mfiltered_tb\u001b[0m \u001b[0;34m=\u001b[0m \u001b[0;32mNone\u001b[0m\u001b[0;34m\u001b[0m\u001b[0;34m\u001b[0m\u001b[0m\n\u001b[1;32m     63\u001b[0m     \u001b[0;32mtry\u001b[0m\u001b[0;34m:\u001b[0m\u001b[0;34m\u001b[0m\u001b[0;34m\u001b[0m\u001b[0m\n\u001b[0;32m---> 64\u001b[0;31m       \u001b[0;32mreturn\u001b[0m \u001b[0mfn\u001b[0m\u001b[0;34m(\u001b[0m\u001b[0;34m*\u001b[0m\u001b[0margs\u001b[0m\u001b[0;34m,\u001b[0m \u001b[0;34m**\u001b[0m\u001b[0mkwargs\u001b[0m\u001b[0;34m)\u001b[0m\u001b[0;34m\u001b[0m\u001b[0;34m\u001b[0m\u001b[0m\n\u001b[0m\u001b[1;32m     65\u001b[0m     \u001b[0;32mexcept\u001b[0m \u001b[0mException\u001b[0m \u001b[0;32mas\u001b[0m \u001b[0me\u001b[0m\u001b[0;34m:\u001b[0m  \u001b[0;31m# pylint: disable=broad-except\u001b[0m\u001b[0;34m\u001b[0m\u001b[0;34m\u001b[0m\u001b[0m\n\u001b[1;32m     66\u001b[0m       \u001b[0mfiltered_tb\u001b[0m \u001b[0;34m=\u001b[0m \u001b[0m_process_traceback_frames\u001b[0m\u001b[0;34m(\u001b[0m\u001b[0me\u001b[0m\u001b[0;34m.\u001b[0m\u001b[0m__traceback__\u001b[0m\u001b[0;34m)\u001b[0m\u001b[0;34m\u001b[0m\u001b[0;34m\u001b[0m\u001b[0m\n",
            "\u001b[0;32m/usr/local/lib/python3.8/dist-packages/keras/engine/training.py\u001b[0m in \u001b[0;36mfit\u001b[0;34m(self, x, y, batch_size, epochs, verbose, callbacks, validation_split, validation_data, shuffle, class_weight, sample_weight, initial_epoch, steps_per_epoch, validation_steps, validation_batch_size, validation_freq, max_queue_size, workers, use_multiprocessing)\u001b[0m\n\u001b[1;32m   1407\u001b[0m                 _r=1):\n\u001b[1;32m   1408\u001b[0m               \u001b[0mcallbacks\u001b[0m\u001b[0;34m.\u001b[0m\u001b[0mon_train_batch_begin\u001b[0m\u001b[0;34m(\u001b[0m\u001b[0mstep\u001b[0m\u001b[0;34m)\u001b[0m\u001b[0;34m\u001b[0m\u001b[0;34m\u001b[0m\u001b[0m\n\u001b[0;32m-> 1409\u001b[0;31m               \u001b[0mtmp_logs\u001b[0m \u001b[0;34m=\u001b[0m \u001b[0mself\u001b[0m\u001b[0;34m.\u001b[0m\u001b[0mtrain_function\u001b[0m\u001b[0;34m(\u001b[0m\u001b[0miterator\u001b[0m\u001b[0;34m)\u001b[0m\u001b[0;34m\u001b[0m\u001b[0;34m\u001b[0m\u001b[0m\n\u001b[0m\u001b[1;32m   1410\u001b[0m               \u001b[0;32mif\u001b[0m \u001b[0mdata_handler\u001b[0m\u001b[0;34m.\u001b[0m\u001b[0mshould_sync\u001b[0m\u001b[0;34m:\u001b[0m\u001b[0;34m\u001b[0m\u001b[0;34m\u001b[0m\u001b[0m\n\u001b[1;32m   1411\u001b[0m                 \u001b[0mcontext\u001b[0m\u001b[0;34m.\u001b[0m\u001b[0masync_wait\u001b[0m\u001b[0;34m(\u001b[0m\u001b[0;34m)\u001b[0m\u001b[0;34m\u001b[0m\u001b[0;34m\u001b[0m\u001b[0m\n",
            "\u001b[0;32m/usr/local/lib/python3.8/dist-packages/tensorflow/python/util/traceback_utils.py\u001b[0m in \u001b[0;36merror_handler\u001b[0;34m(*args, **kwargs)\u001b[0m\n\u001b[1;32m    148\u001b[0m     \u001b[0mfiltered_tb\u001b[0m \u001b[0;34m=\u001b[0m \u001b[0;32mNone\u001b[0m\u001b[0;34m\u001b[0m\u001b[0;34m\u001b[0m\u001b[0m\n\u001b[1;32m    149\u001b[0m     \u001b[0;32mtry\u001b[0m\u001b[0;34m:\u001b[0m\u001b[0;34m\u001b[0m\u001b[0;34m\u001b[0m\u001b[0m\n\u001b[0;32m--> 150\u001b[0;31m       \u001b[0;32mreturn\u001b[0m \u001b[0mfn\u001b[0m\u001b[0;34m(\u001b[0m\u001b[0;34m*\u001b[0m\u001b[0margs\u001b[0m\u001b[0;34m,\u001b[0m \u001b[0;34m**\u001b[0m\u001b[0mkwargs\u001b[0m\u001b[0;34m)\u001b[0m\u001b[0;34m\u001b[0m\u001b[0;34m\u001b[0m\u001b[0m\n\u001b[0m\u001b[1;32m    151\u001b[0m     \u001b[0;32mexcept\u001b[0m \u001b[0mException\u001b[0m \u001b[0;32mas\u001b[0m \u001b[0me\u001b[0m\u001b[0;34m:\u001b[0m\u001b[0;34m\u001b[0m\u001b[0;34m\u001b[0m\u001b[0m\n\u001b[1;32m    152\u001b[0m       \u001b[0mfiltered_tb\u001b[0m \u001b[0;34m=\u001b[0m \u001b[0m_process_traceback_frames\u001b[0m\u001b[0;34m(\u001b[0m\u001b[0me\u001b[0m\u001b[0;34m.\u001b[0m\u001b[0m__traceback__\u001b[0m\u001b[0;34m)\u001b[0m\u001b[0;34m\u001b[0m\u001b[0;34m\u001b[0m\u001b[0m\n",
            "\u001b[0;32m/usr/local/lib/python3.8/dist-packages/tensorflow/python/eager/def_function.py\u001b[0m in \u001b[0;36m__call__\u001b[0;34m(self, *args, **kwds)\u001b[0m\n\u001b[1;32m    913\u001b[0m \u001b[0;34m\u001b[0m\u001b[0m\n\u001b[1;32m    914\u001b[0m       \u001b[0;32mwith\u001b[0m \u001b[0mOptionalXlaContext\u001b[0m\u001b[0;34m(\u001b[0m\u001b[0mself\u001b[0m\u001b[0;34m.\u001b[0m\u001b[0m_jit_compile\u001b[0m\u001b[0;34m)\u001b[0m\u001b[0;34m:\u001b[0m\u001b[0;34m\u001b[0m\u001b[0;34m\u001b[0m\u001b[0m\n\u001b[0;32m--> 915\u001b[0;31m         \u001b[0mresult\u001b[0m \u001b[0;34m=\u001b[0m \u001b[0mself\u001b[0m\u001b[0;34m.\u001b[0m\u001b[0m_call\u001b[0m\u001b[0;34m(\u001b[0m\u001b[0;34m*\u001b[0m\u001b[0margs\u001b[0m\u001b[0;34m,\u001b[0m \u001b[0;34m**\u001b[0m\u001b[0mkwds\u001b[0m\u001b[0;34m)\u001b[0m\u001b[0;34m\u001b[0m\u001b[0;34m\u001b[0m\u001b[0m\n\u001b[0m\u001b[1;32m    916\u001b[0m \u001b[0;34m\u001b[0m\u001b[0m\n\u001b[1;32m    917\u001b[0m       \u001b[0mnew_tracing_count\u001b[0m \u001b[0;34m=\u001b[0m \u001b[0mself\u001b[0m\u001b[0;34m.\u001b[0m\u001b[0mexperimental_get_tracing_count\u001b[0m\u001b[0;34m(\u001b[0m\u001b[0;34m)\u001b[0m\u001b[0;34m\u001b[0m\u001b[0;34m\u001b[0m\u001b[0m\n",
            "\u001b[0;32m/usr/local/lib/python3.8/dist-packages/tensorflow/python/eager/def_function.py\u001b[0m in \u001b[0;36m_call\u001b[0;34m(self, *args, **kwds)\u001b[0m\n\u001b[1;32m    945\u001b[0m       \u001b[0;31m# In this case we have created variables on the first call, so we run the\u001b[0m\u001b[0;34m\u001b[0m\u001b[0;34m\u001b[0m\u001b[0;34m\u001b[0m\u001b[0m\n\u001b[1;32m    946\u001b[0m       \u001b[0;31m# defunned version which is guaranteed to never create variables.\u001b[0m\u001b[0;34m\u001b[0m\u001b[0;34m\u001b[0m\u001b[0;34m\u001b[0m\u001b[0m\n\u001b[0;32m--> 947\u001b[0;31m       \u001b[0;32mreturn\u001b[0m \u001b[0mself\u001b[0m\u001b[0;34m.\u001b[0m\u001b[0m_stateless_fn\u001b[0m\u001b[0;34m(\u001b[0m\u001b[0;34m*\u001b[0m\u001b[0margs\u001b[0m\u001b[0;34m,\u001b[0m \u001b[0;34m**\u001b[0m\u001b[0mkwds\u001b[0m\u001b[0;34m)\u001b[0m  \u001b[0;31m# pylint: disable=not-callable\u001b[0m\u001b[0;34m\u001b[0m\u001b[0;34m\u001b[0m\u001b[0m\n\u001b[0m\u001b[1;32m    948\u001b[0m     \u001b[0;32melif\u001b[0m \u001b[0mself\u001b[0m\u001b[0;34m.\u001b[0m\u001b[0m_stateful_fn\u001b[0m \u001b[0;32mis\u001b[0m \u001b[0;32mnot\u001b[0m \u001b[0;32mNone\u001b[0m\u001b[0;34m:\u001b[0m\u001b[0;34m\u001b[0m\u001b[0;34m\u001b[0m\u001b[0m\n\u001b[1;32m    949\u001b[0m       \u001b[0;31m# Release the lock early so that multiple threads can perform the call\u001b[0m\u001b[0;34m\u001b[0m\u001b[0;34m\u001b[0m\u001b[0;34m\u001b[0m\u001b[0m\n",
            "\u001b[0;32m/usr/local/lib/python3.8/dist-packages/tensorflow/python/eager/function.py\u001b[0m in \u001b[0;36m__call__\u001b[0;34m(self, *args, **kwargs)\u001b[0m\n\u001b[1;32m   2451\u001b[0m       (graph_function,\n\u001b[1;32m   2452\u001b[0m        filtered_flat_args) = self._maybe_define_function(args, kwargs)\n\u001b[0;32m-> 2453\u001b[0;31m     return graph_function._call_flat(\n\u001b[0m\u001b[1;32m   2454\u001b[0m         filtered_flat_args, captured_inputs=graph_function.captured_inputs)  # pylint: disable=protected-access\n\u001b[1;32m   2455\u001b[0m \u001b[0;34m\u001b[0m\u001b[0m\n",
            "\u001b[0;32m/usr/local/lib/python3.8/dist-packages/tensorflow/python/eager/function.py\u001b[0m in \u001b[0;36m_call_flat\u001b[0;34m(self, args, captured_inputs, cancellation_manager)\u001b[0m\n\u001b[1;32m   1858\u001b[0m         and executing_eagerly):\n\u001b[1;32m   1859\u001b[0m       \u001b[0;31m# No tape is watching; skip to running the function.\u001b[0m\u001b[0;34m\u001b[0m\u001b[0;34m\u001b[0m\u001b[0;34m\u001b[0m\u001b[0m\n\u001b[0;32m-> 1860\u001b[0;31m       return self._build_call_outputs(self._inference_function.call(\n\u001b[0m\u001b[1;32m   1861\u001b[0m           ctx, args, cancellation_manager=cancellation_manager))\n\u001b[1;32m   1862\u001b[0m     forward_backward = self._select_forward_and_backward_functions(\n",
            "\u001b[0;32m/usr/local/lib/python3.8/dist-packages/tensorflow/python/eager/function.py\u001b[0m in \u001b[0;36mcall\u001b[0;34m(self, ctx, args, cancellation_manager)\u001b[0m\n\u001b[1;32m    495\u001b[0m       \u001b[0;32mwith\u001b[0m \u001b[0m_InterpolateFunctionError\u001b[0m\u001b[0;34m(\u001b[0m\u001b[0mself\u001b[0m\u001b[0;34m)\u001b[0m\u001b[0;34m:\u001b[0m\u001b[0;34m\u001b[0m\u001b[0;34m\u001b[0m\u001b[0m\n\u001b[1;32m    496\u001b[0m         \u001b[0;32mif\u001b[0m \u001b[0mcancellation_manager\u001b[0m \u001b[0;32mis\u001b[0m \u001b[0;32mNone\u001b[0m\u001b[0;34m:\u001b[0m\u001b[0;34m\u001b[0m\u001b[0;34m\u001b[0m\u001b[0m\n\u001b[0;32m--> 497\u001b[0;31m           outputs = execute.execute(\n\u001b[0m\u001b[1;32m    498\u001b[0m               \u001b[0mstr\u001b[0m\u001b[0;34m(\u001b[0m\u001b[0mself\u001b[0m\u001b[0;34m.\u001b[0m\u001b[0msignature\u001b[0m\u001b[0;34m.\u001b[0m\u001b[0mname\u001b[0m\u001b[0;34m)\u001b[0m\u001b[0;34m,\u001b[0m\u001b[0;34m\u001b[0m\u001b[0;34m\u001b[0m\u001b[0m\n\u001b[1;32m    499\u001b[0m               \u001b[0mnum_outputs\u001b[0m\u001b[0;34m=\u001b[0m\u001b[0mself\u001b[0m\u001b[0;34m.\u001b[0m\u001b[0m_num_outputs\u001b[0m\u001b[0;34m,\u001b[0m\u001b[0;34m\u001b[0m\u001b[0;34m\u001b[0m\u001b[0m\n",
            "\u001b[0;32m/usr/local/lib/python3.8/dist-packages/tensorflow/python/eager/execute.py\u001b[0m in \u001b[0;36mquick_execute\u001b[0;34m(op_name, num_outputs, inputs, attrs, ctx, name)\u001b[0m\n\u001b[1;32m     52\u001b[0m   \u001b[0;32mtry\u001b[0m\u001b[0;34m:\u001b[0m\u001b[0;34m\u001b[0m\u001b[0;34m\u001b[0m\u001b[0m\n\u001b[1;32m     53\u001b[0m     \u001b[0mctx\u001b[0m\u001b[0;34m.\u001b[0m\u001b[0mensure_initialized\u001b[0m\u001b[0;34m(\u001b[0m\u001b[0;34m)\u001b[0m\u001b[0;34m\u001b[0m\u001b[0;34m\u001b[0m\u001b[0m\n\u001b[0;32m---> 54\u001b[0;31m     tensors = pywrap_tfe.TFE_Py_Execute(ctx._handle, device_name, op_name,\n\u001b[0m\u001b[1;32m     55\u001b[0m                                         inputs, attrs, num_outputs)\n\u001b[1;32m     56\u001b[0m   \u001b[0;32mexcept\u001b[0m \u001b[0mcore\u001b[0m\u001b[0;34m.\u001b[0m\u001b[0m_NotOkStatusException\u001b[0m \u001b[0;32mas\u001b[0m \u001b[0me\u001b[0m\u001b[0;34m:\u001b[0m\u001b[0;34m\u001b[0m\u001b[0;34m\u001b[0m\u001b[0m\n",
            "\u001b[0;31mKeyboardInterrupt\u001b[0m: "
          ]
        }
      ],
      "source": [
        "history = model.fit(X_train, y_train, \n",
        "                    batch_size = 4, \n",
        "                    verbose=1, \n",
        "                    epochs= 10, \n",
        "                    validation_data=(X_val, y_val), \n",
        "                    shuffle=False)\n",
        "\n",
        "# Colab\n",
        "# System RAM: 9.7/12.7\n",
        "# GPU RAM: 14.3/15\n",
        "\n",
        "# Training on CPU --> 1 epoch; 6:37 hours\n",
        "# \n",
        "\n",
        "# Something is wrong with the training set, but what?\n",
        "\n",
        "# TEST 1: 10 epochs without data augmentation\n",
        "# \n",
        "# TEST 2: 10 epochs with data augmentation"
      ],
      "id": "8efvjp2IYnf-"
    },
    {
      "cell_type": "code",
      "execution_count": null,
      "metadata": {
        "id": "tDPvipjlbSxk"
      },
      "outputs": [],
      "source": [
        "# Copy/paste losses from previous training\n",
        "# TEST 1: 10 epochs without data augmentation\n",
        "\n",
        "'''\n",
        "Epoch 1/10\n",
        "200/200 [==============================] - 220s 985ms/step - loss: 0.3384 - accuracy: 0.8501 - val_loss: 9.9828 - val_accuracy: 0.0866\n",
        "Epoch 2/10\n",
        "200/200 [==============================] - 196s 979ms/step - loss: 0.2872 - accuracy: 0.8583 - val_loss: 1.4065 - val_accuracy: 0.7084\n",
        "Epoch 3/10\n",
        "200/200 [==============================] - 190s 949ms/step - loss: 0.2611 - accuracy: 0.8618 - val_loss: 1.1999 - val_accuracy: 0.8263\n",
        "Epoch 4/10\n",
        "200/200 [==============================] - 195s 977ms/step - loss: 0.2411 - accuracy: 0.8674 - val_loss: 0.4944 - val_accuracy: 0.8367\n",
        "Epoch 5/10\n",
        "200/200 [==============================] - 196s 981ms/step - loss: 0.2295 - accuracy: 0.8709 - val_loss: 1.2304 - val_accuracy: 0.8424\n",
        "Epoch 6/10\n",
        "200/200 [==============================] - 196s 982ms/step - loss: 0.2199 - accuracy: 0.8734 - val_loss: 1.1057 - val_accuracy: 0.8417\n",
        "Epoch 7/10\n",
        "200/200 [==============================] - 190s 952ms/step - loss: 0.2114 - accuracy: 0.8758 - val_loss: 1.1969 - val_accuracy: 0.8409\n",
        "Epoch 8/10\n",
        "200/200 [==============================] - 196s 980ms/step - loss: 0.2045 - accuracy: 0.8775 - val_loss: 1.3014 - val_accuracy: 0.8399\n",
        "Epoch 9/10\n",
        "200/200 [==============================] - 191s 953ms/step - loss: 0.1952 - accuracy: 0.8800 - val_loss: 0.8283 - val_accuracy: 0.8419\n",
        "Epoch 10/10\n",
        "200/200 [==============================] - 190s 952ms/step - loss: 0.1897 - accuracy: 0.8816 - val_loss: 0.6361 - val_accuracy: 0.8448\n",
        "\n",
        "'''"
      ],
      "id": "tDPvipjlbSxk"
    },
    {
      "cell_type": "code",
      "execution_count": null,
      "metadata": {
        "id": "HoFAqdvVD4WR"
      },
      "outputs": [],
      "source": [
        "# Save the model for future use\n",
        "model.save('/content/drive/MyDrive/models/mapAI_10-epochs-CorrNormalization.hdf5')"
      ],
      "id": "HoFAqdvVD4WR"
    },
    {
      "cell_type": "code",
      "execution_count": null,
      "metadata": {
        "id": "6wiLdqFJYnpL"
      },
      "outputs": [],
      "source": [
        "# Evaluate model on the test set\n",
        "# model.evaluate(X_test, y_test) "
      ],
      "id": "6wiLdqFJYnpL"
    },
    {
      "cell_type": "markdown",
      "metadata": {
        "id": "PbmMnx4Ibdrc"
      },
      "source": [
        "### Plot training and validation accuracy"
      ],
      "id": "PbmMnx4Ibdrc"
    },
    {
      "cell_type": "code",
      "execution_count": null,
      "metadata": {
        "id": "IpTYCbcwYnvp"
      },
      "outputs": [],
      "source": [
        "#plot the training and validation accuracy and loss at each epoch\n",
        "loss = history.history['loss']\n",
        "val_loss = history.history['val_loss']\n",
        "epochs = range(1, len(loss) + 1)\n",
        "plt.plot(epochs, loss, 'y', label='Training loss')\n",
        "#plt.plot(epochs, val_loss, 'r', label='Validation loss')\n",
        "plt.title('Training loss')\n",
        "plt.grid()\n",
        "plt.xlabel('Epochs')\n",
        "plt.ylabel('Loss')\n",
        "plt.legend()\n",
        "plt.show()\n",
        "\n",
        "acc = history.history['accuracy']\n",
        "val_acc = history.history['val_accuracy']\n",
        "plt.plot(epochs, acc, 'y', label='Training acc')\n",
        "#plt.plot(epochs, val_acc, 'r', label='Validation acc')\n",
        "plt.title('Training and validation accuracy')\n",
        "plt.grid()\n",
        "plt.xlabel('Epochs')\n",
        "plt.ylabel('Accuracy')\n",
        "plt.legend()\n",
        "plt.show()"
      ],
      "id": "IpTYCbcwYnvp"
    },
    {
      "cell_type": "markdown",
      "metadata": {
        "id": "EXu_-5qcbsln"
      },
      "source": [
        "### Load previously saved model"
      ],
      "id": "EXu_-5qcbsln"
    },
    {
      "cell_type": "code",
      "execution_count": 49,
      "metadata": {
        "id": "-KUwZOYOYnyP"
      },
      "outputs": [],
      "source": [
        "#Load previously saved model\n",
        "from keras.models import load_model\n",
        "\n",
        "model_path = '/content/drive/MyDrive/models/mapAI_small_100-epochs.hdf5'\n",
        "\n",
        "model = load_model(model_path, compile=False)"
      ],
      "id": "-KUwZOYOYnyP"
    },
    {
      "cell_type": "markdown",
      "metadata": {
        "id": "dzbjXRnRb8Y0"
      },
      "source": [
        "### Prediction"
      ],
      "id": "dzbjXRnRb8Y0"
    },
    {
      "cell_type": "code",
      "source": [
        "X_test.shape"
      ],
      "metadata": {
        "colab": {
          "base_uri": "https://localhost:8080/"
        },
        "id": "1iQrsD12jGBy",
        "outputId": "9f721f0f-24bc-4fc8-9812-b76353a0a2a1"
      },
      "id": "1iQrsD12jGBy",
      "execution_count": 50,
      "outputs": [
        {
          "output_type": "execute_result",
          "data": {
            "text/plain": [
              "TensorShape([250, 480, 480, 1])"
            ]
          },
          "metadata": {},
          "execution_count": 50
        }
      ]
    },
    {
      "cell_type": "code",
      "execution_count": null,
      "metadata": {
        "id": "h8XD9YiEYn04"
      },
      "outputs": [],
      "source": [
        "# Works only with GPU\n",
        "\n",
        "# IoU threshold\n",
        "y_pred=model.predict(X_test)\n",
        "y_pred_thresholded = y_pred > 0.5"
      ],
      "id": "h8XD9YiEYn04"
    },
    {
      "cell_type": "code",
      "execution_count": null,
      "metadata": {
        "id": "ySA0TnPmcC4b"
      },
      "outputs": [],
      "source": [
        "from keras.metrics import MeanIoU\n",
        "\n",
        "# binary classification --> 2 classes\n",
        "n_classes = 2\n",
        "IOU_keras = MeanIoU(num_classes=n_classes)  \n",
        "IOU_keras.update_state(y_pred_thresholded, y_test)\n",
        "print(\"Mean IoU =\", IOU_keras.result().numpy())"
      ],
      "id": "ySA0TnPmcC4b"
    },
    {
      "cell_type": "code",
      "execution_count": null,
      "metadata": {
        "id": "ybvqIA3ucSKb"
      },
      "outputs": [],
      "source": [
        "threshold = 0.5\n",
        "\n",
        "import random\n",
        "\n",
        "test_img_number = random.randint(0, len(X_test)-1)\n",
        "test_img = X_test[test_img_number]\n",
        "ground_truth=y_test[test_img_number]\n",
        "test_img_input=np.expand_dims(test_img, 0)\n",
        "print(test_img_input.shape)\n",
        "prediction = (model.predict(test_img_input)[0,:,:,0] > 0.5).astype(np.uint8)\n",
        "print(prediction.shape)\n",
        "\n",
        "plt.figure(figsize=(20, 16))\n",
        "plt.subplot(231)\n",
        "plt.title('Testing Image')\n",
        "plt.imshow(test_img[:,:,0])\n",
        "plt.subplot(232)\n",
        "plt.title('Testing Label')\n",
        "plt.imshow(ground_truth[:,:,0], cmap='gray')\n",
        "plt.subplot(233)\n",
        "plt.title('Prediction on test image')\n",
        "plt.imshow(prediction, cmap='gray')\n",
        "\n",
        "plt.show()"
      ],
      "id": "ybvqIA3ucSKb"
    },
    {
      "cell_type": "markdown",
      "metadata": {
        "id": "HzvjpYi1c66_"
      },
      "source": [
        "#### Problems\n",
        "\n",
        "\n",
        "\n",
        "\n",
        "*   Test images and labels are different? Solved: Use sort()\n",
        "\n",
        "## To solve:\n",
        "*   Plot real color images not gray\n",
        "*   other?\n",
        "\n",
        "\n",
        "\n"
      ],
      "id": "HzvjpYi1c66_"
    },
    {
      "cell_type": "code",
      "execution_count": null,
      "metadata": {
        "id": "DOKNAt64cslG"
      },
      "outputs": [],
      "source": [],
      "id": "DOKNAt64cslG"
    }
  ],
  "metadata": {
    "accelerator": "GPU",
    "colab": {
      "provenance": [],
      "include_colab_link": true
    },
    "gpuClass": "standard",
    "kernelspec": {
      "display_name": "tf",
      "language": "python",
      "name": "tf"
    },
    "language_info": {
      "codemirror_mode": {
        "name": "ipython",
        "version": 3
      },
      "file_extension": ".py",
      "mimetype": "text/x-python",
      "name": "python",
      "nbconvert_exporter": "python",
      "pygments_lexer": "ipython3",
      "version": "3.9.16"
    },
    "widgets": {
      "application/vnd.jupyter.widget-state+json": {
        "2a5ba9de89594335965338626bf16008": {
          "model_module": "@jupyter-widgets/controls",
          "model_name": "VBoxModel",
          "model_module_version": "1.5.0",
          "state": {
            "_dom_classes": [
              "widget-interact"
            ],
            "_model_module": "@jupyter-widgets/controls",
            "_model_module_version": "1.5.0",
            "_model_name": "VBoxModel",
            "_view_count": null,
            "_view_module": "@jupyter-widgets/controls",
            "_view_module_version": "1.5.0",
            "_view_name": "VBoxView",
            "box_style": "",
            "children": [
              "IPY_MODEL_e6da6b84ae5044beba61cb1bf91d4b53",
              "IPY_MODEL_bc561441c33549129e8d932ba260bd1f",
              "IPY_MODEL_e0ddb95705bc4942891e74e59ddf0a9b",
              "IPY_MODEL_bf9c9f5f76f840f097e08b026e86bb05"
            ],
            "layout": "IPY_MODEL_1e534cab12ae49dcb0e7e565327790d9"
          }
        },
        "e6da6b84ae5044beba61cb1bf91d4b53": {
          "model_module": "@jupyter-widgets/controls",
          "model_name": "BoundedIntTextModel",
          "model_module_version": "1.5.0",
          "state": {
            "_dom_classes": [],
            "_model_module": "@jupyter-widgets/controls",
            "_model_module_version": "1.5.0",
            "_model_name": "BoundedIntTextModel",
            "_view_count": null,
            "_view_module": "@jupyter-widgets/controls",
            "_view_module_version": "1.5.0",
            "_view_name": "IntTextView",
            "continuous_update": false,
            "description": "imgidx",
            "description_tooltip": null,
            "disabled": false,
            "layout": "IPY_MODEL_dfec90b62544446695bc7074161ba8dd",
            "max": 999,
            "min": 0,
            "step": 1,
            "style": "IPY_MODEL_45afdac167794e0185bc4ff55d8eeccf",
            "value": 0
          }
        },
        "bc561441c33549129e8d932ba260bd1f": {
          "model_module": "@jupyter-widgets/controls",
          "model_name": "BoundedIntTextModel",
          "model_module_version": "1.5.0",
          "state": {
            "_dom_classes": [],
            "_model_module": "@jupyter-widgets/controls",
            "_model_module_version": "1.5.0",
            "_model_name": "BoundedIntTextModel",
            "_view_count": null,
            "_view_module": "@jupyter-widgets/controls",
            "_view_module_version": "1.5.0",
            "_view_name": "IntTextView",
            "continuous_update": false,
            "description": "figsize",
            "description_tooltip": null,
            "disabled": false,
            "layout": "IPY_MODEL_b3961b061da14a449a1676bcb7ecbcc2",
            "max": 12,
            "min": 4,
            "step": 1,
            "style": "IPY_MODEL_c788cf3081c6403aa6520af4a72fb1ac",
            "value": 6
          }
        },
        "e0ddb95705bc4942891e74e59ddf0a9b": {
          "model_module": "@jupyter-widgets/controls",
          "model_name": "RadioButtonsModel",
          "model_module_version": "1.5.0",
          "state": {
            "_dom_classes": [],
            "_model_module": "@jupyter-widgets/controls",
            "_model_module_version": "1.5.0",
            "_model_name": "RadioButtonsModel",
            "_options_labels": [
              "True",
              "False"
            ],
            "_view_count": null,
            "_view_module": "@jupyter-widgets/controls",
            "_view_module_version": "1.5.0",
            "_view_name": "RadioButtonsView",
            "description": "With segmentation",
            "description_tooltip": null,
            "disabled": false,
            "index": 0,
            "layout": "IPY_MODEL_3071bea5275b4bc2a8dbaac3abf782c4",
            "style": "IPY_MODEL_211ec1d69bdb4c03873fff631dee3093"
          }
        },
        "bf9c9f5f76f840f097e08b026e86bb05": {
          "model_module": "@jupyter-widgets/output",
          "model_name": "OutputModel",
          "model_module_version": "1.0.0",
          "state": {
            "_dom_classes": [],
            "_model_module": "@jupyter-widgets/output",
            "_model_module_version": "1.0.0",
            "_model_name": "OutputModel",
            "_view_count": null,
            "_view_module": "@jupyter-widgets/output",
            "_view_module_version": "1.0.0",
            "_view_name": "OutputView",
            "layout": "IPY_MODEL_e26dbdca51184164a4e7b64cc1500aca",
            "msg_id": "",
            "outputs": [
              {
                "output_type": "stream",
                "name": "stdout",
                "text": [
                  "/tmp/mapai_small/train/images/6051_689_0.png\n",
                  "/tmp/mapai_small/train/masks/6051_689_0.png\n"
                ]
              },
              {
                "output_type": "display_data",
                "data": {
                  "text/plain": "<Figure size 432x432 with 1 Axes>",
                  "image/png": "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\n"
                },
                "metadata": {
                  "needs_background": "light"
                }
              }
            ]
          }
        },
        "1e534cab12ae49dcb0e7e565327790d9": {
          "model_module": "@jupyter-widgets/base",
          "model_name": "LayoutModel",
          "model_module_version": "1.2.0",
          "state": {
            "_model_module": "@jupyter-widgets/base",
            "_model_module_version": "1.2.0",
            "_model_name": "LayoutModel",
            "_view_count": null,
            "_view_module": "@jupyter-widgets/base",
            "_view_module_version": "1.2.0",
            "_view_name": "LayoutView",
            "align_content": null,
            "align_items": null,
            "align_self": null,
            "border": null,
            "bottom": null,
            "display": null,
            "flex": null,
            "flex_flow": null,
            "grid_area": null,
            "grid_auto_columns": null,
            "grid_auto_flow": null,
            "grid_auto_rows": null,
            "grid_column": null,
            "grid_gap": null,
            "grid_row": null,
            "grid_template_areas": null,
            "grid_template_columns": null,
            "grid_template_rows": null,
            "height": null,
            "justify_content": null,
            "justify_items": null,
            "left": null,
            "margin": null,
            "max_height": null,
            "max_width": null,
            "min_height": null,
            "min_width": null,
            "object_fit": null,
            "object_position": null,
            "order": null,
            "overflow": null,
            "overflow_x": null,
            "overflow_y": null,
            "padding": null,
            "right": null,
            "top": null,
            "visibility": null,
            "width": null
          }
        },
        "dfec90b62544446695bc7074161ba8dd": {
          "model_module": "@jupyter-widgets/base",
          "model_name": "LayoutModel",
          "model_module_version": "1.2.0",
          "state": {
            "_model_module": "@jupyter-widgets/base",
            "_model_module_version": "1.2.0",
            "_model_name": "LayoutModel",
            "_view_count": null,
            "_view_module": "@jupyter-widgets/base",
            "_view_module_version": "1.2.0",
            "_view_name": "LayoutView",
            "align_content": null,
            "align_items": null,
            "align_self": null,
            "border": null,
            "bottom": null,
            "display": null,
            "flex": null,
            "flex_flow": null,
            "grid_area": null,
            "grid_auto_columns": null,
            "grid_auto_flow": null,
            "grid_auto_rows": null,
            "grid_column": null,
            "grid_gap": null,
            "grid_row": null,
            "grid_template_areas": null,
            "grid_template_columns": null,
            "grid_template_rows": null,
            "height": null,
            "justify_content": null,
            "justify_items": null,
            "left": null,
            "margin": null,
            "max_height": null,
            "max_width": null,
            "min_height": null,
            "min_width": null,
            "object_fit": null,
            "object_position": null,
            "order": null,
            "overflow": null,
            "overflow_x": null,
            "overflow_y": null,
            "padding": null,
            "right": null,
            "top": null,
            "visibility": null,
            "width": null
          }
        },
        "45afdac167794e0185bc4ff55d8eeccf": {
          "model_module": "@jupyter-widgets/controls",
          "model_name": "DescriptionStyleModel",
          "model_module_version": "1.5.0",
          "state": {
            "_model_module": "@jupyter-widgets/controls",
            "_model_module_version": "1.5.0",
            "_model_name": "DescriptionStyleModel",
            "_view_count": null,
            "_view_module": "@jupyter-widgets/base",
            "_view_module_version": "1.2.0",
            "_view_name": "StyleView",
            "description_width": ""
          }
        },
        "b3961b061da14a449a1676bcb7ecbcc2": {
          "model_module": "@jupyter-widgets/base",
          "model_name": "LayoutModel",
          "model_module_version": "1.2.0",
          "state": {
            "_model_module": "@jupyter-widgets/base",
            "_model_module_version": "1.2.0",
            "_model_name": "LayoutModel",
            "_view_count": null,
            "_view_module": "@jupyter-widgets/base",
            "_view_module_version": "1.2.0",
            "_view_name": "LayoutView",
            "align_content": null,
            "align_items": null,
            "align_self": null,
            "border": null,
            "bottom": null,
            "display": null,
            "flex": null,
            "flex_flow": null,
            "grid_area": null,
            "grid_auto_columns": null,
            "grid_auto_flow": null,
            "grid_auto_rows": null,
            "grid_column": null,
            "grid_gap": null,
            "grid_row": null,
            "grid_template_areas": null,
            "grid_template_columns": null,
            "grid_template_rows": null,
            "height": null,
            "justify_content": null,
            "justify_items": null,
            "left": null,
            "margin": null,
            "max_height": null,
            "max_width": null,
            "min_height": null,
            "min_width": null,
            "object_fit": null,
            "object_position": null,
            "order": null,
            "overflow": null,
            "overflow_x": null,
            "overflow_y": null,
            "padding": null,
            "right": null,
            "top": null,
            "visibility": null,
            "width": null
          }
        },
        "c788cf3081c6403aa6520af4a72fb1ac": {
          "model_module": "@jupyter-widgets/controls",
          "model_name": "DescriptionStyleModel",
          "model_module_version": "1.5.0",
          "state": {
            "_model_module": "@jupyter-widgets/controls",
            "_model_module_version": "1.5.0",
            "_model_name": "DescriptionStyleModel",
            "_view_count": null,
            "_view_module": "@jupyter-widgets/base",
            "_view_module_version": "1.2.0",
            "_view_name": "StyleView",
            "description_width": ""
          }
        },
        "3071bea5275b4bc2a8dbaac3abf782c4": {
          "model_module": "@jupyter-widgets/base",
          "model_name": "LayoutModel",
          "model_module_version": "1.2.0",
          "state": {
            "_model_module": "@jupyter-widgets/base",
            "_model_module_version": "1.2.0",
            "_model_name": "LayoutModel",
            "_view_count": null,
            "_view_module": "@jupyter-widgets/base",
            "_view_module_version": "1.2.0",
            "_view_name": "LayoutView",
            "align_content": null,
            "align_items": null,
            "align_self": null,
            "border": null,
            "bottom": null,
            "display": null,
            "flex": null,
            "flex_flow": null,
            "grid_area": null,
            "grid_auto_columns": null,
            "grid_auto_flow": null,
            "grid_auto_rows": null,
            "grid_column": null,
            "grid_gap": null,
            "grid_row": null,
            "grid_template_areas": null,
            "grid_template_columns": null,
            "grid_template_rows": null,
            "height": null,
            "justify_content": null,
            "justify_items": null,
            "left": null,
            "margin": null,
            "max_height": null,
            "max_width": null,
            "min_height": null,
            "min_width": null,
            "object_fit": null,
            "object_position": null,
            "order": null,
            "overflow": null,
            "overflow_x": null,
            "overflow_y": null,
            "padding": null,
            "right": null,
            "top": null,
            "visibility": null,
            "width": null
          }
        },
        "211ec1d69bdb4c03873fff631dee3093": {
          "model_module": "@jupyter-widgets/controls",
          "model_name": "DescriptionStyleModel",
          "model_module_version": "1.5.0",
          "state": {
            "_model_module": "@jupyter-widgets/controls",
            "_model_module_version": "1.5.0",
            "_model_name": "DescriptionStyleModel",
            "_view_count": null,
            "_view_module": "@jupyter-widgets/base",
            "_view_module_version": "1.2.0",
            "_view_name": "StyleView",
            "description_width": ""
          }
        },
        "e26dbdca51184164a4e7b64cc1500aca": {
          "model_module": "@jupyter-widgets/base",
          "model_name": "LayoutModel",
          "model_module_version": "1.2.0",
          "state": {
            "_model_module": "@jupyter-widgets/base",
            "_model_module_version": "1.2.0",
            "_model_name": "LayoutModel",
            "_view_count": null,
            "_view_module": "@jupyter-widgets/base",
            "_view_module_version": "1.2.0",
            "_view_name": "LayoutView",
            "align_content": null,
            "align_items": null,
            "align_self": null,
            "border": null,
            "bottom": null,
            "display": null,
            "flex": null,
            "flex_flow": null,
            "grid_area": null,
            "grid_auto_columns": null,
            "grid_auto_flow": null,
            "grid_auto_rows": null,
            "grid_column": null,
            "grid_gap": null,
            "grid_row": null,
            "grid_template_areas": null,
            "grid_template_columns": null,
            "grid_template_rows": null,
            "height": null,
            "justify_content": null,
            "justify_items": null,
            "left": null,
            "margin": null,
            "max_height": null,
            "max_width": null,
            "min_height": null,
            "min_width": null,
            "object_fit": null,
            "object_position": null,
            "order": null,
            "overflow": null,
            "overflow_x": null,
            "overflow_y": null,
            "padding": null,
            "right": null,
            "top": null,
            "visibility": null,
            "width": null
          }
        }
      }
    }
  },
  "nbformat": 4,
  "nbformat_minor": 5
}