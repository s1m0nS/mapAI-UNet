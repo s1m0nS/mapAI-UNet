{
  "cells": [
    {
      "cell_type": "markdown",
      "metadata": {
        "id": "view-in-github",
        "colab_type": "text"
      },
      "source": [
        "<a href=\"https://colab.research.google.com/github/s1m0nS/mapAI-UNet/blob/main/UNet_binary_segmentation_mapAI_small-working.ipynb\" target=\"_parent\"><img src=\"https://colab.research.google.com/assets/colab-badge.svg\" alt=\"Open In Colab\"/></a>"
      ]
    },
    {
      "cell_type": "markdown",
      "id": "c657c9b1",
      "metadata": {
        "id": "c657c9b1"
      },
      "source": [
        "### Binary semantic segmentation example using U-Net\n",
        "\n",
        "https://github.com/bnsreenu/python_for_image_processing_APEER/blob/master/tutorial118_binary_semantic_segmentation_using_unet.ipynb"
      ]
    },
    {
      "cell_type": "code",
      "execution_count": 1,
      "id": "a8e8a9f6",
      "metadata": {
        "id": "a8e8a9f6"
      },
      "outputs": [],
      "source": [
        "# Libraries\n",
        "\n",
        "# Change runtime type in Colab\n",
        "\n",
        "import os\n",
        "os.environ['TF_CPP_MIN_LOG_LEVEL'] = '3' # ignore tensorflow warnings\n",
        "os.environ['TF_FORCE_GPU_ALLOW_GROWTH'] = 'true' # allow GPU memory growth\n",
        "\n",
        "import glob\n",
        "\n",
        "import cv2\n",
        "from PIL import Image\n",
        "\n",
        "import numpy as np\n",
        "from matplotlib import pyplot as plt\n",
        "\n",
        "from tensorflow.keras.utils import normalize\n",
        "from sklearn.preprocessing import MinMaxScaler\n",
        "from keras.optimizers import Adam"
      ]
    },
    {
      "cell_type": "code",
      "source": [
        "import tensorflow as tf\n",
        "print(tf.test.gpu_device_name())\n",
        "print('\\n')\n",
        "\n",
        "from tensorflow.python.client import device_lib\n",
        "print(device_lib.list_local_devices())"
      ],
      "metadata": {
        "colab": {
          "base_uri": "https://localhost:8080/"
        },
        "id": "Ps23eD3RQA1q",
        "outputId": "75ebbcdc-0c97-4aba-db76-c4373e096772"
      },
      "id": "Ps23eD3RQA1q",
      "execution_count": 2,
      "outputs": [
        {
          "output_type": "stream",
          "name": "stdout",
          "text": [
            "/device:GPU:0\n",
            "\n",
            "\n",
            "[name: \"/device:CPU:0\"\n",
            "device_type: \"CPU\"\n",
            "memory_limit: 268435456\n",
            "locality {\n",
            "}\n",
            "incarnation: 9282934496042876351\n",
            "xla_global_id: -1\n",
            ", name: \"/device:GPU:0\"\n",
            "device_type: \"GPU\"\n",
            "memory_limit: 14417788928\n",
            "locality {\n",
            "  bus_id: 1\n",
            "  links {\n",
            "  }\n",
            "}\n",
            "incarnation: 16821389325407109416\n",
            "physical_device_desc: \"device: 0, name: Tesla T4, pci bus id: 0000:00:04.0, compute capability: 7.5\"\n",
            "xla_global_id: 416903419\n",
            "]\n"
          ]
        }
      ]
    },
    {
      "cell_type": "code",
      "source": [
        "# Mount Google Drive\n",
        "from google.colab import drive\n",
        "drive.mount('/content/drive/')"
      ],
      "metadata": {
        "colab": {
          "base_uri": "https://localhost:8080/"
        },
        "id": "i8HIq9kwLuy6",
        "outputId": "e97383fe-12a5-4a4b-eed4-c18a54d56b2f"
      },
      "id": "i8HIq9kwLuy6",
      "execution_count": 3,
      "outputs": [
        {
          "output_type": "stream",
          "name": "stdout",
          "text": [
            "Mounted at /content/drive/\n"
          ]
        }
      ]
    },
    {
      "cell_type": "code",
      "source": [
        "# Unzip dataset --> run only in Colab\n",
        "import zipfile\n",
        "\n",
        "# '/content/drive/MyDrive/mapAI_small/mapai_small.zip'\n",
        "\n",
        "mapai_zip = '/content/drive/MyDrive/mapAI_small/mapai_small.zip'\n",
        "zip_ref = zipfile.ZipFile(mapai_zip, 'r')\n",
        "zip_ref.extractall(\"/tmp\") # extracting dataset to tmp folder\n",
        "zip_ref.close()"
      ],
      "metadata": {
        "id": "3FcP1IjpLpcr"
      },
      "id": "3FcP1IjpLpcr",
      "execution_count": 6,
      "outputs": []
    },
    {
      "cell_type": "markdown",
      "source": [
        "# Re-run from here after first run! "
      ],
      "metadata": {
        "id": "mGuQ7uygOB4b"
      },
      "id": "mGuQ7uygOB4b"
    },
    {
      "cell_type": "code",
      "execution_count": 7,
      "id": "0a78c221",
      "metadata": {
        "id": "0a78c221"
      },
      "outputs": [],
      "source": [
        "# Configure paths\n",
        "\n",
        "img_dir = '/tmp/mapai_small/train/images'\n",
        "mask_dir = '/tmp/mapai_small/train/masks'"
      ]
    },
    {
      "cell_type": "code",
      "execution_count": 8,
      "id": "f0c0f468",
      "metadata": {
        "id": "f0c0f468"
      },
      "outputs": [],
      "source": [
        "SIZE = 500\n",
        "num_images = 510"
      ]
    },
    {
      "cell_type": "markdown",
      "id": "5b62c047",
      "metadata": {
        "id": "5b62c047"
      },
      "source": [
        "#### Load images and masks in order so they match."
      ]
    },
    {
      "cell_type": "markdown",
      "id": "b114a83b",
      "metadata": {
        "id": "b114a83b"
      },
      "source": [
        "#### IMAGES"
      ]
    },
    {
      "cell_type": "code",
      "execution_count": 9,
      "id": "c7ab864e",
      "metadata": {
        "colab": {
          "base_uri": "https://localhost:8080/"
        },
        "id": "c7ab864e",
        "outputId": "b095c9af-118b-491d-c1d4-93479008cfd8"
      },
      "outputs": [
        {
          "output_type": "stream",
          "name": "stdout",
          "text": [
            "510\n"
          ]
        }
      ],
      "source": [
        "image_names = glob.glob('/tmp/mapai_small/train/images/*.png')\n",
        "\n",
        "# Create subset\n",
        "image_names_subset = image_names[0:num_images]\n",
        "# Read each subset with cv2\n",
        "images = [cv2.imread(img, 0) for img in image_names_subset]\n",
        "# Create dataset\n",
        "image_dataset = np.array(images)\n",
        "image_dataset = np.expand_dims(image_dataset, axis = 3)\n",
        "\n",
        "print(len(image_dataset))"
      ]
    },
    {
      "cell_type": "markdown",
      "id": "7f71a4ac",
      "metadata": {
        "id": "7f71a4ac"
      },
      "source": [
        "#### MASKS"
      ]
    },
    {
      "cell_type": "code",
      "execution_count": 12,
      "id": "fa17c5fc",
      "metadata": {
        "colab": {
          "base_uri": "https://localhost:8080/"
        },
        "id": "fa17c5fc",
        "outputId": "805acddb-1524-4da0-9fc6-ee90b56ee40f"
      },
      "outputs": [
        {
          "output_type": "stream",
          "name": "stdout",
          "text": [
            "510\n"
          ]
        }
      ],
      "source": [
        "mask_names = glob.glob('/tmp/mapai_small/train/masks/*.png')\n",
        "mask_names.sort()\n",
        "mask_names_subset = mask_names[0:num_images]\n",
        "masks = [cv2.imread(mask, 0) for mask in mask_names_subset]\n",
        "mask_dataset = np.array(masks)\n",
        "mask_dataset = np.expand_dims(mask_dataset, axis = 3)\n",
        "\n",
        "print(len(mask_dataset))"
      ]
    },
    {
      "cell_type": "markdown",
      "id": "43c8cdea",
      "metadata": {
        "id": "43c8cdea"
      },
      "source": [
        "#### Print properties of images"
      ]
    },
    {
      "cell_type": "code",
      "execution_count": 13,
      "id": "02cc1ff9",
      "metadata": {
        "colab": {
          "base_uri": "https://localhost:8080/"
        },
        "id": "02cc1ff9",
        "outputId": "f0285bec-7994-47e3-897b-b35b424e173f"
      },
      "outputs": [
        {
          "output_type": "stream",
          "name": "stdout",
          "text": [
            "Image data shape is:  (510, 500, 500, 1)\n",
            "Mask data shape is:  (510, 500, 500, 1)\n",
            "Max pixel value in image is:  255\n",
            "Labels in the mask are :  [  0 255]\n"
          ]
        }
      ],
      "source": [
        "print(\"Image data shape is: \", image_dataset.shape)\n",
        "print(\"Mask data shape is: \", mask_dataset.shape)\n",
        "print(\"Max pixel value in image is: \", image_dataset.max())\n",
        "print(\"Labels in the mask are : \", np.unique(mask_dataset))"
      ]
    },
    {
      "cell_type": "markdown",
      "id": "9f672d14",
      "metadata": {
        "id": "9f672d14"
      },
      "source": [
        "#### Normalize images\n",
        "Getting OOM errors, maybe need to find a better way to normalize images."
      ]
    },
    {
      "cell_type": "code",
      "execution_count": 14,
      "id": "06394c42",
      "metadata": {
        "id": "06394c42"
      },
      "outputs": [],
      "source": [
        "# IMAGES\n",
        "# Solution: https://stackoverflow.com/questions/62977311/how-can-i-stop-my-colab-notebook-from-crashing-while-normalising-my-images\n",
        "\n",
        "# float16 or float32? Find answer\n",
        "\n",
        "image_dataset = (image_dataset / 255.0).astype(np.float16)  #Can also normalize or scale using MinMax scaler"
      ]
    },
    {
      "cell_type": "code",
      "source": [
        "# Need to figure out a way to lower system RAM after normalization\n",
        "# works in Colab with small datasets"
      ],
      "metadata": {
        "colab": {
          "base_uri": "https://localhost:8080/"
        },
        "id": "6nIuATPKPYvB",
        "outputId": "428b95b7-9a87-4e40-95c8-e47ca4768af6"
      },
      "id": "6nIuATPKPYvB",
      "execution_count": 15,
      "outputs": [
        {
          "output_type": "execute_result",
          "data": {
            "text/plain": [
              "numpy.ndarray"
            ]
          },
          "metadata": {},
          "execution_count": 15
        }
      ]
    },
    {
      "cell_type": "code",
      "source": [
        "# MASKS\n",
        "\n",
        "#Do not normalize masks, just rescale to 0 to 1.\n",
        "mask_dataset = (mask_dataset / 255.0).astype(np.float16)   #PIxel values will be 0 or 1"
      ],
      "metadata": {
        "id": "kHX9z7r5OmaL"
      },
      "id": "kHX9z7r5OmaL",
      "execution_count": 16,
      "outputs": []
    },
    {
      "cell_type": "code",
      "execution_count": null,
      "id": "679b4a0d",
      "metadata": {
        "id": "679b4a0d"
      },
      "outputs": [],
      "source": [
        "# \n",
        "print(len(image_dataset), len(mask_dataset))"
      ]
    },
    {
      "cell_type": "markdown",
      "id": "63b78112",
      "metadata": {
        "id": "63b78112"
      },
      "source": [
        "#### Perform train/test split"
      ]
    },
    {
      "cell_type": "code",
      "execution_count": 17,
      "id": "69916a23",
      "metadata": {
        "id": "69916a23"
      },
      "outputs": [],
      "source": [
        "# Train/test split \n",
        "\n",
        "from sklearn.model_selection import train_test_split\n",
        "\n",
        "X_train, X_test, y_train, y_test = train_test_split(image_dataset, mask_dataset, test_size = 0.20, random_state = 42)"
      ]
    },
    {
      "cell_type": "markdown",
      "id": "d2ca990f",
      "metadata": {
        "id": "d2ca990f"
      },
      "source": [
        "#### Randomly view some images from train and test sample"
      ]
    },
    {
      "cell_type": "code",
      "source": [
        "# needs a solution"
      ],
      "metadata": {
        "id": "33Am4JF7U64K"
      },
      "id": "33Am4JF7U64K",
      "execution_count": 21,
      "outputs": []
    },
    {
      "cell_type": "markdown",
      "source": [
        "### Resize images to approptiate shape for UNet"
      ],
      "metadata": {
        "id": "uq3SMrVnWXJD"
      },
      "id": "uq3SMrVnWXJD"
    },
    {
      "cell_type": "code",
      "source": [
        "def resize(image, mask):\n",
        "    input_image = tf.image.resize(image, (480, 480), method='bicubic')\n",
        "    input_mask = tf.image.resize(mask, (480, 480), method='bicubic')\n",
        "    return input_image, input_mask\n",
        "\n",
        "X_train, y_train = resize(X_train, y_train)\n",
        "X_test, y_test = resize(X_test, y_test)"
      ],
      "metadata": {
        "id": "eymfkI9HWfIN"
      },
      "id": "eymfkI9HWfIN",
      "execution_count": 34,
      "outputs": []
    },
    {
      "cell_type": "markdown",
      "id": "30a46860",
      "metadata": {
        "id": "30a46860"
      },
      "source": [
        "### U-Net\n"
      ]
    },
    {
      "cell_type": "code",
      "execution_count": 65,
      "id": "e5601e44",
      "metadata": {
        "id": "e5601e44"
      },
      "outputs": [],
      "source": [
        "# Building Unet by dividing encoder and decoder into blocks\n",
        "\n",
        "from keras.models import Model\n",
        "from keras.layers import Input, Conv2D, MaxPooling2D, UpSampling2D, concatenate, Conv2DTranspose, BatchNormalization, Dropout, Lambda\n",
        "from keras.optimizers import Adam\n",
        "from keras.layers import Activation, MaxPool2D, Concatenate\n",
        "\n",
        "\n",
        "def conv_block(input, num_filters):\n",
        "    x = Conv2D(num_filters, 3, padding=\"same\")(input)\n",
        "    x = BatchNormalization()(x)   #Not in the original network. \n",
        "    x = Activation(\"relu\")(x)\n",
        "\n",
        "    x = Conv2D(num_filters, 3, padding=\"same\")(x)\n",
        "    x = BatchNormalization()(x)  #Not in the original network\n",
        "    x = Activation(\"relu\")(x)\n",
        "\n",
        "    return x\n",
        "\n",
        "#Encoder block: Conv block followed by maxpooling\n",
        "\n",
        "\n",
        "def encoder_block(input, num_filters):\n",
        "    x = conv_block(input, num_filters)\n",
        "    p = MaxPool2D((2, 2))(x)\n",
        "    return x, p   \n",
        "\n",
        "#Decoder block\n",
        "#skip features gets input from encoder for concatenation\n",
        "\n",
        "def decoder_block(input, skip_features, num_filters):\n",
        "    x = Conv2DTranspose(num_filters, (2, 2), strides=2, padding=\"same\")(input)\n",
        "    x = Concatenate()([x, skip_features])\n",
        "    x = conv_block(x, num_filters)\n",
        "    return x\n",
        "\n",
        "#Build Unet using the blocks\n",
        "def build_unet(input_shape, n_classes):\n",
        "    inputs = Input(input_shape)\n",
        "\n",
        "    s1, p1 = encoder_block(inputs, 60)\n",
        "    s2, p2 = encoder_block(p1, 120)\n",
        "    s3, p3 = encoder_block(p2, 240)\n",
        "    s4, p4 = encoder_block(p3, 480)\n",
        "\n",
        "    b1 = conv_block(p4, 960) #Bridge\n",
        "\n",
        "    d1 = decoder_block(b1, s4, 480)\n",
        "    d2 = decoder_block(d1, s3, 240)\n",
        "    d3 = decoder_block(d2, s2, 120)\n",
        "    d4 = decoder_block(d3, s1, 60)\n",
        "\n",
        "    if n_classes == 1:  #Binary\n",
        "      activation = 'sigmoid'\n",
        "    else:\n",
        "      activation = 'softmax'\n",
        "\n",
        "    outputs = Conv2D(n_classes, 1, padding=\"same\", activation=activation)(d4)  #Change the activation based on n_classes\n",
        "    print(activation)\n",
        "\n",
        "    model = Model(inputs, outputs, name=\"U-Net\")\n",
        "    return model"
      ]
    },
    {
      "cell_type": "code",
      "source": [
        "IMG_HEIGHT = X_train.shape[1]\n",
        "IMG_WIDTH  = X_train.shape[2]\n",
        "IMG_CHANNELS = X_train.shape[3]\n",
        "\n",
        "input_shape = (IMG_HEIGHT, IMG_WIDTH, IMG_CHANNELS)\n",
        "print(input_shape)"
      ],
      "metadata": {
        "colab": {
          "base_uri": "https://localhost:8080/"
        },
        "id": "0h1EvV_bVATK",
        "outputId": "ebfae92c-b96d-49e5-e984-cac03bf43096"
      },
      "id": "0h1EvV_bVATK",
      "execution_count": 44,
      "outputs": [
        {
          "output_type": "stream",
          "name": "stdout",
          "text": [
            "(480, 480, 1)\n"
          ]
        }
      ]
    },
    {
      "cell_type": "code",
      "source": [
        "# Build the model\n",
        "model = build_unet(input_shape, n_classes=1)\n",
        "model.compile(optimizer=Adam(learning_rate = 1e-3), loss='binary_crossentropy', metrics=['accuracy'])\n",
        "model.summary()"
      ],
      "metadata": {
        "colab": {
          "base_uri": "https://localhost:8080/"
        },
        "id": "FIJuTYlIVOuk",
        "outputId": "016b1bec-d58d-413a-999d-aa7cc2446ecb"
      },
      "id": "FIJuTYlIVOuk",
      "execution_count": 66,
      "outputs": [
        {
          "output_type": "stream",
          "name": "stdout",
          "text": [
            "sigmoid\n",
            "Model: \"U-Net\"\n",
            "__________________________________________________________________________________________________\n",
            " Layer (type)                   Output Shape         Param #     Connected to                     \n",
            "==================================================================================================\n",
            " input_4 (InputLayer)           [(None, 480, 480, 1  0           []                               \n",
            "                                )]                                                                \n",
            "                                                                                                  \n",
            " conv2d_43 (Conv2D)             (None, 480, 480, 60  600         ['input_4[0][0]']                \n",
            "                                )                                                                 \n",
            "                                                                                                  \n",
            " batch_normalization_42 (BatchN  (None, 480, 480, 60  240        ['conv2d_43[0][0]']              \n",
            " ormalization)                  )                                                                 \n",
            "                                                                                                  \n",
            " activation_42 (Activation)     (None, 480, 480, 60  0           ['batch_normalization_42[0][0]'] \n",
            "                                )                                                                 \n",
            "                                                                                                  \n",
            " conv2d_44 (Conv2D)             (None, 480, 480, 60  32460       ['activation_42[0][0]']          \n",
            "                                )                                                                 \n",
            "                                                                                                  \n",
            " batch_normalization_43 (BatchN  (None, 480, 480, 60  240        ['conv2d_44[0][0]']              \n",
            " ormalization)                  )                                                                 \n",
            "                                                                                                  \n",
            " activation_43 (Activation)     (None, 480, 480, 60  0           ['batch_normalization_43[0][0]'] \n",
            "                                )                                                                 \n",
            "                                                                                                  \n",
            " max_pooling2d_12 (MaxPooling2D  (None, 240, 240, 60  0          ['activation_43[0][0]']          \n",
            " )                              )                                                                 \n",
            "                                                                                                  \n",
            " conv2d_45 (Conv2D)             (None, 240, 240, 12  64920       ['max_pooling2d_12[0][0]']       \n",
            "                                0)                                                                \n",
            "                                                                                                  \n",
            " batch_normalization_44 (BatchN  (None, 240, 240, 12  480        ['conv2d_45[0][0]']              \n",
            " ormalization)                  0)                                                                \n",
            "                                                                                                  \n",
            " activation_44 (Activation)     (None, 240, 240, 12  0           ['batch_normalization_44[0][0]'] \n",
            "                                0)                                                                \n",
            "                                                                                                  \n",
            " conv2d_46 (Conv2D)             (None, 240, 240, 12  129720      ['activation_44[0][0]']          \n",
            "                                0)                                                                \n",
            "                                                                                                  \n",
            " batch_normalization_45 (BatchN  (None, 240, 240, 12  480        ['conv2d_46[0][0]']              \n",
            " ormalization)                  0)                                                                \n",
            "                                                                                                  \n",
            " activation_45 (Activation)     (None, 240, 240, 12  0           ['batch_normalization_45[0][0]'] \n",
            "                                0)                                                                \n",
            "                                                                                                  \n",
            " max_pooling2d_13 (MaxPooling2D  (None, 120, 120, 12  0          ['activation_45[0][0]']          \n",
            " )                              0)                                                                \n",
            "                                                                                                  \n",
            " conv2d_47 (Conv2D)             (None, 120, 120, 24  259440      ['max_pooling2d_13[0][0]']       \n",
            "                                0)                                                                \n",
            "                                                                                                  \n",
            " batch_normalization_46 (BatchN  (None, 120, 120, 24  960        ['conv2d_47[0][0]']              \n",
            " ormalization)                  0)                                                                \n",
            "                                                                                                  \n",
            " activation_46 (Activation)     (None, 120, 120, 24  0           ['batch_normalization_46[0][0]'] \n",
            "                                0)                                                                \n",
            "                                                                                                  \n",
            " conv2d_48 (Conv2D)             (None, 120, 120, 24  518640      ['activation_46[0][0]']          \n",
            "                                0)                                                                \n",
            "                                                                                                  \n",
            " batch_normalization_47 (BatchN  (None, 120, 120, 24  960        ['conv2d_48[0][0]']              \n",
            " ormalization)                  0)                                                                \n",
            "                                                                                                  \n",
            " activation_47 (Activation)     (None, 120, 120, 24  0           ['batch_normalization_47[0][0]'] \n",
            "                                0)                                                                \n",
            "                                                                                                  \n",
            " max_pooling2d_14 (MaxPooling2D  (None, 60, 60, 240)  0          ['activation_47[0][0]']          \n",
            " )                                                                                                \n",
            "                                                                                                  \n",
            " conv2d_49 (Conv2D)             (None, 60, 60, 480)  1037280     ['max_pooling2d_14[0][0]']       \n",
            "                                                                                                  \n",
            " batch_normalization_48 (BatchN  (None, 60, 60, 480)  1920       ['conv2d_49[0][0]']              \n",
            " ormalization)                                                                                    \n",
            "                                                                                                  \n",
            " activation_48 (Activation)     (None, 60, 60, 480)  0           ['batch_normalization_48[0][0]'] \n",
            "                                                                                                  \n",
            " conv2d_50 (Conv2D)             (None, 60, 60, 480)  2074080     ['activation_48[0][0]']          \n",
            "                                                                                                  \n",
            " batch_normalization_49 (BatchN  (None, 60, 60, 480)  1920       ['conv2d_50[0][0]']              \n",
            " ormalization)                                                                                    \n",
            "                                                                                                  \n",
            " activation_49 (Activation)     (None, 60, 60, 480)  0           ['batch_normalization_49[0][0]'] \n",
            "                                                                                                  \n",
            " max_pooling2d_15 (MaxPooling2D  (None, 30, 30, 480)  0          ['activation_49[0][0]']          \n",
            " )                                                                                                \n",
            "                                                                                                  \n",
            " conv2d_51 (Conv2D)             (None, 30, 30, 960)  4148160     ['max_pooling2d_15[0][0]']       \n",
            "                                                                                                  \n",
            " batch_normalization_50 (BatchN  (None, 30, 30, 960)  3840       ['conv2d_51[0][0]']              \n",
            " ormalization)                                                                                    \n",
            "                                                                                                  \n",
            " activation_50 (Activation)     (None, 30, 30, 960)  0           ['batch_normalization_50[0][0]'] \n",
            "                                                                                                  \n",
            " conv2d_52 (Conv2D)             (None, 30, 30, 960)  8295360     ['activation_50[0][0]']          \n",
            "                                                                                                  \n",
            " batch_normalization_51 (BatchN  (None, 30, 30, 960)  3840       ['conv2d_52[0][0]']              \n",
            " ormalization)                                                                                    \n",
            "                                                                                                  \n",
            " activation_51 (Activation)     (None, 30, 30, 960)  0           ['batch_normalization_51[0][0]'] \n",
            "                                                                                                  \n",
            " conv2d_transpose_8 (Conv2DTran  (None, 60, 60, 480)  1843680    ['activation_51[0][0]']          \n",
            " spose)                                                                                           \n",
            "                                                                                                  \n",
            " concatenate_8 (Concatenate)    (None, 60, 60, 960)  0           ['conv2d_transpose_8[0][0]',     \n",
            "                                                                  'activation_49[0][0]']          \n",
            "                                                                                                  \n",
            " conv2d_53 (Conv2D)             (None, 60, 60, 480)  4147680     ['concatenate_8[0][0]']          \n",
            "                                                                                                  \n",
            " batch_normalization_52 (BatchN  (None, 60, 60, 480)  1920       ['conv2d_53[0][0]']              \n",
            " ormalization)                                                                                    \n",
            "                                                                                                  \n",
            " activation_52 (Activation)     (None, 60, 60, 480)  0           ['batch_normalization_52[0][0]'] \n",
            "                                                                                                  \n",
            " conv2d_54 (Conv2D)             (None, 60, 60, 480)  2074080     ['activation_52[0][0]']          \n",
            "                                                                                                  \n",
            " batch_normalization_53 (BatchN  (None, 60, 60, 480)  1920       ['conv2d_54[0][0]']              \n",
            " ormalization)                                                                                    \n",
            "                                                                                                  \n",
            " activation_53 (Activation)     (None, 60, 60, 480)  0           ['batch_normalization_53[0][0]'] \n",
            "                                                                                                  \n",
            " conv2d_transpose_9 (Conv2DTran  (None, 120, 120, 24  461040     ['activation_53[0][0]']          \n",
            " spose)                         0)                                                                \n",
            "                                                                                                  \n",
            " concatenate_9 (Concatenate)    (None, 120, 120, 48  0           ['conv2d_transpose_9[0][0]',     \n",
            "                                0)                                'activation_47[0][0]']          \n",
            "                                                                                                  \n",
            " conv2d_55 (Conv2D)             (None, 120, 120, 24  1037040     ['concatenate_9[0][0]']          \n",
            "                                0)                                                                \n",
            "                                                                                                  \n",
            " batch_normalization_54 (BatchN  (None, 120, 120, 24  960        ['conv2d_55[0][0]']              \n",
            " ormalization)                  0)                                                                \n",
            "                                                                                                  \n",
            " activation_54 (Activation)     (None, 120, 120, 24  0           ['batch_normalization_54[0][0]'] \n",
            "                                0)                                                                \n",
            "                                                                                                  \n",
            " conv2d_56 (Conv2D)             (None, 120, 120, 24  518640      ['activation_54[0][0]']          \n",
            "                                0)                                                                \n",
            "                                                                                                  \n",
            " batch_normalization_55 (BatchN  (None, 120, 120, 24  960        ['conv2d_56[0][0]']              \n",
            " ormalization)                  0)                                                                \n",
            "                                                                                                  \n",
            " activation_55 (Activation)     (None, 120, 120, 24  0           ['batch_normalization_55[0][0]'] \n",
            "                                0)                                                                \n",
            "                                                                                                  \n",
            " conv2d_transpose_10 (Conv2DTra  (None, 240, 240, 12  115320     ['activation_55[0][0]']          \n",
            " nspose)                        0)                                                                \n",
            "                                                                                                  \n",
            " concatenate_10 (Concatenate)   (None, 240, 240, 24  0           ['conv2d_transpose_10[0][0]',    \n",
            "                                0)                                'activation_45[0][0]']          \n",
            "                                                                                                  \n",
            " conv2d_57 (Conv2D)             (None, 240, 240, 12  259320      ['concatenate_10[0][0]']         \n",
            "                                0)                                                                \n",
            "                                                                                                  \n",
            " batch_normalization_56 (BatchN  (None, 240, 240, 12  480        ['conv2d_57[0][0]']              \n",
            " ormalization)                  0)                                                                \n",
            "                                                                                                  \n",
            " activation_56 (Activation)     (None, 240, 240, 12  0           ['batch_normalization_56[0][0]'] \n",
            "                                0)                                                                \n",
            "                                                                                                  \n",
            " conv2d_58 (Conv2D)             (None, 240, 240, 12  129720      ['activation_56[0][0]']          \n",
            "                                0)                                                                \n",
            "                                                                                                  \n",
            " batch_normalization_57 (BatchN  (None, 240, 240, 12  480        ['conv2d_58[0][0]']              \n",
            " ormalization)                  0)                                                                \n",
            "                                                                                                  \n",
            " activation_57 (Activation)     (None, 240, 240, 12  0           ['batch_normalization_57[0][0]'] \n",
            "                                0)                                                                \n",
            "                                                                                                  \n",
            " conv2d_transpose_11 (Conv2DTra  (None, 480, 480, 60  28860      ['activation_57[0][0]']          \n",
            " nspose)                        )                                                                 \n",
            "                                                                                                  \n",
            " concatenate_11 (Concatenate)   (None, 480, 480, 12  0           ['conv2d_transpose_11[0][0]',    \n",
            "                                0)                                'activation_43[0][0]']          \n",
            "                                                                                                  \n",
            " conv2d_59 (Conv2D)             (None, 480, 480, 60  64860       ['concatenate_11[0][0]']         \n",
            "                                )                                                                 \n",
            "                                                                                                  \n",
            " batch_normalization_58 (BatchN  (None, 480, 480, 60  240        ['conv2d_59[0][0]']              \n",
            " ormalization)                  )                                                                 \n",
            "                                                                                                  \n",
            " activation_58 (Activation)     (None, 480, 480, 60  0           ['batch_normalization_58[0][0]'] \n",
            "                                )                                                                 \n",
            "                                                                                                  \n",
            " conv2d_60 (Conv2D)             (None, 480, 480, 60  32460       ['activation_58[0][0]']          \n",
            "                                )                                                                 \n",
            "                                                                                                  \n",
            " batch_normalization_59 (BatchN  (None, 480, 480, 60  240        ['conv2d_60[0][0]']              \n",
            " ormalization)                  )                                                                 \n",
            "                                                                                                  \n",
            " activation_59 (Activation)     (None, 480, 480, 60  0           ['batch_normalization_59[0][0]'] \n",
            "                                )                                                                 \n",
            "                                                                                                  \n",
            " conv2d_61 (Conv2D)             (None, 480, 480, 1)  61          ['activation_59[0][0]']          \n",
            "                                                                                                  \n",
            "==================================================================================================\n",
            "Total params: 27,295,501\n",
            "Trainable params: 27,284,461\n",
            "Non-trainable params: 11,040\n",
            "__________________________________________________________________________________________________\n"
          ]
        }
      ]
    },
    {
      "cell_type": "markdown",
      "source": [
        "### Train model or at least try\n",
        "https://www.youtube.com/watch?v=7j0yL8A-k4E"
      ],
      "metadata": {
        "id": "MY04uKhtYs9V"
      },
      "id": "MY04uKhtYs9V"
    },
    {
      "cell_type": "code",
      "source": [
        "history = model.fit(X_train, y_train, \n",
        "                    batch_size = 4, \n",
        "                    verbose=1, \n",
        "                    epochs= 5, \n",
        "                    validation_data=(X_test, y_test), \n",
        "                    shuffle=False)\n",
        "\n",
        "# System RAM: 6.9/12.7\n",
        "# GPU RAM: 14.3/15"
      ],
      "metadata": {
        "colab": {
          "base_uri": "https://localhost:8080/"
        },
        "id": "8efvjp2IYnf-",
        "outputId": "4fdc979d-ddab-43b1-ec7b-b470bf3c476f"
      },
      "id": "8efvjp2IYnf-",
      "execution_count": 67,
      "outputs": [
        {
          "output_type": "stream",
          "name": "stdout",
          "text": [
            "Epoch 1/5\n",
            "128/128 [==============================] - 127s 956ms/step - loss: 0.4085 - accuracy: 0.8375 - val_loss: 1.7069 - val_accuracy: 0.8526\n",
            "Epoch 2/5\n",
            "128/128 [==============================] - 119s 933ms/step - loss: 0.3808 - accuracy: 0.8537 - val_loss: 0.4740 - val_accuracy: 0.8526\n",
            "Epoch 3/5\n",
            "128/128 [==============================] - 119s 931ms/step - loss: 0.3825 - accuracy: 0.8541 - val_loss: 0.3967 - val_accuracy: 0.8526\n",
            "Epoch 4/5\n",
            "128/128 [==============================] - 119s 928ms/step - loss: 0.3816 - accuracy: 0.8540 - val_loss: 0.4030 - val_accuracy: 0.8526\n",
            "Epoch 5/5\n",
            "128/128 [==============================] - 119s 927ms/step - loss: 0.3935 - accuracy: 0.8541 - val_loss: 0.3999 - val_accuracy: 0.8526\n"
          ]
        }
      ]
    },
    {
      "cell_type": "code",
      "source": [
        "'''\n",
        "Epoch 1/5\n",
        "128/128 [==============================] - 154s 1s/step - loss: 0.4081 - accuracy: 0.8392 - val_loss: 1.9037 - val_accuracy: 0.7150\n",
        "Epoch 2/5\n",
        "128/128 [==============================] - 121s 945ms/step - loss: 0.3706 - accuracy: 0.8539 - val_loss: 0.4112 - val_accuracy: 0.8526\n",
        "Epoch 3/5\n",
        "128/128 [==============================] - 121s 943ms/step - loss: 0.3821 - accuracy: 0.8533 - val_loss: 0.4009 - val_accuracy: 0.8512\n",
        "Epoch 4/5\n",
        "128/128 [==============================] - 120s 942ms/step - loss: 0.3910 - accuracy: 0.8535 - val_loss: 0.4280 - val_accuracy: 0.8526\n",
        "Epoch 5/5\n",
        "128/128 [==============================] - 121s 943ms/step - loss: 0.3779 - accuracy: 0.8540 - val_loss: 0.7315 - val_accuracy: 0.6046\n",
        "'''"
      ],
      "metadata": {
        "id": "tDPvipjlbSxk"
      },
      "id": "tDPvipjlbSxk",
      "execution_count": null,
      "outputs": []
    },
    {
      "cell_type": "code",
      "source": [
        "#Save the model for future use\n",
        "model.save('/content/drive/MyDrive/models/mapAI_small_5-epochs.hdf5')"
      ],
      "metadata": {
        "colab": {
          "base_uri": "https://localhost:8080/"
        },
        "id": "6wiLdqFJYnpL",
        "outputId": "cf67c3f2-83a8-4b5b-93d9-8ee264a45e67"
      },
      "id": "6wiLdqFJYnpL",
      "execution_count": 73,
      "outputs": [
        {
          "output_type": "stream",
          "name": "stderr",
          "text": [
            "WARNING:tensorflow:Compiled the loaded model, but the compiled metrics have yet to be built. `model.compile_metrics` will be empty until you train or evaluate the model.\n"
          ]
        }
      ]
    },
    {
      "cell_type": "markdown",
      "source": [
        "### Plot training and validation accuracy"
      ],
      "metadata": {
        "id": "PbmMnx4Ibdrc"
      },
      "id": "PbmMnx4Ibdrc"
    },
    {
      "cell_type": "code",
      "source": [
        "#plot the training and validation accuracy and loss at each epoch\n",
        "loss = history.history['loss']\n",
        "val_loss = history.history['val_loss']\n",
        "epochs = range(1, len(loss) + 1)\n",
        "plt.plot(epochs, loss, 'y', label='Training loss')\n",
        "plt.plot(epochs, val_loss, 'r', label='Validation loss')\n",
        "plt.title('Training and validation loss')\n",
        "plt.grid()\n",
        "plt.xlabel('Epochs')\n",
        "plt.ylabel('Loss')\n",
        "plt.legend()\n",
        "plt.show()\n",
        "\n",
        "acc = history.history['accuracy']\n",
        "val_acc = history.history['val_accuracy']\n",
        "plt.plot(epochs, acc, 'y', label='Training acc')\n",
        "plt.plot(epochs, val_acc, 'r', label='Validation acc')\n",
        "plt.title('Training and validation accuracy')\n",
        "plt.grid()\n",
        "plt.xlabel('Epochs')\n",
        "plt.ylabel('Accuracy')\n",
        "plt.legend()\n",
        "plt.show()"
      ],
      "metadata": {
        "colab": {
          "base_uri": "https://localhost:8080/",
          "height": 573
        },
        "id": "IpTYCbcwYnvp",
        "outputId": "d0ccf9b9-f9e5-4037-aa5a-0c7ea07849f3"
      },
      "id": "IpTYCbcwYnvp",
      "execution_count": 74,
      "outputs": [
        {
          "output_type": "display_data",
          "data": {
            "text/plain": [
              "<Figure size 432x288 with 1 Axes>"
            ],
            "image/png": "[encoded data removed]"
          },
          "metadata": {
            "needs_background": "light"
          }
        },
        {
          "output_type": "display_data",
          "data": {
            "text/plain": [
              "<Figure size 432x288 with 1 Axes>"
            ],
            "image/png": "[encoded data removed]"
          },
          "metadata": {
            "needs_background": "light"
          }
        }
      ]
    },
    {
      "cell_type": "markdown",
      "source": [
        "### Load previously saved model"
      ],
      "metadata": {
        "id": "EXu_-5qcbsln"
      },
      "id": "EXu_-5qcbsln"
    },
    {
      "cell_type": "code",
      "source": [
        "#Load previously saved model\n",
        "from keras.models import load_model\n",
        "\n",
        "model_path = '/content/drive/MyDrive/models/mapAI_small_5-epochs.hdf5'\n",
        "\n",
        "model = load_model(model_path, compile=False)"
      ],
      "metadata": {
        "id": "-KUwZOYOYnyP"
      },
      "id": "-KUwZOYOYnyP",
      "execution_count": 75,
      "outputs": []
    },
    {
      "cell_type": "markdown",
      "source": [
        "### Prediction"
      ],
      "metadata": {
        "id": "dzbjXRnRb8Y0"
      },
      "id": "dzbjXRnRb8Y0"
    },
    {
      "cell_type": "code",
      "source": [
        "# IOU threshold\n",
        "y_pred=model.predict(X_test)\n",
        "y_pred_thresholded = y_pred > 0.5"
      ],
      "metadata": {
        "colab": {
          "base_uri": "https://localhost:8080/"
        },
        "id": "h8XD9YiEYn04",
        "outputId": "d8edef0a-1c59-444a-916d-a8f8f18f0543"
      },
      "id": "h8XD9YiEYn04",
      "execution_count": 71,
      "outputs": [
        {
          "output_type": "stream",
          "name": "stdout",
          "text": [
            "4/4 [==============================] - 9s 2s/step\n"
          ]
        }
      ]
    },
    {
      "cell_type": "code",
      "source": [
        "from tensorflow.keras.metrics import MeanIoU\n",
        "\n",
        "# binary classification --> 2 classes\n",
        "n_classes = 2\n",
        "IOU_keras = MeanIoU(num_classes=n_classes)  \n",
        "IOU_keras.update_state(y_pred_thresholded, y_test)\n",
        "print(\"Mean IoU =\", IOU_keras.result().numpy())"
      ],
      "metadata": {
        "colab": {
          "base_uri": "https://localhost:8080/"
        },
        "id": "ySA0TnPmcC4b",
        "outputId": "d3bd738e-e29a-4daa-912c-c626b3095d03"
      },
      "id": "ySA0TnPmcC4b",
      "execution_count": 76,
      "outputs": [
        {
          "output_type": "stream",
          "name": "stdout",
          "text": [
            "Mean IoU = 0.4290469\n"
          ]
        }
      ]
    },
    {
      "cell_type": "code",
      "source": [
        "threshold = 0.5\n",
        "\n",
        "import random\n",
        "\n",
        "test_img_number = random.randint(0, len(X_test)-1)\n",
        "test_img = X_test[test_img_number]\n",
        "ground_truth=y_test[test_img_number]\n",
        "test_img_input=np.expand_dims(test_img, 0)\n",
        "print(test_img_input.shape)\n",
        "prediction = (model.predict(test_img_input)[0,:,:,0] > 0.5).astype(np.uint8)\n",
        "print(prediction.shape)\n",
        "\n",
        "plt.figure(figsize=(16, 8))\n",
        "plt.subplot(231)\n",
        "plt.title('Testing Image')\n",
        "plt.imshow(test_img[:,:,0], cmap='gray')\n",
        "plt.subplot(232)\n",
        "plt.title('Testing Label')\n",
        "plt.imshow(ground_truth[:,:,0], cmap='gray')\n",
        "plt.subplot(233)\n",
        "plt.title('Prediction on test image')\n",
        "plt.imshow(prediction, cmap='gray')\n",
        "\n",
        "plt.show()"
      ],
      "metadata": {
        "colab": {
          "base_uri": "https://localhost:8080/",
          "height": 314
        },
        "id": "ybvqIA3ucSKb",
        "outputId": "7b4f5027-e766-4203-8daf-b4fcadc9b63a"
      },
      "id": "ybvqIA3ucSKb",
      "execution_count": 85,
      "outputs": [
        {
          "output_type": "stream",
          "name": "stdout",
          "text": [
            "(1, 480, 480, 1)\n",
            "1/1 [==============================] - 0s 20ms/step\n",
            "(480, 480)\n"
          ]
        },
        {
          "output_type": "display_data",
          "data": {
            "text/plain": [
              "<Figure size 1152x576 with 3 Axes>"
            ],
            "image/png": "[encoded data removed]"
          },
          "metadata": {
            "needs_background": "light"
          }
        }
      ]
    },
    {
      "cell_type": "markdown",
      "source": [
        "#### Problems\n",
        "\n",
        "\n",
        "\n",
        "\n",
        "*   Test images and labels are different? Why?\n",
        "*   Possible issue at dataset split?\n",
        "*   Check if the mapAI_small dataset was correctly copied.\n",
        "\n",
        "## To solve:\n",
        "*   Plot real color images not gray\n",
        "*   other?\n",
        "\n",
        "Why: https://www.youtube.com/watch?v=coY2IA-oBvw\n",
        "\n",
        "\n",
        "\n"
      ],
      "metadata": {
        "id": "HzvjpYi1c66_"
      },
      "id": "HzvjpYi1c66_"
    },
    {
      "cell_type": "code",
      "source": [],
      "metadata": {
        "id": "DOKNAt64cslG"
      },
      "id": "DOKNAt64cslG",
      "execution_count": null,
      "outputs": []
    }
  ],
  "metadata": {
    "kernelspec": {
      "display_name": "tf",
      "language": "python",
      "name": "tf"
    },
    "language_info": {
      "codemirror_mode": {
        "name": "ipython",
        "version": 3
      },
      "file_extension": ".py",
      "mimetype": "text/x-python",
      "name": "python",
      "nbconvert_exporter": "python",
      "pygments_lexer": "ipython3",
      "version": "3.9.16"
    },
    "colab": {
      "provenance": [],
      "include_colab_link": true
    },
    "accelerator": "GPU",
    "gpuClass": "standard"
  },
  "nbformat": 4,
  "nbformat_minor": 5
}